{
 "cells": [
  {
   "cell_type": "code",
   "execution_count": 1,
   "metadata": {},
   "outputs": [],
   "source": [
    "#Importing all the python's data science lybrary\n",
    "\n",
    "import numpy as np\n",
    "import pandas as pd\n",
    "import matplotlib.pyplot as plt\n",
    "import seaborn as sns\n",
    "%matplotlib inline"
   ]
  },
  {
   "cell_type": "code",
   "execution_count": 2,
   "metadata": {},
   "outputs": [],
   "source": [
    "# Uploading the job_salary_dataset excel file in a variable called data\n",
    "\n",
    "data = pd.read_excel('job_salary_dataset.xlsx')"
   ]
  },
  {
   "cell_type": "code",
   "execution_count": 3,
   "metadata": {
    "scrolled": true
   },
   "outputs": [
    {
     "data": {
      "text/html": [
       "<div>\n",
       "<style scoped>\n",
       "    .dataframe tbody tr th:only-of-type {\n",
       "        vertical-align: middle;\n",
       "    }\n",
       "\n",
       "    .dataframe tbody tr th {\n",
       "        vertical-align: top;\n",
       "    }\n",
       "\n",
       "    .dataframe thead th {\n",
       "        text-align: right;\n",
       "    }\n",
       "</style>\n",
       "<table border=\"1\" class=\"dataframe\">\n",
       "  <thead>\n",
       "    <tr style=\"text-align: right;\">\n",
       "      <th></th>\n",
       "      <th>Title</th>\n",
       "      <th>Ratings</th>\n",
       "      <th>location</th>\n",
       "      <th>Years of Experience</th>\n",
       "      <th>Salary</th>\n",
       "    </tr>\n",
       "  </thead>\n",
       "  <tbody>\n",
       "    <tr>\n",
       "      <th>0</th>\n",
       "      <td>eCommerce Sales Account Coordinator</td>\n",
       "      <td>3.8</td>\n",
       "      <td>Rickmansworth, England</td>\n",
       "      <td>2.0</td>\n",
       "      <td>£27K-£31K</td>\n",
       "    </tr>\n",
       "    <tr>\n",
       "      <th>1</th>\n",
       "      <td>Software Development Engineer - Stress Simulat...</td>\n",
       "      <td>4.5</td>\n",
       "      <td>London, England</td>\n",
       "      <td>3.0</td>\n",
       "      <td>£43K-£66K</td>\n",
       "    </tr>\n",
       "    <tr>\n",
       "      <th>2</th>\n",
       "      <td>Technical Sales Specialist</td>\n",
       "      <td>4.1</td>\n",
       "      <td>Bury St Edmunds, England</td>\n",
       "      <td>NaN</td>\n",
       "      <td>£27K-£44K</td>\n",
       "    </tr>\n",
       "    <tr>\n",
       "      <th>3</th>\n",
       "      <td>Associate</td>\n",
       "      <td>NaN</td>\n",
       "      <td>Wakefield, England</td>\n",
       "      <td>1.0</td>\n",
       "      <td>£18K-£22K</td>\n",
       "    </tr>\n",
       "    <tr>\n",
       "      <th>4</th>\n",
       "      <td>DevOps/Platform Engineer - Manchester</td>\n",
       "      <td>4.2</td>\n",
       "      <td>Manchester, England</td>\n",
       "      <td>3.0</td>\n",
       "      <td>£33K-£41K</td>\n",
       "    </tr>\n",
       "  </tbody>\n",
       "</table>\n",
       "</div>"
      ],
      "text/plain": [
       "                                               Title  Ratings  \\\n",
       "0                eCommerce Sales Account Coordinator      3.8   \n",
       "1  Software Development Engineer - Stress Simulat...      4.5   \n",
       "2                         Technical Sales Specialist      4.1   \n",
       "3                                          Associate      NaN   \n",
       "4              DevOps/Platform Engineer - Manchester      4.2   \n",
       "\n",
       "                   location  Years of Experience        Salary  \n",
       "0    Rickmansworth, England                  2.0  £27K-£31K     \n",
       "1           London, England                  3.0  £43K-£66K     \n",
       "2  Bury St Edmunds, England                  NaN  £27K-£44K     \n",
       "3        Wakefield, England                  1.0  £18K-£22K     \n",
       "4       Manchester, England                  3.0  £33K-£41K     "
      ]
     },
     "execution_count": 3,
     "metadata": {},
     "output_type": "execute_result"
    }
   ],
   "source": [
    "# To see the first 5 rows of this dataset\n",
    "\n",
    "data.head()"
   ]
  },
  {
   "cell_type": "code",
   "execution_count": 4,
   "metadata": {},
   "outputs": [
    {
     "data": {
      "text/html": [
       "<div>\n",
       "<style scoped>\n",
       "    .dataframe tbody tr th:only-of-type {\n",
       "        vertical-align: middle;\n",
       "    }\n",
       "\n",
       "    .dataframe tbody tr th {\n",
       "        vertical-align: top;\n",
       "    }\n",
       "\n",
       "    .dataframe thead th {\n",
       "        text-align: right;\n",
       "    }\n",
       "</style>\n",
       "<table border=\"1\" class=\"dataframe\">\n",
       "  <thead>\n",
       "    <tr style=\"text-align: right;\">\n",
       "      <th></th>\n",
       "      <th>Title</th>\n",
       "      <th>Ratings</th>\n",
       "      <th>location</th>\n",
       "      <th>Years of Experience</th>\n",
       "      <th>Salary</th>\n",
       "    </tr>\n",
       "  </thead>\n",
       "  <tbody>\n",
       "    <tr>\n",
       "      <th>2220</th>\n",
       "      <td>Financial Accountant/Finance Manager</td>\n",
       "      <td>4.2</td>\n",
       "      <td>Kettering\\nNorthamptonshire</td>\n",
       "      <td>4.0</td>\n",
       "      <td>£50,000 - £60,000 per annum</td>\n",
       "    </tr>\n",
       "    <tr>\n",
       "      <th>2221</th>\n",
       "      <td>Platform Engineer - DevOps Terraform CI/CD</td>\n",
       "      <td>4.3</td>\n",
       "      <td>Leeds\\nWest Yorkshire</td>\n",
       "      <td>5.0</td>\n",
       "      <td>£65,000 - £80,000 per annum</td>\n",
       "    </tr>\n",
       "    <tr>\n",
       "      <th>2222</th>\n",
       "      <td>Technical Digital Content Executive</td>\n",
       "      <td>3.9</td>\n",
       "      <td>Manchester\\nLancashire</td>\n",
       "      <td>2.0</td>\n",
       "      <td>£20,000 - £25,000 per annum</td>\n",
       "    </tr>\n",
       "    <tr>\n",
       "      <th>2223</th>\n",
       "      <td>Commercial Gas Engineer - London - £50,000 + V...</td>\n",
       "      <td>4.1</td>\n",
       "      <td>Southwark\\nLondon</td>\n",
       "      <td>3.0</td>\n",
       "      <td>£45,000 - £50,000 per annum</td>\n",
       "    </tr>\n",
       "    <tr>\n",
       "      <th>2224</th>\n",
       "      <td>COMMERCIAL ACCOUNT EXECUTIVE - HERTS / NORTH L...</td>\n",
       "      <td>4.2</td>\n",
       "      <td>London\\nLondon</td>\n",
       "      <td>4.0</td>\n",
       "      <td>£35,000 - £70,000 per annum</td>\n",
       "    </tr>\n",
       "  </tbody>\n",
       "</table>\n",
       "</div>"
      ],
      "text/plain": [
       "                                                  Title  Ratings  \\\n",
       "2220               Financial Accountant/Finance Manager      4.2   \n",
       "2221         Platform Engineer - DevOps Terraform CI/CD      4.3   \n",
       "2222                Technical Digital Content Executive      3.9   \n",
       "2223  Commercial Gas Engineer - London - £50,000 + V...      4.1   \n",
       "2224  COMMERCIAL ACCOUNT EXECUTIVE - HERTS / NORTH L...      4.2   \n",
       "\n",
       "                         location  Years of Experience  \\\n",
       "2220  Kettering\\nNorthamptonshire                  4.0   \n",
       "2221        Leeds\\nWest Yorkshire                  5.0   \n",
       "2222       Manchester\\nLancashire                  2.0   \n",
       "2223            Southwark\\nLondon                  3.0   \n",
       "2224               London\\nLondon                  4.0   \n",
       "\n",
       "                           Salary  \n",
       "2220  £50,000 - £60,000 per annum  \n",
       "2221  £65,000 - £80,000 per annum  \n",
       "2222  £20,000 - £25,000 per annum  \n",
       "2223  £45,000 - £50,000 per annum  \n",
       "2224  £35,000 - £70,000 per annum  "
      ]
     },
     "execution_count": 4,
     "metadata": {},
     "output_type": "execute_result"
    }
   ],
   "source": [
    "# To see the last 5 rows of this dataset\n",
    "\n",
    "data.tail()"
   ]
  },
  {
   "cell_type": "code",
   "execution_count": 5,
   "metadata": {},
   "outputs": [
    {
     "data": {
      "text/plain": [
       "2225"
      ]
     },
     "execution_count": 5,
     "metadata": {},
     "output_type": "execute_result"
    }
   ],
   "source": [
    "# Length of the dataset. The dataset has 2225 rows\n",
    "\n",
    "len(data)"
   ]
  },
  {
   "cell_type": "code",
   "execution_count": 6,
   "metadata": {},
   "outputs": [
    {
     "name": "stdout",
     "output_type": "stream",
     "text": [
      "<class 'pandas.core.frame.DataFrame'>\n",
      "RangeIndex: 2225 entries, 0 to 2224\n",
      "Data columns (total 5 columns):\n",
      " #   Column               Non-Null Count  Dtype  \n",
      "---  ------               --------------  -----  \n",
      " 0   Title                2183 non-null   object \n",
      " 1   Ratings              2127 non-null   float64\n",
      " 2   location             2225 non-null   object \n",
      " 3   Years of Experience  2100 non-null   float64\n",
      " 4   Salary               2225 non-null   object \n",
      "dtypes: float64(2), object(3)\n",
      "memory usage: 87.0+ KB\n"
     ]
    }
   ],
   "source": [
    "# To see all the data counts of each columns\n",
    "\n",
    "data.info()"
   ]
  },
  {
   "cell_type": "markdown",
   "metadata": {},
   "source": [
    "## Feature Engineering"
   ]
  },
  {
   "cell_type": "markdown",
   "metadata": {},
   "source": [
    "***"
   ]
  },
  {
   "cell_type": "code",
   "execution_count": 7,
   "metadata": {},
   "outputs": [],
   "source": [
    "# Spliting the first city location from each location on the location column\n",
    "\n",
    "arr = []\n",
    "for i in range(904):\n",
    "    k = data['location'][i].split(',')[0]\n",
    "    arr.append(k)\n",
    "    \n",
    "for i in range(904,len(data)):\n",
    "    j = data['location'][i].split('\\n')[0]\n",
    "    arr.append(j)"
   ]
  },
  {
   "cell_type": "code",
   "execution_count": 8,
   "metadata": {},
   "outputs": [],
   "source": [
    "a = pd.DataFrame(data=arr, columns=[\"location_inside\"])"
   ]
  },
  {
   "cell_type": "code",
   "execution_count": 9,
   "metadata": {},
   "outputs": [],
   "source": [
    "data['location_inside'] = a"
   ]
  },
  {
   "cell_type": "code",
   "execution_count": 10,
   "metadata": {},
   "outputs": [
    {
     "data": {
      "text/html": [
       "<div>\n",
       "<style scoped>\n",
       "    .dataframe tbody tr th:only-of-type {\n",
       "        vertical-align: middle;\n",
       "    }\n",
       "\n",
       "    .dataframe tbody tr th {\n",
       "        vertical-align: top;\n",
       "    }\n",
       "\n",
       "    .dataframe thead th {\n",
       "        text-align: right;\n",
       "    }\n",
       "</style>\n",
       "<table border=\"1\" class=\"dataframe\">\n",
       "  <thead>\n",
       "    <tr style=\"text-align: right;\">\n",
       "      <th></th>\n",
       "      <th>Title</th>\n",
       "      <th>Ratings</th>\n",
       "      <th>location</th>\n",
       "      <th>Years of Experience</th>\n",
       "      <th>Salary</th>\n",
       "      <th>location_inside</th>\n",
       "    </tr>\n",
       "  </thead>\n",
       "  <tbody>\n",
       "    <tr>\n",
       "      <th>0</th>\n",
       "      <td>eCommerce Sales Account Coordinator</td>\n",
       "      <td>3.8</td>\n",
       "      <td>Rickmansworth, England</td>\n",
       "      <td>2.0</td>\n",
       "      <td>£27K-£31K</td>\n",
       "      <td>Rickmansworth</td>\n",
       "    </tr>\n",
       "    <tr>\n",
       "      <th>1</th>\n",
       "      <td>Software Development Engineer - Stress Simulat...</td>\n",
       "      <td>4.5</td>\n",
       "      <td>London, England</td>\n",
       "      <td>3.0</td>\n",
       "      <td>£43K-£66K</td>\n",
       "      <td>London</td>\n",
       "    </tr>\n",
       "    <tr>\n",
       "      <th>2</th>\n",
       "      <td>Technical Sales Specialist</td>\n",
       "      <td>4.1</td>\n",
       "      <td>Bury St Edmunds, England</td>\n",
       "      <td>NaN</td>\n",
       "      <td>£27K-£44K</td>\n",
       "      <td>Bury St Edmunds</td>\n",
       "    </tr>\n",
       "    <tr>\n",
       "      <th>3</th>\n",
       "      <td>Associate</td>\n",
       "      <td>NaN</td>\n",
       "      <td>Wakefield, England</td>\n",
       "      <td>1.0</td>\n",
       "      <td>£18K-£22K</td>\n",
       "      <td>Wakefield</td>\n",
       "    </tr>\n",
       "    <tr>\n",
       "      <th>4</th>\n",
       "      <td>DevOps/Platform Engineer - Manchester</td>\n",
       "      <td>4.2</td>\n",
       "      <td>Manchester, England</td>\n",
       "      <td>3.0</td>\n",
       "      <td>£33K-£41K</td>\n",
       "      <td>Manchester</td>\n",
       "    </tr>\n",
       "  </tbody>\n",
       "</table>\n",
       "</div>"
      ],
      "text/plain": [
       "                                               Title  Ratings  \\\n",
       "0                eCommerce Sales Account Coordinator      3.8   \n",
       "1  Software Development Engineer - Stress Simulat...      4.5   \n",
       "2                         Technical Sales Specialist      4.1   \n",
       "3                                          Associate      NaN   \n",
       "4              DevOps/Platform Engineer - Manchester      4.2   \n",
       "\n",
       "                   location  Years of Experience        Salary  \\\n",
       "0    Rickmansworth, England                  2.0  £27K-£31K      \n",
       "1           London, England                  3.0  £43K-£66K      \n",
       "2  Bury St Edmunds, England                  NaN  £27K-£44K      \n",
       "3        Wakefield, England                  1.0  £18K-£22K      \n",
       "4       Manchester, England                  3.0  £33K-£41K      \n",
       "\n",
       "   location_inside  \n",
       "0    Rickmansworth  \n",
       "1           London  \n",
       "2  Bury St Edmunds  \n",
       "3        Wakefield  \n",
       "4       Manchester  "
      ]
     },
     "execution_count": 10,
     "metadata": {},
     "output_type": "execute_result"
    }
   ],
   "source": [
    "data.head()"
   ]
  },
  {
   "cell_type": "code",
   "execution_count": null,
   "metadata": {},
   "outputs": [],
   "source": []
  },
  {
   "cell_type": "code",
   "execution_count": 11,
   "metadata": {},
   "outputs": [],
   "source": [
    "# Calculating the average value of each salary\n",
    "\n",
    "arrr = []\n",
    "for i in range(904):\n",
    "    t = (int(data['Salary'][i].split('-')[0].split('K')[0][1:]) + int(data['Salary'][i].split('-')[1].split('K')[0][1:]))/2\n",
    "    arrr.append(t)\n",
    "    \n",
    "for i in range(904, len(data)):\n",
    "    s = (int(data['Salary'][i].split()[0].split(',')[0][1:]) + int(data['Salary'][i].split()[2].split(',')[0][1:]))/2\n",
    "    arrr.append(s)"
   ]
  },
  {
   "cell_type": "code",
   "execution_count": 12,
   "metadata": {},
   "outputs": [],
   "source": [
    "b = pd.DataFrame(data=arrr, columns=[\"salary_avg\"])"
   ]
  },
  {
   "cell_type": "code",
   "execution_count": 13,
   "metadata": {},
   "outputs": [],
   "source": [
    "data['salary_avg'] = b"
   ]
  },
  {
   "cell_type": "code",
   "execution_count": 14,
   "metadata": {},
   "outputs": [
    {
     "data": {
      "text/html": [
       "<div>\n",
       "<style scoped>\n",
       "    .dataframe tbody tr th:only-of-type {\n",
       "        vertical-align: middle;\n",
       "    }\n",
       "\n",
       "    .dataframe tbody tr th {\n",
       "        vertical-align: top;\n",
       "    }\n",
       "\n",
       "    .dataframe thead th {\n",
       "        text-align: right;\n",
       "    }\n",
       "</style>\n",
       "<table border=\"1\" class=\"dataframe\">\n",
       "  <thead>\n",
       "    <tr style=\"text-align: right;\">\n",
       "      <th></th>\n",
       "      <th>Title</th>\n",
       "      <th>Ratings</th>\n",
       "      <th>location</th>\n",
       "      <th>Years of Experience</th>\n",
       "      <th>Salary</th>\n",
       "      <th>location_inside</th>\n",
       "      <th>salary_avg</th>\n",
       "    </tr>\n",
       "  </thead>\n",
       "  <tbody>\n",
       "    <tr>\n",
       "      <th>0</th>\n",
       "      <td>eCommerce Sales Account Coordinator</td>\n",
       "      <td>3.8</td>\n",
       "      <td>Rickmansworth, England</td>\n",
       "      <td>2.0</td>\n",
       "      <td>£27K-£31K</td>\n",
       "      <td>Rickmansworth</td>\n",
       "      <td>29.0</td>\n",
       "    </tr>\n",
       "    <tr>\n",
       "      <th>1</th>\n",
       "      <td>Software Development Engineer - Stress Simulat...</td>\n",
       "      <td>4.5</td>\n",
       "      <td>London, England</td>\n",
       "      <td>3.0</td>\n",
       "      <td>£43K-£66K</td>\n",
       "      <td>London</td>\n",
       "      <td>54.5</td>\n",
       "    </tr>\n",
       "    <tr>\n",
       "      <th>2</th>\n",
       "      <td>Technical Sales Specialist</td>\n",
       "      <td>4.1</td>\n",
       "      <td>Bury St Edmunds, England</td>\n",
       "      <td>NaN</td>\n",
       "      <td>£27K-£44K</td>\n",
       "      <td>Bury St Edmunds</td>\n",
       "      <td>35.5</td>\n",
       "    </tr>\n",
       "    <tr>\n",
       "      <th>3</th>\n",
       "      <td>Associate</td>\n",
       "      <td>NaN</td>\n",
       "      <td>Wakefield, England</td>\n",
       "      <td>1.0</td>\n",
       "      <td>£18K-£22K</td>\n",
       "      <td>Wakefield</td>\n",
       "      <td>20.0</td>\n",
       "    </tr>\n",
       "    <tr>\n",
       "      <th>4</th>\n",
       "      <td>DevOps/Platform Engineer - Manchester</td>\n",
       "      <td>4.2</td>\n",
       "      <td>Manchester, England</td>\n",
       "      <td>3.0</td>\n",
       "      <td>£33K-£41K</td>\n",
       "      <td>Manchester</td>\n",
       "      <td>37.0</td>\n",
       "    </tr>\n",
       "  </tbody>\n",
       "</table>\n",
       "</div>"
      ],
      "text/plain": [
       "                                               Title  Ratings  \\\n",
       "0                eCommerce Sales Account Coordinator      3.8   \n",
       "1  Software Development Engineer - Stress Simulat...      4.5   \n",
       "2                         Technical Sales Specialist      4.1   \n",
       "3                                          Associate      NaN   \n",
       "4              DevOps/Platform Engineer - Manchester      4.2   \n",
       "\n",
       "                   location  Years of Experience        Salary  \\\n",
       "0    Rickmansworth, England                  2.0  £27K-£31K      \n",
       "1           London, England                  3.0  £43K-£66K      \n",
       "2  Bury St Edmunds, England                  NaN  £27K-£44K      \n",
       "3        Wakefield, England                  1.0  £18K-£22K      \n",
       "4       Manchester, England                  3.0  £33K-£41K      \n",
       "\n",
       "   location_inside  salary_avg  \n",
       "0    Rickmansworth        29.0  \n",
       "1           London        54.5  \n",
       "2  Bury St Edmunds        35.5  \n",
       "3        Wakefield        20.0  \n",
       "4       Manchester        37.0  "
      ]
     },
     "execution_count": 14,
     "metadata": {},
     "output_type": "execute_result"
    }
   ],
   "source": [
    "data.head()"
   ]
  },
  {
   "cell_type": "code",
   "execution_count": 15,
   "metadata": {},
   "outputs": [
    {
     "data": {
      "text/plain": [
       "London           665\n",
       "Manchester        65\n",
       "Edinburgh         48\n",
       "Bristol           40\n",
       "Leeds             39\n",
       "Glasgow           29\n",
       "Reading           25\n",
       "Birmingham        23\n",
       "Nottingham        23\n",
       "Oxford            22\n",
       "Liverpool         20\n",
       "Milton Keynes     19\n",
       "Dundee            18\n",
       "Cambridge         16\n",
       "Sheffield         16\n",
       "Bath              14\n",
       "Derby             14\n",
       "High Wycombe      14\n",
       "Peterborough      12\n",
       "Aberdeen          12\n",
       "Name: location_inside, dtype: int64"
      ]
     },
     "execution_count": 15,
     "metadata": {},
     "output_type": "execute_result"
    }
   ],
   "source": [
    "# To see the number of job posts in the cities\n",
    "\n",
    "data['location_inside'].value_counts().head(20)"
   ]
  },
  {
   "cell_type": "code",
   "execution_count": 16,
   "metadata": {},
   "outputs": [],
   "source": [
    "# location_inside is a text categorical features. So, it should be transformed\n",
    "# into numeric category\n",
    "# An ordinal order is used for each location using python's map function\n",
    "\n",
    "data['location_inside'].value_counts().to_dict()\n",
    "data_frequency_map1 = data['location_inside'].value_counts().to_dict()\n",
    "data['location_ordinal'] = data['location_inside'].map(data_frequency_map1)"
   ]
  },
  {
   "cell_type": "code",
   "execution_count": 17,
   "metadata": {},
   "outputs": [
    {
     "data": {
      "text/html": [
       "<div>\n",
       "<style scoped>\n",
       "    .dataframe tbody tr th:only-of-type {\n",
       "        vertical-align: middle;\n",
       "    }\n",
       "\n",
       "    .dataframe tbody tr th {\n",
       "        vertical-align: top;\n",
       "    }\n",
       "\n",
       "    .dataframe thead th {\n",
       "        text-align: right;\n",
       "    }\n",
       "</style>\n",
       "<table border=\"1\" class=\"dataframe\">\n",
       "  <thead>\n",
       "    <tr style=\"text-align: right;\">\n",
       "      <th></th>\n",
       "      <th>Title</th>\n",
       "      <th>Ratings</th>\n",
       "      <th>location</th>\n",
       "      <th>Years of Experience</th>\n",
       "      <th>Salary</th>\n",
       "      <th>location_inside</th>\n",
       "      <th>salary_avg</th>\n",
       "      <th>location_ordinal</th>\n",
       "    </tr>\n",
       "  </thead>\n",
       "  <tbody>\n",
       "    <tr>\n",
       "      <th>0</th>\n",
       "      <td>eCommerce Sales Account Coordinator</td>\n",
       "      <td>3.8</td>\n",
       "      <td>Rickmansworth, England</td>\n",
       "      <td>2.0</td>\n",
       "      <td>£27K-£31K</td>\n",
       "      <td>Rickmansworth</td>\n",
       "      <td>29.0</td>\n",
       "      <td>1</td>\n",
       "    </tr>\n",
       "    <tr>\n",
       "      <th>1</th>\n",
       "      <td>Software Development Engineer - Stress Simulat...</td>\n",
       "      <td>4.5</td>\n",
       "      <td>London, England</td>\n",
       "      <td>3.0</td>\n",
       "      <td>£43K-£66K</td>\n",
       "      <td>London</td>\n",
       "      <td>54.5</td>\n",
       "      <td>665</td>\n",
       "    </tr>\n",
       "    <tr>\n",
       "      <th>2</th>\n",
       "      <td>Technical Sales Specialist</td>\n",
       "      <td>4.1</td>\n",
       "      <td>Bury St Edmunds, England</td>\n",
       "      <td>NaN</td>\n",
       "      <td>£27K-£44K</td>\n",
       "      <td>Bury St Edmunds</td>\n",
       "      <td>35.5</td>\n",
       "      <td>2</td>\n",
       "    </tr>\n",
       "    <tr>\n",
       "      <th>3</th>\n",
       "      <td>Associate</td>\n",
       "      <td>NaN</td>\n",
       "      <td>Wakefield, England</td>\n",
       "      <td>1.0</td>\n",
       "      <td>£18K-£22K</td>\n",
       "      <td>Wakefield</td>\n",
       "      <td>20.0</td>\n",
       "      <td>6</td>\n",
       "    </tr>\n",
       "    <tr>\n",
       "      <th>4</th>\n",
       "      <td>DevOps/Platform Engineer - Manchester</td>\n",
       "      <td>4.2</td>\n",
       "      <td>Manchester, England</td>\n",
       "      <td>3.0</td>\n",
       "      <td>£33K-£41K</td>\n",
       "      <td>Manchester</td>\n",
       "      <td>37.0</td>\n",
       "      <td>65</td>\n",
       "    </tr>\n",
       "  </tbody>\n",
       "</table>\n",
       "</div>"
      ],
      "text/plain": [
       "                                               Title  Ratings  \\\n",
       "0                eCommerce Sales Account Coordinator      3.8   \n",
       "1  Software Development Engineer - Stress Simulat...      4.5   \n",
       "2                         Technical Sales Specialist      4.1   \n",
       "3                                          Associate      NaN   \n",
       "4              DevOps/Platform Engineer - Manchester      4.2   \n",
       "\n",
       "                   location  Years of Experience        Salary  \\\n",
       "0    Rickmansworth, England                  2.0  £27K-£31K      \n",
       "1           London, England                  3.0  £43K-£66K      \n",
       "2  Bury St Edmunds, England                  NaN  £27K-£44K      \n",
       "3        Wakefield, England                  1.0  £18K-£22K      \n",
       "4       Manchester, England                  3.0  £33K-£41K      \n",
       "\n",
       "   location_inside  salary_avg  location_ordinal  \n",
       "0    Rickmansworth        29.0                 1  \n",
       "1           London        54.5               665  \n",
       "2  Bury St Edmunds        35.5                 2  \n",
       "3        Wakefield        20.0                 6  \n",
       "4       Manchester        37.0                65  "
      ]
     },
     "execution_count": 17,
     "metadata": {},
     "output_type": "execute_result"
    }
   ],
   "source": [
    "data.head()"
   ]
  },
  {
   "cell_type": "code",
   "execution_count": 18,
   "metadata": {},
   "outputs": [],
   "source": [
    "# Droping the 'Title', 'location', 'Salary', 'location_inside' columns. Because these have text\n",
    "# categorical features\n",
    "\n",
    "data.drop(['Title', 'location', 'Salary', 'location_inside'], axis=1, inplace=True)"
   ]
  },
  {
   "cell_type": "code",
   "execution_count": 19,
   "metadata": {},
   "outputs": [
    {
     "data": {
      "text/html": [
       "<div>\n",
       "<style scoped>\n",
       "    .dataframe tbody tr th:only-of-type {\n",
       "        vertical-align: middle;\n",
       "    }\n",
       "\n",
       "    .dataframe tbody tr th {\n",
       "        vertical-align: top;\n",
       "    }\n",
       "\n",
       "    .dataframe thead th {\n",
       "        text-align: right;\n",
       "    }\n",
       "</style>\n",
       "<table border=\"1\" class=\"dataframe\">\n",
       "  <thead>\n",
       "    <tr style=\"text-align: right;\">\n",
       "      <th></th>\n",
       "      <th>Ratings</th>\n",
       "      <th>Years of Experience</th>\n",
       "      <th>salary_avg</th>\n",
       "      <th>location_ordinal</th>\n",
       "    </tr>\n",
       "  </thead>\n",
       "  <tbody>\n",
       "    <tr>\n",
       "      <th>0</th>\n",
       "      <td>3.8</td>\n",
       "      <td>2.0</td>\n",
       "      <td>29.0</td>\n",
       "      <td>1</td>\n",
       "    </tr>\n",
       "    <tr>\n",
       "      <th>1</th>\n",
       "      <td>4.5</td>\n",
       "      <td>3.0</td>\n",
       "      <td>54.5</td>\n",
       "      <td>665</td>\n",
       "    </tr>\n",
       "    <tr>\n",
       "      <th>2</th>\n",
       "      <td>4.1</td>\n",
       "      <td>NaN</td>\n",
       "      <td>35.5</td>\n",
       "      <td>2</td>\n",
       "    </tr>\n",
       "    <tr>\n",
       "      <th>3</th>\n",
       "      <td>NaN</td>\n",
       "      <td>1.0</td>\n",
       "      <td>20.0</td>\n",
       "      <td>6</td>\n",
       "    </tr>\n",
       "    <tr>\n",
       "      <th>4</th>\n",
       "      <td>4.2</td>\n",
       "      <td>3.0</td>\n",
       "      <td>37.0</td>\n",
       "      <td>65</td>\n",
       "    </tr>\n",
       "    <tr>\n",
       "      <th>5</th>\n",
       "      <td>4.4</td>\n",
       "      <td>3.0</td>\n",
       "      <td>35.0</td>\n",
       "      <td>65</td>\n",
       "    </tr>\n",
       "    <tr>\n",
       "      <th>6</th>\n",
       "      <td>3.8</td>\n",
       "      <td>2.0</td>\n",
       "      <td>48.5</td>\n",
       "      <td>665</td>\n",
       "    </tr>\n",
       "    <tr>\n",
       "      <th>7</th>\n",
       "      <td>4.2</td>\n",
       "      <td>3.0</td>\n",
       "      <td>80.0</td>\n",
       "      <td>665</td>\n",
       "    </tr>\n",
       "    <tr>\n",
       "      <th>8</th>\n",
       "      <td>NaN</td>\n",
       "      <td>5.0</td>\n",
       "      <td>45.0</td>\n",
       "      <td>2</td>\n",
       "    </tr>\n",
       "    <tr>\n",
       "      <th>9</th>\n",
       "      <td>3.4</td>\n",
       "      <td>3.0</td>\n",
       "      <td>19.0</td>\n",
       "      <td>4</td>\n",
       "    </tr>\n",
       "  </tbody>\n",
       "</table>\n",
       "</div>"
      ],
      "text/plain": [
       "   Ratings  Years of Experience  salary_avg  location_ordinal\n",
       "0      3.8                  2.0        29.0                 1\n",
       "1      4.5                  3.0        54.5               665\n",
       "2      4.1                  NaN        35.5                 2\n",
       "3      NaN                  1.0        20.0                 6\n",
       "4      4.2                  3.0        37.0                65\n",
       "5      4.4                  3.0        35.0                65\n",
       "6      3.8                  2.0        48.5               665\n",
       "7      4.2                  3.0        80.0               665\n",
       "8      NaN                  5.0        45.0                 2\n",
       "9      3.4                  3.0        19.0                 4"
      ]
     },
     "execution_count": 19,
     "metadata": {},
     "output_type": "execute_result"
    }
   ],
   "source": [
    "data.head(10)"
   ]
  },
  {
   "cell_type": "code",
   "execution_count": 20,
   "metadata": {},
   "outputs": [
    {
     "data": {
      "text/plain": [
       "Ratings                 98\n",
       "Years of Experience    125\n",
       "salary_avg               0\n",
       "location_ordinal         0\n",
       "dtype: int64"
      ]
     },
     "execution_count": 20,
     "metadata": {},
     "output_type": "execute_result"
    }
   ],
   "source": [
    "# Counts of the null values of features\n",
    "\n",
    "data.isnull().sum()"
   ]
  },
  {
   "cell_type": "code",
   "execution_count": 21,
   "metadata": {},
   "outputs": [
    {
     "data": {
      "text/plain": [
       "<matplotlib.axes._subplots.AxesSubplot at 0x182907505c8>"
      ]
     },
     "execution_count": 21,
     "metadata": {},
     "output_type": "execute_result"
    },
    {
     "data": {
      "image/png": "[encoded data removed]",
      "text/plain": [
       "<Figure size 720x216 with 1 Axes>"
      ]
     },
     "metadata": {},
     "output_type": "display_data"
    }
   ],
   "source": [
    "# A better way to see the null values with seaborn's visualization plot function\n",
    "\n",
    "sns.set(rc={'figure.figsize':(10,3)})\n",
    "sns.heatmap(data.isnull(), yticklabels=False, cbar=False, cmap='viridis')"
   ]
  },
  {
   "cell_type": "code",
   "execution_count": 22,
   "metadata": {},
   "outputs": [],
   "source": [
    "# removing all the null values\n",
    "\n",
    "data.dropna(inplace=True)"
   ]
  },
  {
   "cell_type": "code",
   "execution_count": 23,
   "metadata": {},
   "outputs": [
    {
     "data": {
      "text/plain": [
       "Ratings                0\n",
       "Years of Experience    0\n",
       "salary_avg             0\n",
       "location_ordinal       0\n",
       "dtype: int64"
      ]
     },
     "execution_count": 23,
     "metadata": {},
     "output_type": "execute_result"
    }
   ],
   "source": [
    "#Checking the null values again\n",
    "\n",
    "data.isnull().sum()"
   ]
  },
  {
   "cell_type": "markdown",
   "metadata": {},
   "source": [
    "***"
   ]
  },
  {
   "cell_type": "markdown",
   "metadata": {},
   "source": [
    "## Data Analysis"
   ]
  },
  {
   "cell_type": "markdown",
   "metadata": {},
   "source": [
    "***"
   ]
  },
  {
   "cell_type": "code",
   "execution_count": 24,
   "metadata": {},
   "outputs": [
    {
     "data": {
      "text/html": [
       "<div>\n",
       "<style scoped>\n",
       "    .dataframe tbody tr th:only-of-type {\n",
       "        vertical-align: middle;\n",
       "    }\n",
       "\n",
       "    .dataframe tbody tr th {\n",
       "        vertical-align: top;\n",
       "    }\n",
       "\n",
       "    .dataframe thead th {\n",
       "        text-align: right;\n",
       "    }\n",
       "</style>\n",
       "<table border=\"1\" class=\"dataframe\">\n",
       "  <thead>\n",
       "    <tr style=\"text-align: right;\">\n",
       "      <th></th>\n",
       "      <th>Ratings</th>\n",
       "      <th>Years of Experience</th>\n",
       "      <th>salary_avg</th>\n",
       "      <th>location_ordinal</th>\n",
       "    </tr>\n",
       "  </thead>\n",
       "  <tbody>\n",
       "    <tr>\n",
       "      <th>count</th>\n",
       "      <td>2018.000000</td>\n",
       "      <td>2018.000000</td>\n",
       "      <td>2018.000000</td>\n",
       "      <td>2018.000000</td>\n",
       "    </tr>\n",
       "    <tr>\n",
       "      <th>mean</th>\n",
       "      <td>4.022200</td>\n",
       "      <td>2.836472</td>\n",
       "      <td>39.254212</td>\n",
       "      <td>205.657582</td>\n",
       "    </tr>\n",
       "    <tr>\n",
       "      <th>std</th>\n",
       "      <td>0.263124</td>\n",
       "      <td>1.157853</td>\n",
       "      <td>18.697082</td>\n",
       "      <td>298.107834</td>\n",
       "    </tr>\n",
       "    <tr>\n",
       "      <th>min</th>\n",
       "      <td>3.100000</td>\n",
       "      <td>1.000000</td>\n",
       "      <td>11.000000</td>\n",
       "      <td>1.000000</td>\n",
       "    </tr>\n",
       "    <tr>\n",
       "      <th>25%</th>\n",
       "      <td>3.900000</td>\n",
       "      <td>2.000000</td>\n",
       "      <td>25.000000</td>\n",
       "      <td>4.000000</td>\n",
       "    </tr>\n",
       "    <tr>\n",
       "      <th>50%</th>\n",
       "      <td>4.000000</td>\n",
       "      <td>3.000000</td>\n",
       "      <td>35.000000</td>\n",
       "      <td>12.000000</td>\n",
       "    </tr>\n",
       "    <tr>\n",
       "      <th>75%</th>\n",
       "      <td>4.200000</td>\n",
       "      <td>3.000000</td>\n",
       "      <td>47.500000</td>\n",
       "      <td>665.000000</td>\n",
       "    </tr>\n",
       "    <tr>\n",
       "      <th>max</th>\n",
       "      <td>5.000000</td>\n",
       "      <td>7.000000</td>\n",
       "      <td>128.000000</td>\n",
       "      <td>665.000000</td>\n",
       "    </tr>\n",
       "  </tbody>\n",
       "</table>\n",
       "</div>"
      ],
      "text/plain": [
       "           Ratings  Years of Experience   salary_avg  location_ordinal\n",
       "count  2018.000000          2018.000000  2018.000000       2018.000000\n",
       "mean      4.022200             2.836472    39.254212        205.657582\n",
       "std       0.263124             1.157853    18.697082        298.107834\n",
       "min       3.100000             1.000000    11.000000          1.000000\n",
       "25%       3.900000             2.000000    25.000000          4.000000\n",
       "50%       4.000000             3.000000    35.000000         12.000000\n",
       "75%       4.200000             3.000000    47.500000        665.000000\n",
       "max       5.000000             7.000000   128.000000        665.000000"
      ]
     },
     "execution_count": 24,
     "metadata": {},
     "output_type": "execute_result"
    }
   ],
   "source": [
    "# To see a brief overview of the statistical method or operation of the dataset\n",
    "\n",
    "data.describe()"
   ]
  },
  {
   "cell_type": "code",
   "execution_count": 25,
   "metadata": {},
   "outputs": [
    {
     "data": {
      "text/plain": [
       "Ratings                 3.1\n",
       "Years of Experience     1.0\n",
       "salary_avg             11.0\n",
       "location_ordinal        1.0\n",
       "dtype: float64"
      ]
     },
     "execution_count": 25,
     "metadata": {},
     "output_type": "execute_result"
    }
   ],
   "source": [
    "# Minimum of the Ratings, Years of Experience, salary_avg  and location_ordinal columns\n",
    "\n",
    "data.min()"
   ]
  },
  {
   "cell_type": "code",
   "execution_count": 26,
   "metadata": {},
   "outputs": [
    {
     "data": {
      "text/plain": [
       "Ratings                  5.0\n",
       "Years of Experience      7.0\n",
       "salary_avg             128.0\n",
       "location_ordinal       665.0\n",
       "dtype: float64"
      ]
     },
     "execution_count": 26,
     "metadata": {},
     "output_type": "execute_result"
    }
   ],
   "source": [
    "# Maximum of the Ratings, Years of Experience, salary_avg  and location_ordinal columns\n",
    "\n",
    "data.max()"
   ]
  },
  {
   "cell_type": "code",
   "execution_count": 27,
   "metadata": {},
   "outputs": [
    {
     "data": {
      "text/plain": [
       "39.25421209117938"
      ]
     },
     "execution_count": 27,
     "metadata": {},
     "output_type": "execute_result"
    }
   ],
   "source": [
    "# Mean of the salary_avg column\n",
    "\n",
    "data['salary_avg'].mean()"
   ]
  },
  {
   "cell_type": "code",
   "execution_count": 28,
   "metadata": {},
   "outputs": [
    {
     "data": {
      "text/plain": [
       "18.697081518554295"
      ]
     },
     "execution_count": 28,
     "metadata": {},
     "output_type": "execute_result"
    }
   ],
   "source": [
    "# Standard deviation of the salary_avg column\n",
    "\n",
    "data['salary_avg'].std()"
   ]
  },
  {
   "cell_type": "code",
   "execution_count": 29,
   "metadata": {},
   "outputs": [
    {
     "data": {
      "text/html": [
       "<div>\n",
       "<style scoped>\n",
       "    .dataframe tbody tr th:only-of-type {\n",
       "        vertical-align: middle;\n",
       "    }\n",
       "\n",
       "    .dataframe tbody tr th {\n",
       "        vertical-align: top;\n",
       "    }\n",
       "\n",
       "    .dataframe thead th {\n",
       "        text-align: right;\n",
       "    }\n",
       "</style>\n",
       "<table border=\"1\" class=\"dataframe\">\n",
       "  <thead>\n",
       "    <tr style=\"text-align: right;\">\n",
       "      <th></th>\n",
       "      <th>Ratings</th>\n",
       "      <th>Years of Experience</th>\n",
       "      <th>salary_avg</th>\n",
       "      <th>location_ordinal</th>\n",
       "    </tr>\n",
       "  </thead>\n",
       "  <tbody>\n",
       "    <tr>\n",
       "      <th>Ratings</th>\n",
       "      <td>1.000000</td>\n",
       "      <td>0.706474</td>\n",
       "      <td>0.764301</td>\n",
       "      <td>0.187206</td>\n",
       "    </tr>\n",
       "    <tr>\n",
       "      <th>Years of Experience</th>\n",
       "      <td>0.706474</td>\n",
       "      <td>1.000000</td>\n",
       "      <td>0.880063</td>\n",
       "      <td>0.193126</td>\n",
       "    </tr>\n",
       "    <tr>\n",
       "      <th>salary_avg</th>\n",
       "      <td>0.764301</td>\n",
       "      <td>0.880063</td>\n",
       "      <td>1.000000</td>\n",
       "      <td>0.240047</td>\n",
       "    </tr>\n",
       "    <tr>\n",
       "      <th>location_ordinal</th>\n",
       "      <td>0.187206</td>\n",
       "      <td>0.193126</td>\n",
       "      <td>0.240047</td>\n",
       "      <td>1.000000</td>\n",
       "    </tr>\n",
       "  </tbody>\n",
       "</table>\n",
       "</div>"
      ],
      "text/plain": [
       "                      Ratings  Years of Experience  salary_avg  \\\n",
       "Ratings              1.000000             0.706474    0.764301   \n",
       "Years of Experience  0.706474             1.000000    0.880063   \n",
       "salary_avg           0.764301             0.880063    1.000000   \n",
       "location_ordinal     0.187206             0.193126    0.240047   \n",
       "\n",
       "                     location_ordinal  \n",
       "Ratings                      0.187206  \n",
       "Years of Experience          0.193126  \n",
       "salary_avg                   0.240047  \n",
       "location_ordinal             1.000000  "
      ]
     },
     "execution_count": 29,
     "metadata": {},
     "output_type": "execute_result"
    }
   ],
   "source": [
    "# Pearson's correlation of the Ratings, Years of Experience, salary_avg \n",
    "# and location_ordinal features\n",
    "\n",
    "data.corr()"
   ]
  },
  {
   "cell_type": "code",
   "execution_count": 30,
   "metadata": {},
   "outputs": [
    {
     "data": {
      "text/plain": [
       "<matplotlib.axes._subplots.AxesSubplot at 0x1829064ae08>"
      ]
     },
     "execution_count": 30,
     "metadata": {},
     "output_type": "execute_result"
    },
    {
     "data": {
      "image/png": "[encoded data removed]",
      "text/plain": [
       "<Figure size 648x288 with 2 Axes>"
      ]
     },
     "metadata": {},
     "output_type": "display_data"
    }
   ],
   "source": [
    "# A better visualization of the Pearson's correlation with heatmap()\n",
    "\n",
    "sns.set(rc={'figure.figsize':(9,4)})\n",
    "sns.heatmap(data.corr(), annot = True)"
   ]
  },
  {
   "cell_type": "code",
   "execution_count": 31,
   "metadata": {},
   "outputs": [],
   "source": [
    "# The Ratings and the Years of Experience features have a good correlation\n",
    "# with the salary_avg feature column."
   ]
  },
  {
   "cell_type": "markdown",
   "metadata": {},
   "source": [
    "***"
   ]
  },
  {
   "cell_type": "markdown",
   "metadata": {},
   "source": [
    "### Data Visualization"
   ]
  },
  {
   "cell_type": "markdown",
   "metadata": {},
   "source": [
    "***"
   ]
  },
  {
   "cell_type": "code",
   "execution_count": 32,
   "metadata": {},
   "outputs": [
    {
     "data": {
      "text/plain": [
       "<matplotlib.axes._subplots.AxesSubplot at 0x18290ee0848>"
      ]
     },
     "execution_count": 32,
     "metadata": {},
     "output_type": "execute_result"
    },
    {
     "data": {
      "image/png": "[encoded data removed]",
      "text/plain": [
       "<Figure size 648x288 with 1 Axes>"
      ]
     },
     "metadata": {},
     "output_type": "display_data"
    }
   ],
   "source": [
    "# A Histogram plot of Ratings column\n",
    "\n",
    "sns.distplot(data['Ratings'], bins=10)"
   ]
  },
  {
   "cell_type": "code",
   "execution_count": 33,
   "metadata": {},
   "outputs": [
    {
     "data": {
      "text/plain": [
       "<matplotlib.axes._subplots.AxesSubplot at 0x18290f82948>"
      ]
     },
     "execution_count": 33,
     "metadata": {},
     "output_type": "execute_result"
    },
    {
     "data": {
      "image/png": "[encoded data removed]",
      "text/plain": [
       "<Figure size 648x288 with 1 Axes>"
      ]
     },
     "metadata": {},
     "output_type": "display_data"
    }
   ],
   "source": [
    "# A Histogram plot of Years of Experience column\n",
    "\n",
    "sns.distplot(data['Years of Experience'], bins=10)"
   ]
  },
  {
   "cell_type": "code",
   "execution_count": 34,
   "metadata": {},
   "outputs": [
    {
     "data": {
      "text/plain": [
       "<matplotlib.axes._subplots.AxesSubplot at 0x18291039708>"
      ]
     },
     "execution_count": 34,
     "metadata": {},
     "output_type": "execute_result"
    },
    {
     "data": {
      "image/png": "[encoded data removed]",
      "text/plain": [
       "<Figure size 648x288 with 1 Axes>"
      ]
     },
     "metadata": {},
     "output_type": "display_data"
    }
   ],
   "source": [
    "# A Histogram plot of salary_avg column\n",
    "\n",
    "sns.distplot(data['salary_avg'], bins=30)"
   ]
  },
  {
   "cell_type": "code",
   "execution_count": 35,
   "metadata": {},
   "outputs": [
    {
     "data": {
      "text/plain": [
       "<matplotlib.axes._subplots.AxesSubplot at 0x182905e4848>"
      ]
     },
     "execution_count": 35,
     "metadata": {},
     "output_type": "execute_result"
    },
    {
     "data": {
      "image/png": "[encoded data removed]",
      "text/plain": [
       "<Figure size 648x288 with 1 Axes>"
      ]
     },
     "metadata": {},
     "output_type": "display_data"
    }
   ],
   "source": [
    "# Count plot of Years of Experience feature\n",
    "\n",
    "sns.countplot(data['Years of Experience'])"
   ]
  },
  {
   "cell_type": "code",
   "execution_count": 36,
   "metadata": {},
   "outputs": [
    {
     "data": {
      "text/plain": [
       "<matplotlib.axes._subplots.AxesSubplot at 0x18290626888>"
      ]
     },
     "execution_count": 36,
     "metadata": {},
     "output_type": "execute_result"
    },
    {
     "data": {
      "image/png": "[encoded data removed]",
      "text/plain": [
       "<Figure size 648x288 with 1 Axes>"
      ]
     },
     "metadata": {},
     "output_type": "display_data"
    }
   ],
   "source": [
    "# Count plot of Ratings feature\n",
    "\n",
    "sns.countplot(data['Ratings'])"
   ]
  },
  {
   "cell_type": "code",
   "execution_count": 37,
   "metadata": {},
   "outputs": [
    {
     "data": {
      "text/plain": [
       "<seaborn.axisgrid.JointGrid at 0x182911822c8>"
      ]
     },
     "execution_count": 37,
     "metadata": {},
     "output_type": "execute_result"
    },
    {
     "data": {
      "image/png": "[encoded data removed]",
      "text/plain": [
       "<Figure size 432x432 with 3 Axes>"
      ]
     },
     "metadata": {},
     "output_type": "display_data"
    }
   ],
   "source": [
    "# A Scatter plot of Ratings vs salary_avg\n",
    "\n",
    "sns.jointplot(data['Ratings'], data['salary_avg'], data= data)"
   ]
  },
  {
   "cell_type": "code",
   "execution_count": 38,
   "metadata": {},
   "outputs": [
    {
     "data": {
      "text/plain": [
       "<seaborn.axisgrid.JointGrid at 0x18291370ec8>"
      ]
     },
     "execution_count": 38,
     "metadata": {},
     "output_type": "execute_result"
    },
    {
     "data": {
      "image/png": "[encoded data removed]",
      "text/plain": [
       "<Figure size 432x432 with 3 Axes>"
      ]
     },
     "metadata": {},
     "output_type": "display_data"
    }
   ],
   "source": [
    "# A Scatter plot of Years of Experience vs salary_avg\n",
    "\n",
    "sns.jointplot(x='Years of Experience', y='salary_avg', data= data)"
   ]
  },
  {
   "cell_type": "code",
   "execution_count": 39,
   "metadata": {},
   "outputs": [
    {
     "data": {
      "text/plain": [
       "<seaborn.axisgrid.JointGrid at 0x182915196c8>"
      ]
     },
     "execution_count": 39,
     "metadata": {},
     "output_type": "execute_result"
    },
    {
     "data": {
      "image/png": "[encoded data removed]",
      "text/plain": [
       "<Figure size 432x432 with 3 Axes>"
      ]
     },
     "metadata": {},
     "output_type": "display_data"
    }
   ],
   "source": [
    "# A Scatter plot of location_ordinal vs salary_avg\n",
    "\n",
    "sns.jointplot(x='location_ordinal', y='salary_avg', data= data)"
   ]
  },
  {
   "cell_type": "code",
   "execution_count": null,
   "metadata": {},
   "outputs": [],
   "source": []
  },
  {
   "cell_type": "markdown",
   "metadata": {},
   "source": [
    "***"
   ]
  },
  {
   "cell_type": "markdown",
   "metadata": {},
   "source": [
    "## Machine Learning Algorithms"
   ]
  },
  {
   "cell_type": "markdown",
   "metadata": {},
   "source": [
    "***"
   ]
  },
  {
   "cell_type": "code",
   "execution_count": 40,
   "metadata": {},
   "outputs": [],
   "source": [
    "# As the dataset has regression type features and the salary\n",
    "# is the correlated to Ratings and Years of Experience features\n",
    "# So, regression type algorithms have been used."
   ]
  },
  {
   "cell_type": "code",
   "execution_count": 41,
   "metadata": {},
   "outputs": [],
   "source": [
    "# Here, X is a variable where Ratings and Years of Experience have been stored\n",
    "# as a predictive feature. It is a two dimentional array\n",
    "# y is a variable where the salary_avg column has been stored\n",
    "# as a label feature\n",
    "\n",
    "X = data[['Ratings', 'Years of Experience']]\n",
    "y = data['salary_avg']"
   ]
  },
  {
   "cell_type": "code",
   "execution_count": 42,
   "metadata": {},
   "outputs": [],
   "source": [
    "# sklearn is a scientific library for machine learning algorithms in python\n",
    "# Here sklearn has a module called model_selection where train_test_split\n",
    "# is a funtion to split the dataset into train and test portion.\n",
    "# Train dataset has 67% of the data where test dataset has 33% data\n",
    "\n",
    "from sklearn.model_selection import train_test_split\n",
    "X_train, X_test, y_train, y_test = train_test_split(X, y, test_size=0.33, random_state=42)"
   ]
  },
  {
   "cell_type": "code",
   "execution_count": 43,
   "metadata": {},
   "outputs": [],
   "source": [
    "###"
   ]
  },
  {
   "cell_type": "markdown",
   "metadata": {},
   "source": [
    "### Linear Regression"
   ]
  },
  {
   "cell_type": "code",
   "execution_count": 44,
   "metadata": {},
   "outputs": [
    {
     "data": {
      "text/plain": [
       "LinearRegression(copy_X=True, fit_intercept=True, n_jobs=None, normalize=False)"
      ]
     },
     "execution_count": 44,
     "metadata": {},
     "output_type": "execute_result"
    }
   ],
   "source": [
    "# Importing the Linear Regression algorithms from sklearn's linear_model module\n",
    "\n",
    "from sklearn.linear_model import LinearRegression\n",
    "lg = LinearRegression()\n",
    "lg.fit(X_train, y_train)"
   ]
  },
  {
   "cell_type": "code",
   "execution_count": 45,
   "metadata": {},
   "outputs": [
    {
     "data": {
      "text/plain": [
       "0.8360556053154703"
      ]
     },
     "execution_count": 45,
     "metadata": {},
     "output_type": "execute_result"
    }
   ],
   "source": [
    "lg.score(X_test, y_test)"
   ]
  },
  {
   "cell_type": "code",
   "execution_count": 46,
   "metadata": {},
   "outputs": [],
   "source": [
    "# Linear Regression model has 83.61% accuracy over test dataset"
   ]
  },
  {
   "cell_type": "code",
   "execution_count": 47,
   "metadata": {},
   "outputs": [],
   "source": [
    "###"
   ]
  },
  {
   "cell_type": "markdown",
   "metadata": {},
   "source": [
    "### Decision Tree Regressor"
   ]
  },
  {
   "cell_type": "code",
   "execution_count": 48,
   "metadata": {},
   "outputs": [
    {
     "data": {
      "text/plain": [
       "DecisionTreeRegressor(ccp_alpha=0.0, criterion='mse', max_depth=None,\n",
       "                      max_features=None, max_leaf_nodes=None,\n",
       "                      min_impurity_decrease=0.0, min_impurity_split=None,\n",
       "                      min_samples_leaf=1, min_samples_split=2,\n",
       "                      min_weight_fraction_leaf=0.0, presort='deprecated',\n",
       "                      random_state=None, splitter='best')"
      ]
     },
     "execution_count": 48,
     "metadata": {},
     "output_type": "execute_result"
    }
   ],
   "source": [
    "# Importing the Decision Tree Regressor algorithms from sklearn's tree module\n",
    "\n",
    "from sklearn.tree import DecisionTreeRegressor\n",
    "dtree = DecisionTreeRegressor()\n",
    "dtree.fit(X_train, y_train)"
   ]
  },
  {
   "cell_type": "code",
   "execution_count": 49,
   "metadata": {},
   "outputs": [
    {
     "data": {
      "text/plain": [
       "0.8815478751882665"
      ]
     },
     "execution_count": 49,
     "metadata": {},
     "output_type": "execute_result"
    }
   ],
   "source": [
    "dtree.score(X_test, y_test)"
   ]
  },
  {
   "cell_type": "code",
   "execution_count": 50,
   "metadata": {},
   "outputs": [],
   "source": [
    "# Decision Tree Regressor model has 88.15% accuracy over test dataset"
   ]
  },
  {
   "cell_type": "code",
   "execution_count": 51,
   "metadata": {},
   "outputs": [],
   "source": [
    "###"
   ]
  },
  {
   "cell_type": "markdown",
   "metadata": {},
   "source": [
    "### Random Forest Regressor"
   ]
  },
  {
   "cell_type": "code",
   "execution_count": 52,
   "metadata": {},
   "outputs": [
    {
     "data": {
      "text/plain": [
       "RandomForestRegressor(bootstrap=True, ccp_alpha=0.0, criterion='mse',\n",
       "                      max_depth=None, max_features='auto', max_leaf_nodes=None,\n",
       "                      max_samples=None, min_impurity_decrease=0.0,\n",
       "                      min_impurity_split=None, min_samples_leaf=1,\n",
       "                      min_samples_split=2, min_weight_fraction_leaf=0.0,\n",
       "                      n_estimators=100, n_jobs=None, oob_score=False,\n",
       "                      random_state=None, verbose=0, warm_start=False)"
      ]
     },
     "execution_count": 52,
     "metadata": {},
     "output_type": "execute_result"
    }
   ],
   "source": [
    "# Importing the Random Forest Regressor algorithms from sklearn's tree module\n",
    "\n",
    "from sklearn.ensemble import RandomForestRegressor\n",
    "rf = RandomForestRegressor()\n",
    "rf.fit(X_train, y_train)"
   ]
  },
  {
   "cell_type": "code",
   "execution_count": 53,
   "metadata": {},
   "outputs": [
    {
     "data": {
      "text/plain": [
       "0.8943001256648041"
      ]
     },
     "execution_count": 53,
     "metadata": {},
     "output_type": "execute_result"
    }
   ],
   "source": [
    "rf.score(X_test, y_test)"
   ]
  },
  {
   "cell_type": "code",
   "execution_count": 54,
   "metadata": {},
   "outputs": [],
   "source": [
    "# Random Forest Regressor model has 89.22% accuracy over test dataset"
   ]
  },
  {
   "cell_type": "markdown",
   "metadata": {},
   "source": [
    "***"
   ]
  }
 ],
 "metadata": {
  "kernelspec": {
   "display_name": "Python 3",
   "language": "python",
   "name": "python3"
  },
  "language_info": {
   "codemirror_mode": {
    "name": "ipython",
    "version": 3
   },
   "file_extension": ".py",
   "mimetype": "text/x-python",
   "name": "python",
   "nbconvert_exporter": "python",
   "pygments_lexer": "ipython3",
   "version": "3.8.8"
  }
 },
 "nbformat": 4,
 "nbformat_minor": 4
}
