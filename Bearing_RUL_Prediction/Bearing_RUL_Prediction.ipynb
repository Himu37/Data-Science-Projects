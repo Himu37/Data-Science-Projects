{
 "cells": [
  {
   "cell_type": "code",
   "execution_count": 74,
   "id": "bfd511f3",
   "metadata": {},
   "outputs": [],
   "source": [
    "#Importing all the necessary libraries\n",
    "\n",
    "import numpy as np\n",
    "import pandas as pd\n",
    "import matplotlib.pyplot as plt\n",
    "import seaborn as sns"
   ]
  },
  {
   "cell_type": "code",
   "execution_count": 75,
   "id": "63fdedd9",
   "metadata": {},
   "outputs": [],
   "source": [
    "import tensorflow as tf\n",
    "from tensorflow import keras"
   ]
  },
  {
   "cell_type": "code",
   "execution_count": 76,
   "id": "a299bd0a",
   "metadata": {},
   "outputs": [],
   "source": [
    "from keras.models import Sequential\n",
    "from keras.layers import Dense, Dropout, Activation"
   ]
  },
  {
   "cell_type": "code",
   "execution_count": 77,
   "id": "b660af53",
   "metadata": {},
   "outputs": [],
   "source": [
    "#Loading the dataset\n",
    "\n",
    "df = pd.read_csv('bearing_dataset.csv')"
   ]
  },
  {
   "cell_type": "code",
   "execution_count": 78,
   "id": "4b44adef",
   "metadata": {},
   "outputs": [
    {
     "data": {
      "text/html": [
       "<div>\n",
       "<style scoped>\n",
       "    .dataframe tbody tr th:only-of-type {\n",
       "        vertical-align: middle;\n",
       "    }\n",
       "\n",
       "    .dataframe tbody tr th {\n",
       "        vertical-align: top;\n",
       "    }\n",
       "\n",
       "    .dataframe thead th {\n",
       "        text-align: right;\n",
       "    }\n",
       "</style>\n",
       "<table border=\"1\" class=\"dataframe\">\n",
       "  <thead>\n",
       "    <tr style=\"text-align: right;\">\n",
       "      <th></th>\n",
       "      <th>Horiz_Acc</th>\n",
       "      <th>Ver_Acc</th>\n",
       "      <th>Total_Sec</th>\n",
       "    </tr>\n",
       "  </thead>\n",
       "  <tbody>\n",
       "    <tr>\n",
       "      <th>0</th>\n",
       "      <td>0.501</td>\n",
       "      <td>-0.480</td>\n",
       "      <td>34779</td>\n",
       "    </tr>\n",
       "    <tr>\n",
       "      <th>1</th>\n",
       "      <td>0.138</td>\n",
       "      <td>0.435</td>\n",
       "      <td>34779</td>\n",
       "    </tr>\n",
       "    <tr>\n",
       "      <th>2</th>\n",
       "      <td>-0.423</td>\n",
       "      <td>0.240</td>\n",
       "      <td>34779</td>\n",
       "    </tr>\n",
       "    <tr>\n",
       "      <th>3</th>\n",
       "      <td>-0.802</td>\n",
       "      <td>0.020</td>\n",
       "      <td>34779</td>\n",
       "    </tr>\n",
       "    <tr>\n",
       "      <th>4</th>\n",
       "      <td>-0.364</td>\n",
       "      <td>0.112</td>\n",
       "      <td>34779</td>\n",
       "    </tr>\n",
       "  </tbody>\n",
       "</table>\n",
       "</div>"
      ],
      "text/plain": [
       "   Horiz_Acc  Ver_Acc  Total_Sec\n",
       "0      0.501   -0.480      34779\n",
       "1      0.138    0.435      34779\n",
       "2     -0.423    0.240      34779\n",
       "3     -0.802    0.020      34779\n",
       "4     -0.364    0.112      34779"
      ]
     },
     "execution_count": 78,
     "metadata": {},
     "output_type": "execute_result"
    }
   ],
   "source": [
    "#Showing the first 5 rows\n",
    "\n",
    "df.head()"
   ]
  },
  {
   "cell_type": "code",
   "execution_count": 79,
   "id": "2ddd55cc",
   "metadata": {},
   "outputs": [
    {
     "data": {
      "text/html": [
       "<div>\n",
       "<style scoped>\n",
       "    .dataframe tbody tr th:only-of-type {\n",
       "        vertical-align: middle;\n",
       "    }\n",
       "\n",
       "    .dataframe tbody tr th {\n",
       "        vertical-align: top;\n",
       "    }\n",
       "\n",
       "    .dataframe thead th {\n",
       "        text-align: right;\n",
       "    }\n",
       "</style>\n",
       "<table border=\"1\" class=\"dataframe\">\n",
       "  <thead>\n",
       "    <tr style=\"text-align: right;\">\n",
       "      <th></th>\n",
       "      <th>Horiz_Acc</th>\n",
       "      <th>Ver_Acc</th>\n",
       "      <th>Total_Sec</th>\n",
       "    </tr>\n",
       "  </thead>\n",
       "  <tbody>\n",
       "    <tr>\n",
       "      <th>0</th>\n",
       "      <td>0.501000</td>\n",
       "      <td>-0.480000</td>\n",
       "      <td>34779</td>\n",
       "    </tr>\n",
       "    <tr>\n",
       "      <th>1</th>\n",
       "      <td>0.138000</td>\n",
       "      <td>0.435000</td>\n",
       "      <td>34779</td>\n",
       "    </tr>\n",
       "    <tr>\n",
       "      <th>2</th>\n",
       "      <td>-0.423000</td>\n",
       "      <td>0.240000</td>\n",
       "      <td>34779</td>\n",
       "    </tr>\n",
       "    <tr>\n",
       "      <th>3</th>\n",
       "      <td>-0.802000</td>\n",
       "      <td>0.020000</td>\n",
       "      <td>34779</td>\n",
       "    </tr>\n",
       "    <tr>\n",
       "      <th>4</th>\n",
       "      <td>-0.364000</td>\n",
       "      <td>0.112000</td>\n",
       "      <td>34779</td>\n",
       "    </tr>\n",
       "    <tr>\n",
       "      <th>...</th>\n",
       "      <td>...</td>\n",
       "      <td>...</td>\n",
       "      <td>...</td>\n",
       "    </tr>\n",
       "    <tr>\n",
       "      <th>30714</th>\n",
       "      <td>-0.863864</td>\n",
       "      <td>0.919520</td>\n",
       "      <td>29665</td>\n",
       "    </tr>\n",
       "    <tr>\n",
       "      <th>30715</th>\n",
       "      <td>-0.813814</td>\n",
       "      <td>0.873874</td>\n",
       "      <td>29665</td>\n",
       "    </tr>\n",
       "    <tr>\n",
       "      <th>30716</th>\n",
       "      <td>-0.807407</td>\n",
       "      <td>0.843644</td>\n",
       "      <td>29665</td>\n",
       "    </tr>\n",
       "    <tr>\n",
       "      <th>30717</th>\n",
       "      <td>-0.874274</td>\n",
       "      <td>0.872673</td>\n",
       "      <td>29665</td>\n",
       "    </tr>\n",
       "    <tr>\n",
       "      <th>30718</th>\n",
       "      <td>-0.997998</td>\n",
       "      <td>0.930330</td>\n",
       "      <td>29665</td>\n",
       "    </tr>\n",
       "  </tbody>\n",
       "</table>\n",
       "<p>30719 rows × 3 columns</p>\n",
       "</div>"
      ],
      "text/plain": [
       "       Horiz_Acc   Ver_Acc  Total_Sec\n",
       "0       0.501000 -0.480000      34779\n",
       "1       0.138000  0.435000      34779\n",
       "2      -0.423000  0.240000      34779\n",
       "3      -0.802000  0.020000      34779\n",
       "4      -0.364000  0.112000      34779\n",
       "...          ...       ...        ...\n",
       "30714  -0.863864  0.919520      29665\n",
       "30715  -0.813814  0.873874      29665\n",
       "30716  -0.807407  0.843644      29665\n",
       "30717  -0.874274  0.872673      29665\n",
       "30718  -0.997998  0.930330      29665\n",
       "\n",
       "[30719 rows x 3 columns]"
      ]
     },
     "execution_count": 79,
     "metadata": {},
     "output_type": "execute_result"
    }
   ],
   "source": [
    "df"
   ]
  },
  {
   "cell_type": "code",
   "execution_count": 80,
   "id": "9719b120",
   "metadata": {},
   "outputs": [
    {
     "name": "stdout",
     "output_type": "stream",
     "text": [
      "<class 'pandas.core.frame.DataFrame'>\n",
      "RangeIndex: 30719 entries, 0 to 30718\n",
      "Data columns (total 3 columns):\n",
      " #   Column     Non-Null Count  Dtype  \n",
      "---  ------     --------------  -----  \n",
      " 0   Horiz_Acc  30719 non-null  float64\n",
      " 1   Ver_Acc    30719 non-null  float64\n",
      " 2   Total_Sec  30719 non-null  int64  \n",
      "dtypes: float64(2), int64(1)\n",
      "memory usage: 720.1 KB\n"
     ]
    }
   ],
   "source": [
    "# To show some information of the features\n",
    "\n",
    "df.info()"
   ]
  },
  {
   "cell_type": "code",
   "execution_count": 81,
   "id": "35e1395e",
   "metadata": {},
   "outputs": [
    {
     "data": {
      "text/plain": [
       "array([34779, 34789, 34799, 34809, 34819, 34829, 34839, 34849, 34859,\n",
       "       34869, 29655, 29665], dtype=int64)"
      ]
     },
     "execution_count": 81,
     "metadata": {},
     "output_type": "execute_result"
    }
   ],
   "source": [
    "# Unique values of 'Total_Sec' feature\n",
    "\n",
    "df['Total_Sec'].unique()"
   ]
  },
  {
   "cell_type": "code",
   "execution_count": 82,
   "id": "0c98f629",
   "metadata": {},
   "outputs": [
    {
     "data": {
      "text/html": [
       "<div>\n",
       "<style scoped>\n",
       "    .dataframe tbody tr th:only-of-type {\n",
       "        vertical-align: middle;\n",
       "    }\n",
       "\n",
       "    .dataframe tbody tr th {\n",
       "        vertical-align: top;\n",
       "    }\n",
       "\n",
       "    .dataframe thead th {\n",
       "        text-align: right;\n",
       "    }\n",
       "</style>\n",
       "<table border=\"1\" class=\"dataframe\">\n",
       "  <thead>\n",
       "    <tr style=\"text-align: right;\">\n",
       "      <th></th>\n",
       "      <th>Horiz_Acc</th>\n",
       "      <th>Ver_Acc</th>\n",
       "      <th>Total_Sec</th>\n",
       "    </tr>\n",
       "  </thead>\n",
       "  <tbody>\n",
       "    <tr>\n",
       "      <th>count</th>\n",
       "      <td>30719.000000</td>\n",
       "      <td>30719.000000</td>\n",
       "      <td>30719.000000</td>\n",
       "    </tr>\n",
       "    <tr>\n",
       "      <th>mean</th>\n",
       "      <td>0.037754</td>\n",
       "      <td>-0.058580</td>\n",
       "      <td>33963.306781</td>\n",
       "    </tr>\n",
       "    <tr>\n",
       "      <th>std</th>\n",
       "      <td>0.583368</td>\n",
       "      <td>0.575612</td>\n",
       "      <td>1924.745893</td>\n",
       "    </tr>\n",
       "    <tr>\n",
       "      <th>min</th>\n",
       "      <td>-1.763000</td>\n",
       "      <td>-1.569000</td>\n",
       "      <td>29655.000000</td>\n",
       "    </tr>\n",
       "    <tr>\n",
       "      <th>25%</th>\n",
       "      <td>-0.442042</td>\n",
       "      <td>-0.608308</td>\n",
       "      <td>34789.000000</td>\n",
       "    </tr>\n",
       "    <tr>\n",
       "      <th>50%</th>\n",
       "      <td>0.000701</td>\n",
       "      <td>-0.085686</td>\n",
       "      <td>34819.000000</td>\n",
       "    </tr>\n",
       "    <tr>\n",
       "      <th>75%</th>\n",
       "      <td>0.536336</td>\n",
       "      <td>0.431632</td>\n",
       "      <td>34844.000000</td>\n",
       "    </tr>\n",
       "    <tr>\n",
       "      <th>max</th>\n",
       "      <td>2.010000</td>\n",
       "      <td>1.591000</td>\n",
       "      <td>34869.000000</td>\n",
       "    </tr>\n",
       "  </tbody>\n",
       "</table>\n",
       "</div>"
      ],
      "text/plain": [
       "          Horiz_Acc       Ver_Acc     Total_Sec\n",
       "count  30719.000000  30719.000000  30719.000000\n",
       "mean       0.037754     -0.058580  33963.306781\n",
       "std        0.583368      0.575612   1924.745893\n",
       "min       -1.763000     -1.569000  29655.000000\n",
       "25%       -0.442042     -0.608308  34789.000000\n",
       "50%        0.000701     -0.085686  34819.000000\n",
       "75%        0.536336      0.431632  34844.000000\n",
       "max        2.010000      1.591000  34869.000000"
      ]
     },
     "execution_count": 82,
     "metadata": {},
     "output_type": "execute_result"
    }
   ],
   "source": [
    "#To show some statistical parameters\n",
    "\n",
    "df.describe()"
   ]
  },
  {
   "cell_type": "code",
   "execution_count": 83,
   "id": "7f5ae068",
   "metadata": {},
   "outputs": [
    {
     "data": {
      "text/html": [
       "<div>\n",
       "<style scoped>\n",
       "    .dataframe tbody tr th:only-of-type {\n",
       "        vertical-align: middle;\n",
       "    }\n",
       "\n",
       "    .dataframe tbody tr th {\n",
       "        vertical-align: top;\n",
       "    }\n",
       "\n",
       "    .dataframe thead th {\n",
       "        text-align: right;\n",
       "    }\n",
       "</style>\n",
       "<table border=\"1\" class=\"dataframe\">\n",
       "  <thead>\n",
       "    <tr style=\"text-align: right;\">\n",
       "      <th></th>\n",
       "      <th>Horiz_Acc</th>\n",
       "      <th>Ver_Acc</th>\n",
       "      <th>Total_Sec</th>\n",
       "    </tr>\n",
       "  </thead>\n",
       "  <tbody>\n",
       "    <tr>\n",
       "      <th>Horiz_Acc</th>\n",
       "      <td>1.000000</td>\n",
       "      <td>-0.684093</td>\n",
       "      <td>0.639752</td>\n",
       "    </tr>\n",
       "    <tr>\n",
       "      <th>Ver_Acc</th>\n",
       "      <td>-0.684093</td>\n",
       "      <td>1.000000</td>\n",
       "      <td>-0.659738</td>\n",
       "    </tr>\n",
       "    <tr>\n",
       "      <th>Total_Sec</th>\n",
       "      <td>0.639752</td>\n",
       "      <td>-0.659738</td>\n",
       "      <td>1.000000</td>\n",
       "    </tr>\n",
       "  </tbody>\n",
       "</table>\n",
       "</div>"
      ],
      "text/plain": [
       "           Horiz_Acc   Ver_Acc  Total_Sec\n",
       "Horiz_Acc   1.000000 -0.684093   0.639752\n",
       "Ver_Acc    -0.684093  1.000000  -0.659738\n",
       "Total_Sec   0.639752 -0.659738   1.000000"
      ]
     },
     "execution_count": 83,
     "metadata": {},
     "output_type": "execute_result"
    }
   ],
   "source": [
    "#Pearson's Correlation\n",
    "\n",
    "df.corr()"
   ]
  },
  {
   "cell_type": "code",
   "execution_count": 84,
   "id": "1b75323a",
   "metadata": {},
   "outputs": [
    {
     "data": {
      "text/plain": [
       "<AxesSubplot:xlabel='Horiz_Acc', ylabel='Count'>"
      ]
     },
     "execution_count": 84,
     "metadata": {},
     "output_type": "execute_result"
    },
    {
     "data": {
      "image/png": "[encoded data removed]",
      "text/plain": [
       "<Figure size 432x288 with 1 Axes>"
      ]
     },
     "metadata": {
      "needs_background": "light"
     },
     "output_type": "display_data"
    }
   ],
   "source": [
    "# Hisgram of 'Horiz_Acc' feature\n",
    "\n",
    "sns.histplot(df['Horiz_Acc'])"
   ]
  },
  {
   "cell_type": "code",
   "execution_count": 85,
   "id": "3f6d8e42",
   "metadata": {},
   "outputs": [
    {
     "data": {
      "text/plain": [
       "<AxesSubplot:xlabel='Ver_Acc', ylabel='Count'>"
      ]
     },
     "execution_count": 85,
     "metadata": {},
     "output_type": "execute_result"
    },
    {
     "data": {
      "image/png": "[encoded data removed]",
      "text/plain": [
       "<Figure size 432x288 with 1 Axes>"
      ]
     },
     "metadata": {
      "needs_background": "light"
     },
     "output_type": "display_data"
    }
   ],
   "source": [
    "# Hisgram of 'Ver_Acc' feature\n",
    "\n",
    "sns.histplot(df['Ver_Acc'])"
   ]
  },
  {
   "cell_type": "code",
   "execution_count": 86,
   "id": "1dea6671",
   "metadata": {},
   "outputs": [
    {
     "data": {
      "text/plain": [
       "<seaborn.axisgrid.JointGrid at 0x1e44f3fafd0>"
      ]
     },
     "execution_count": 86,
     "metadata": {},
     "output_type": "execute_result"
    },
    {
     "data": {
      "image/png": "[encoded data removed]",
      "text/plain": [
       "<Figure size 432x432 with 3 Axes>"
      ]
     },
     "metadata": {
      "needs_background": "light"
     },
     "output_type": "display_data"
    }
   ],
   "source": [
    "# Jointplot of 'Horiz_Acc' & 'Ver_Acc'\n",
    "\n",
    "sns.jointplot(x='Horiz_Acc', y='Ver_Acc', data=df)"
   ]
  },
  {
   "cell_type": "code",
   "execution_count": 87,
   "id": "02113cf0",
   "metadata": {},
   "outputs": [
    {
     "data": {
      "text/plain": [
       "<AxesSubplot:>"
      ]
     },
     "execution_count": 87,
     "metadata": {},
     "output_type": "execute_result"
    },
    {
     "data": {
      "image/png": "[encoded data removed]",
      "text/plain": [
       "<Figure size 432x288 with 2 Axes>"
      ]
     },
     "metadata": {
      "needs_background": "light"
     },
     "output_type": "display_data"
    }
   ],
   "source": [
    "# Heatmap of the data set with pearson's correlation\n",
    "\n",
    "sns.heatmap(df.corr(), annot=True)"
   ]
  },
  {
   "cell_type": "markdown",
   "id": "790b71c1",
   "metadata": {},
   "source": [
    "***"
   ]
  },
  {
   "cell_type": "code",
   "execution_count": 88,
   "id": "b0707517",
   "metadata": {},
   "outputs": [],
   "source": [
    "# Split the dataset with respect to features\n",
    "\n",
    "X = np.array(df[['Horiz_Acc', 'Ver_Acc']])\n",
    "y = np.array(df['Total_Sec'])"
   ]
  },
  {
   "cell_type": "code",
   "execution_count": 89,
   "id": "f0aa9753",
   "metadata": {},
   "outputs": [
    {
     "data": {
      "text/plain": [
       "array([[ 0.501     , -0.48      ],\n",
       "       [ 0.138     ,  0.435     ],\n",
       "       [-0.423     ,  0.24      ],\n",
       "       ...,\n",
       "       [-0.80740741,  0.84364364],\n",
       "       [-0.87427427,  0.87267267],\n",
       "       [-0.997998  ,  0.93033033]])"
      ]
     },
     "execution_count": 89,
     "metadata": {},
     "output_type": "execute_result"
    }
   ],
   "source": [
    "X"
   ]
  },
  {
   "cell_type": "code",
   "execution_count": 90,
   "id": "30f91bce",
   "metadata": {},
   "outputs": [
    {
     "data": {
      "text/plain": [
       "array([34779, 34779, 34779, ..., 29665, 29665, 29665], dtype=int64)"
      ]
     },
     "execution_count": 90,
     "metadata": {},
     "output_type": "execute_result"
    }
   ],
   "source": [
    "y"
   ]
  },
  {
   "cell_type": "code",
   "execution_count": 91,
   "id": "3c77d1f3",
   "metadata": {},
   "outputs": [],
   "source": [
    "from sklearn.model_selection import train_test_split"
   ]
  },
  {
   "cell_type": "code",
   "execution_count": 92,
   "id": "715fccc5",
   "metadata": {},
   "outputs": [],
   "source": [
    "X_train, X_test, y_train, y_test = train_test_split(X, y, test_size=0.3, random_state=42)"
   ]
  },
  {
   "cell_type": "code",
   "execution_count": 93,
   "id": "46665377",
   "metadata": {},
   "outputs": [
    {
     "data": {
      "text/plain": [
       "(21503, 2)"
      ]
     },
     "execution_count": 93,
     "metadata": {},
     "output_type": "execute_result"
    }
   ],
   "source": [
    "X_train.shape"
   ]
  },
  {
   "cell_type": "code",
   "execution_count": 94,
   "id": "b89a75af",
   "metadata": {},
   "outputs": [
    {
     "data": {
      "text/plain": [
       "(21503,)"
      ]
     },
     "execution_count": 94,
     "metadata": {},
     "output_type": "execute_result"
    }
   ],
   "source": [
    "y_train.shape"
   ]
  },
  {
   "cell_type": "code",
   "execution_count": 95,
   "id": "14907afd",
   "metadata": {},
   "outputs": [],
   "source": [
    "# Artificial Neural Network with Stochastic gradient descent"
   ]
  },
  {
   "cell_type": "code",
   "execution_count": 96,
   "id": "6a06b857",
   "metadata": {},
   "outputs": [
    {
     "data": {
      "text/plain": [
       "<keras.optimizer_v2.gradient_descent.SGD at 0x1e451c8f820>"
      ]
     },
     "execution_count": 96,
     "metadata": {},
     "output_type": "execute_result"
    }
   ],
   "source": [
    "model = Sequential()\n",
    "model.add(Dense(22528*2, input_dim=2, activation='softmax'))\n",
    "tf.keras.optimizers.SGD(\n",
    "    learning_rate=0.001, momentum=0.1, nesterov=True, name='SGD'\n",
    ")"
   ]
  },
  {
   "cell_type": "code",
   "execution_count": 97,
   "id": "1e015535",
   "metadata": {},
   "outputs": [],
   "source": [
    "# compile the keras model\n",
    "model.compile(loss='sparse_categorical_crossentropy', optimizer='sgd', metrics=['accuracy'])"
   ]
  },
  {
   "cell_type": "code",
   "execution_count": 98,
   "id": "898c80b9",
   "metadata": {},
   "outputs": [
    {
     "name": "stdout",
     "output_type": "stream",
     "text": [
      "Epoch 1/100\n",
      "538/538 [==============================] - 17s 31ms/step - loss: 10.3538 - accuracy: 0.3033 - val_loss: 9.9842 - val_accuracy: 0.3057\n",
      "Epoch 2/100\n",
      "538/538 [==============================] - 16s 31ms/step - loss: 9.6279 - accuracy: 0.2873 - val_loss: 9.2532 - val_accuracy: 0.3064\n",
      "Epoch 3/100\n",
      "538/538 [==============================] - 17s 31ms/step - loss: 8.9024 - accuracy: 0.3026 - val_loss: 8.5228 - val_accuracy: 0.3064\n",
      "Epoch 4/100\n",
      "538/538 [==============================] - 17s 31ms/step - loss: 8.1779 - accuracy: 0.3070 - val_loss: 7.7937 - val_accuracy: 0.3064\n",
      "Epoch 5/100\n",
      "538/538 [==============================] - 17s 31ms/step - loss: 7.4553 - accuracy: 0.3088 - val_loss: 7.0678 - val_accuracy: 0.3069\n",
      "Epoch 6/100\n",
      "538/538 [==============================] - 17s 31ms/step - loss: 6.7375 - accuracy: 0.3100 - val_loss: 6.3490 - val_accuracy: 0.3071\n",
      "Epoch 7/100\n",
      "538/538 [==============================] - 17s 31ms/step - loss: 6.0303 - accuracy: 0.3155 - val_loss: 5.6465 - val_accuracy: 0.3090\n",
      "Epoch 8/100\n",
      "538/538 [==============================] - 17s 32ms/step - loss: 5.3465 - accuracy: 0.3164 - val_loss: 4.9774 - val_accuracy: 0.3132\n",
      "Epoch 9/100\n",
      "538/538 [==============================] - 17s 32ms/step - loss: 4.7049 - accuracy: 0.3191 - val_loss: 4.3625 - val_accuracy: 0.3246\n",
      "Epoch 10/100\n",
      "538/538 [==============================] - 17s 32ms/step - loss: 4.1239 - accuracy: 0.3382 - val_loss: 3.8170 - val_accuracy: 0.3395\n",
      "Epoch 11/100\n",
      "538/538 [==============================] - 17s 32ms/step - loss: 3.6159 - accuracy: 0.3450 - val_loss: 3.3503 - val_accuracy: 0.3464\n",
      "Epoch 12/100\n",
      "538/538 [==============================] - 17s 32ms/step - loss: 3.1883 - accuracy: 0.3573 - val_loss: 2.9662 - val_accuracy: 0.3550\n",
      "Epoch 13/100\n",
      "538/538 [==============================] - 17s 32ms/step - loss: 2.8403 - accuracy: 0.3696 - val_loss: 2.6587 - val_accuracy: 0.3792\n",
      "Epoch 14/100\n",
      "538/538 [==============================] - 17s 32ms/step - loss: 2.5622 - accuracy: 0.4038 - val_loss: 2.4148 - val_accuracy: 0.4218\n",
      "Epoch 15/100\n",
      "538/538 [==============================] - 18s 33ms/step - loss: 2.3402 - accuracy: 0.4641 - val_loss: 2.2201 - val_accuracy: 0.5083\n",
      "Epoch 16/100\n",
      "538/538 [==============================] - 17s 32ms/step - loss: 2.1615 - accuracy: 0.5723 - val_loss: 2.0633 - val_accuracy: 0.6020\n",
      "Epoch 17/100\n",
      "538/538 [==============================] - 17s 32ms/step - loss: 2.0161 - accuracy: 0.6445 - val_loss: 1.9356 - val_accuracy: 0.6701\n",
      "Epoch 18/100\n",
      "538/538 [==============================] - 17s 32ms/step - loss: 1.8968 - accuracy: 0.6861 - val_loss: 1.8306 - val_accuracy: 0.6903\n",
      "Epoch 19/100\n",
      "538/538 [==============================] - 17s 32ms/step - loss: 1.7985 - accuracy: 0.6981 - val_loss: 1.7443 - val_accuracy: 0.6910\n",
      "Epoch 20/100\n",
      "538/538 [==============================] - 17s 32ms/step - loss: 1.7175 - accuracy: 0.6967 - val_loss: 1.6730 - val_accuracy: 0.6812\n",
      "Epoch 21/100\n",
      "538/538 [==============================] - 17s 32ms/step - loss: 1.6504 - accuracy: 0.6846 - val_loss: 1.6140 - val_accuracy: 0.6650\n",
      "Epoch 22/100\n",
      "538/538 [==============================] - 17s 32ms/step - loss: 1.5948 - accuracy: 0.6703 - val_loss: 1.5648 - val_accuracy: 0.6617\n",
      "Epoch 23/100\n",
      "538/538 [==============================] - 17s 32ms/step - loss: 1.5484 - accuracy: 0.6699 - val_loss: 1.5235 - val_accuracy: 0.6582\n",
      "Epoch 24/100\n",
      "538/538 [==============================] - 17s 32ms/step - loss: 1.5093 - accuracy: 0.6669 - val_loss: 1.4884 - val_accuracy: 0.6645\n",
      "Epoch 25/100\n",
      "538/538 [==============================] - 17s 32ms/step - loss: 1.4761 - accuracy: 0.6768 - val_loss: 1.4583 - val_accuracy: 0.6694\n",
      "Epoch 26/100\n",
      "538/538 [==============================] - 17s 32ms/step - loss: 1.4475 - accuracy: 0.6796 - val_loss: 1.4322 - val_accuracy: 0.6801\n",
      "Epoch 27/100\n",
      "538/538 [==============================] - 17s 32ms/step - loss: 1.4226 - accuracy: 0.6890 - val_loss: 1.4093 - val_accuracy: 0.6852\n",
      "Epoch 28/100\n",
      "538/538 [==============================] - 17s 32ms/step - loss: 1.4007 - accuracy: 0.6961 - val_loss: 1.3890 - val_accuracy: 0.6938\n",
      "Epoch 29/100\n",
      "538/538 [==============================] - 18s 34ms/step - loss: 1.3812 - accuracy: 0.7104 - val_loss: 1.3709 - val_accuracy: 0.7015\n",
      "Epoch 30/100\n",
      "538/538 [==============================] - 17s 32ms/step - loss: 1.3638 - accuracy: 0.7133 - val_loss: 1.3547 - val_accuracy: 0.7119\n",
      "Epoch 31/100\n",
      "538/538 [==============================] - 16s 30ms/step - loss: 1.3482 - accuracy: 0.7282 - val_loss: 1.3398 - val_accuracy: 0.7217\n",
      "Epoch 32/100\n",
      "538/538 [==============================] - 16s 30ms/step - loss: 1.3339 - accuracy: 0.7356 - val_loss: 1.3264 - val_accuracy: 0.7326\n",
      "Epoch 33/100\n",
      "538/538 [==============================] - 16s 29ms/step - loss: 1.3209 - accuracy: 0.7481 - val_loss: 1.3141 - val_accuracy: 0.7389\n",
      "Epoch 34/100\n",
      "538/538 [==============================] - 17s 31ms/step - loss: 1.3090 - accuracy: 0.7543 - val_loss: 1.3028 - val_accuracy: 0.7480\n",
      "Epoch 35/100\n",
      "538/538 [==============================] - 18s 33ms/step - loss: 1.2980 - accuracy: 0.7632 - val_loss: 1.2923 - val_accuracy: 0.7528\n",
      "Epoch 36/100\n",
      "538/538 [==============================] - 17s 31ms/step - loss: 1.2879 - accuracy: 0.7683 - val_loss: 1.2825 - val_accuracy: 0.7661\n",
      "Epoch 37/100\n",
      "538/538 [==============================] - 17s 31ms/step - loss: 1.2784 - accuracy: 0.7770 - val_loss: 1.2734 - val_accuracy: 0.7714\n",
      "Epoch 38/100\n",
      "538/538 [==============================] - 17s 31ms/step - loss: 1.2696 - accuracy: 0.7811 - val_loss: 1.2650 - val_accuracy: 0.7810\n",
      "Epoch 39/100\n",
      "538/538 [==============================] - 18s 33ms/step - loss: 1.2614 - accuracy: 0.7891 - val_loss: 1.2570 - val_accuracy: 0.7849\n",
      "Epoch 40/100\n",
      "538/538 [==============================] - 16s 31ms/step - loss: 1.2536 - accuracy: 0.7904 - val_loss: 1.2494 - val_accuracy: 0.7966\n",
      "Epoch 41/100\n",
      "538/538 [==============================] - 18s 34ms/step - loss: 1.2463 - accuracy: 0.8020 - val_loss: 1.2424 - val_accuracy: 0.7989\n",
      "Epoch 42/100\n",
      "538/538 [==============================] - 18s 33ms/step - loss: 1.2394 - accuracy: 0.8078 - val_loss: 1.2357 - val_accuracy: 0.8003\n",
      "Epoch 43/100\n",
      "538/538 [==============================] - 20s 37ms/step - loss: 1.2329 - accuracy: 0.8074 - val_loss: 1.2294 - val_accuracy: 0.8045\n",
      "Epoch 44/100\n",
      "538/538 [==============================] - 23s 43ms/step - loss: 1.2267 - accuracy: 0.8153 - val_loss: 1.2234 - val_accuracy: 0.8070\n",
      "Epoch 45/100\n",
      "538/538 [==============================] - 20s 37ms/step - loss: 1.2208 - accuracy: 0.8180 - val_loss: 1.2176 - val_accuracy: 0.8089\n",
      "Epoch 46/100\n",
      "538/538 [==============================] - 17s 31ms/step - loss: 1.2152 - accuracy: 0.8221 - val_loss: 1.2122 - val_accuracy: 0.8124\n",
      "Epoch 47/100\n",
      "538/538 [==============================] - 16s 30ms/step - loss: 1.2099 - accuracy: 0.8228 - val_loss: 1.2070 - val_accuracy: 0.8149\n",
      "Epoch 48/100\n",
      "538/538 [==============================] - 16s 30ms/step - loss: 1.2048 - accuracy: 0.8269 - val_loss: 1.2020 - val_accuracy: 0.8177\n",
      "Epoch 49/100\n",
      "538/538 [==============================] - 16s 30ms/step - loss: 1.1999 - accuracy: 0.8325 - val_loss: 1.1971 - val_accuracy: 0.8200\n",
      "Epoch 50/100\n",
      "538/538 [==============================] - 16s 30ms/step - loss: 1.1952 - accuracy: 0.8287 - val_loss: 1.1925 - val_accuracy: 0.8249\n",
      "Epoch 51/100\n",
      "538/538 [==============================] - 16s 29ms/step - loss: 1.1907 - accuracy: 0.8404 - val_loss: 1.1882 - val_accuracy: 0.8228\n",
      "Epoch 52/100\n",
      "538/538 [==============================] - 16s 29ms/step - loss: 1.1863 - accuracy: 0.8333 - val_loss: 1.1838 - val_accuracy: 0.8305\n",
      "Epoch 53/100\n",
      "538/538 [==============================] - 17s 32ms/step - loss: 1.1822 - accuracy: 0.8415 - val_loss: 1.1797 - val_accuracy: 0.8324\n",
      "Epoch 54/100\n",
      "538/538 [==============================] - 20s 36ms/step - loss: 1.1781 - accuracy: 0.8434 - val_loss: 1.1757 - val_accuracy: 0.8363\n",
      "Epoch 55/100\n",
      "538/538 [==============================] - 19s 35ms/step - loss: 1.1742 - accuracy: 0.8455 - val_loss: 1.1719 - val_accuracy: 0.8384\n",
      "Epoch 56/100\n",
      "538/538 [==============================] - 19s 35ms/step - loss: 1.1705 - accuracy: 0.8474 - val_loss: 1.1681 - val_accuracy: 0.8391\n",
      "Epoch 57/100\n"
     ]
    },
    {
     "name": "stdout",
     "output_type": "stream",
     "text": [
      "538/538 [==============================] - 19s 34ms/step - loss: 1.1668 - accuracy: 0.8507 - val_loss: 1.1646 - val_accuracy: 0.8403\n",
      "Epoch 58/100\n",
      "538/538 [==============================] - 17s 31ms/step - loss: 1.1633 - accuracy: 0.8535 - val_loss: 1.1611 - val_accuracy: 0.8407\n",
      "Epoch 59/100\n",
      "538/538 [==============================] - 17s 31ms/step - loss: 1.1599 - accuracy: 0.8556 - val_loss: 1.1577 - val_accuracy: 0.8403\n",
      "Epoch 60/100\n",
      "538/538 [==============================] - 17s 31ms/step - loss: 1.1565 - accuracy: 0.8551 - val_loss: 1.1545 - val_accuracy: 0.8428\n",
      "Epoch 61/100\n",
      "538/538 [==============================] - 17s 31ms/step - loss: 1.1533 - accuracy: 0.8566 - val_loss: 1.1513 - val_accuracy: 0.8442\n",
      "Epoch 62/100\n",
      "538/538 [==============================] - 17s 31ms/step - loss: 1.1502 - accuracy: 0.8582 - val_loss: 1.1481 - val_accuracy: 0.8482\n",
      "Epoch 63/100\n",
      "538/538 [==============================] - 17s 31ms/step - loss: 1.1471 - accuracy: 0.8601 - val_loss: 1.1451 - val_accuracy: 0.8512\n",
      "Epoch 64/100\n",
      "538/538 [==============================] - 17s 31ms/step - loss: 1.1442 - accuracy: 0.8607 - val_loss: 1.1421 - val_accuracy: 0.8531\n",
      "Epoch 65/100\n",
      "538/538 [==============================] - 17s 31ms/step - loss: 1.1413 - accuracy: 0.8629 - val_loss: 1.1393 - val_accuracy: 0.8572\n",
      "Epoch 66/100\n",
      "538/538 [==============================] - 22s 40ms/step - loss: 1.1385 - accuracy: 0.8648 - val_loss: 1.1365 - val_accuracy: 0.8572\n",
      "Epoch 67/100\n",
      "538/538 [==============================] - 20s 36ms/step - loss: 1.1357 - accuracy: 0.8647 - val_loss: 1.1337 - val_accuracy: 0.8610\n",
      "Epoch 68/100\n",
      "538/538 [==============================] - 17s 31ms/step - loss: 1.1330 - accuracy: 0.8668 - val_loss: 1.1310 - val_accuracy: 0.8610\n",
      "Epoch 69/100\n",
      "538/538 [==============================] - 17s 32ms/step - loss: 1.1304 - accuracy: 0.8667 - val_loss: 1.1285 - val_accuracy: 0.8617\n",
      "Epoch 70/100\n",
      "538/538 [==============================] - 19s 35ms/step - loss: 1.1279 - accuracy: 0.8681 - val_loss: 1.1260 - val_accuracy: 0.8631\n",
      "Epoch 71/100\n",
      "538/538 [==============================] - 18s 34ms/step - loss: 1.1253 - accuracy: 0.8693 - val_loss: 1.1234 - val_accuracy: 0.8663\n",
      "Epoch 72/100\n",
      "538/538 [==============================] - 18s 34ms/step - loss: 1.1229 - accuracy: 0.8706 - val_loss: 1.1210 - val_accuracy: 0.8665\n",
      "Epoch 73/100\n",
      "538/538 [==============================] - 17s 32ms/step - loss: 1.1205 - accuracy: 0.8736 - val_loss: 1.1186 - val_accuracy: 0.8656\n",
      "Epoch 74/100\n",
      "538/538 [==============================] - 17s 32ms/step - loss: 1.1182 - accuracy: 0.8701 - val_loss: 1.1162 - val_accuracy: 0.8700\n",
      "Epoch 75/100\n",
      "538/538 [==============================] - 17s 31ms/step - loss: 1.1159 - accuracy: 0.8725 - val_loss: 1.1140 - val_accuracy: 0.8703\n",
      "Epoch 76/100\n",
      "538/538 [==============================] - 17s 31ms/step - loss: 1.1136 - accuracy: 0.8744 - val_loss: 1.1117 - val_accuracy: 0.8707\n",
      "Epoch 77/100\n",
      "538/538 [==============================] - 17s 31ms/step - loss: 1.1114 - accuracy: 0.8758 - val_loss: 1.1096 - val_accuracy: 0.8707\n",
      "Epoch 78/100\n",
      "538/538 [==============================] - 17s 31ms/step - loss: 1.1093 - accuracy: 0.8753 - val_loss: 1.1074 - val_accuracy: 0.8721\n",
      "Epoch 79/100\n",
      "538/538 [==============================] - 18s 33ms/step - loss: 1.1072 - accuracy: 0.8767 - val_loss: 1.1053 - val_accuracy: 0.8738\n",
      "Epoch 80/100\n",
      "538/538 [==============================] - 18s 33ms/step - loss: 1.1051 - accuracy: 0.8774 - val_loss: 1.1032 - val_accuracy: 0.8758accuracy: \n",
      "Epoch 81/100\n",
      "538/538 [==============================] - 18s 33ms/step - loss: 1.1031 - accuracy: 0.8773 - val_loss: 1.1011 - val_accuracy: 0.8782\n",
      "Epoch 82/100\n",
      "538/538 [==============================] - 18s 33ms/step - loss: 1.1011 - accuracy: 0.8782 - val_loss: 1.0991 - val_accuracy: 0.8791\n",
      "Epoch 83/100\n",
      "538/538 [==============================] - 18s 33ms/step - loss: 1.0991 - accuracy: 0.8804 - val_loss: 1.0972 - val_accuracy: 0.8798\n",
      "Epoch 84/100\n",
      "538/538 [==============================] - 18s 34ms/step - loss: 1.0972 - accuracy: 0.8795 - val_loss: 1.0953 - val_accuracy: 0.8791\n",
      "Epoch 85/100\n",
      "538/538 [==============================] - 18s 33ms/step - loss: 1.0953 - accuracy: 0.8807 - val_loss: 1.0934 - val_accuracy: 0.8810\n",
      "Epoch 86/100\n",
      "538/538 [==============================] - 16s 31ms/step - loss: 1.0934 - accuracy: 0.8824 - val_loss: 1.0915 - val_accuracy: 0.8814\n",
      "Epoch 87/100\n",
      "538/538 [==============================] - 18s 33ms/step - loss: 1.0916 - accuracy: 0.8836 - val_loss: 1.0897 - val_accuracy: 0.8798\n",
      "Epoch 88/100\n",
      "538/538 [==============================] - 17s 32ms/step - loss: 1.0898 - accuracy: 0.8821 - val_loss: 1.0879 - val_accuracy: 0.8819\n",
      "Epoch 89/100\n",
      "538/538 [==============================] - 17s 32ms/step - loss: 1.0880 - accuracy: 0.8820 - val_loss: 1.0861 - val_accuracy: 0.8835\n",
      "Epoch 90/100\n",
      "538/538 [==============================] - 17s 32ms/step - loss: 1.0862 - accuracy: 0.8828 - val_loss: 1.0844 - val_accuracy: 0.8826\n",
      "Epoch 91/100\n",
      "538/538 [==============================] - 20s 36ms/step - loss: 1.0845 - accuracy: 0.8852 - val_loss: 1.0827 - val_accuracy: 0.8831\n",
      "Epoch 92/100\n",
      "538/538 [==============================] - 17s 32ms/step - loss: 1.0828 - accuracy: 0.8862 - val_loss: 1.0811 - val_accuracy: 0.8805\n",
      "Epoch 93/100\n",
      "538/538 [==============================] - 17s 32ms/step - loss: 1.0812 - accuracy: 0.8834 - val_loss: 1.0793 - val_accuracy: 0.8844\n",
      "Epoch 94/100\n",
      "538/538 [==============================] - 16s 31ms/step - loss: 1.0795 - accuracy: 0.8862 - val_loss: 1.0776 - val_accuracy: 0.8858\n",
      "Epoch 95/100\n",
      "538/538 [==============================] - 16s 29ms/step - loss: 1.0779 - accuracy: 0.8883 - val_loss: 1.0760 - val_accuracy: 0.8849TA: 0s - l\n",
      "Epoch 96/100\n",
      "538/538 [==============================] - 16s 29ms/step - loss: 1.0763 - accuracy: 0.8877 - val_loss: 1.0744 - val_accuracy: 0.8851\n",
      "Epoch 97/100\n",
      "538/538 [==============================] - 16s 29ms/step - loss: 1.0747 - accuracy: 0.8848 - val_loss: 1.0728 - val_accuracy: 0.8863\n",
      "Epoch 98/100\n",
      "538/538 [==============================] - 16s 29ms/step - loss: 1.0732 - accuracy: 0.8898 - val_loss: 1.0713 - val_accuracy: 0.8858\n",
      "Epoch 99/100\n",
      "538/538 [==============================] - 16s 29ms/step - loss: 1.0717 - accuracy: 0.8880 - val_loss: 1.0697 - val_accuracy: 0.8856\n",
      "Epoch 100/100\n",
      "538/538 [==============================] - 16s 29ms/step - loss: 1.0702 - accuracy: 0.8885 - val_loss: 1.0682 - val_accuracy: 0.8858\n"
     ]
    }
   ],
   "source": [
    "# fit the keras model on the dataset\n",
    "history = model.fit(X_train, y_train, validation_split=0.2, epochs=100, batch_size=32)"
   ]
  },
  {
   "cell_type": "code",
   "execution_count": 99,
   "id": "7a56c889",
   "metadata": {},
   "outputs": [
    {
     "name": "stdout",
     "output_type": "stream",
     "text": [
      "288/288 [==============================] - 7s 23ms/step - loss: 1.0778 - accuracy: 0.8886\n"
     ]
    }
   ],
   "source": [
    "# evaluate on test set\n",
    "h = model.evaluate(X_test, y_test)"
   ]
  },
  {
   "cell_type": "code",
   "execution_count": null,
   "id": "362f8a11",
   "metadata": {},
   "outputs": [],
   "source": []
  },
  {
   "cell_type": "code",
   "execution_count": 109,
   "id": "5ecded50",
   "metadata": {},
   "outputs": [
    {
     "data": {
      "image/png": "[encoded data removed]",
      "text/plain": [
       "<Figure size 640x480 with 1 Axes>"
      ]
     },
     "metadata": {
      "needs_background": "light"
     },
     "output_type": "display_data"
    },
    {
     "data": {
      "text/plain": [
       "<Figure size 432x288 with 0 Axes>"
      ]
     },
     "metadata": {},
     "output_type": "display_data"
    }
   ],
   "source": [
    "# Accuracy vs Epoch graph\n",
    "from matplotlib.pyplot import figure\n",
    "figure(figsize=(8, 6), dpi=80)\n",
    "plt.plot(history.history['accuracy'])\n",
    "plt.plot(history.history['val_accuracy'])\n",
    "plt.title('Model Accuracy')\n",
    "plt.ylabel('Accuracy')\n",
    "plt.xlabel('Epoch')\n",
    "plt.legend(['Train', 'test'], loc='upper left')\n",
    "plt.show()\n",
    "plt.savefig('ac')"
   ]
  },
  {
   "cell_type": "code",
   "execution_count": null,
   "id": "6fa4759d",
   "metadata": {},
   "outputs": [],
   "source": []
  },
  {
   "cell_type": "code",
   "execution_count": 101,
   "id": "d5bd14ed",
   "metadata": {},
   "outputs": [
    {
     "data": {
      "image/png": "[encoded data removed]",
      "text/plain": [
       "<Figure size 640x480 with 1 Axes>"
      ]
     },
     "metadata": {
      "needs_background": "light"
     },
     "output_type": "display_data"
    },
    {
     "data": {
      "text/plain": [
       "<Figure size 432x288 with 0 Axes>"
      ]
     },
     "metadata": {},
     "output_type": "display_data"
    }
   ],
   "source": [
    "# Loss vs Epoch graph\n",
    "figure(figsize=(8, 6), dpi=80)\n",
    "plt.plot(history.history['loss'])\n",
    "plt.plot(history.history['val_loss'])\n",
    "plt.title('Model loss')\n",
    "plt.ylabel('Loss')\n",
    "plt.xlabel('Epoch')\n",
    "plt.legend(['Train', 'test'], loc='upper right')\n",
    "plt.show()\n",
    "plt.savefig('ls')"
   ]
  },
  {
   "cell_type": "code",
   "execution_count": 102,
   "id": "491ba5cf",
   "metadata": {},
   "outputs": [
    {
     "data": {
      "text/plain": [
       "array([[3.46112969e-08, 3.41997151e-08, 3.39189441e-08, ...,\n",
       "        3.41229622e-08, 3.44459927e-08, 3.42480853e-08],\n",
       "       [7.70351562e-07, 7.75779199e-07, 7.76569038e-07, ...,\n",
       "        7.75248168e-07, 7.74050648e-07, 7.75271758e-07],\n",
       "       [1.07614497e-07, 1.06148669e-07, 1.05767612e-07, ...,\n",
       "        1.06201114e-07, 1.06701094e-07, 1.06292305e-07],\n",
       "       ...,\n",
       "       [2.62519848e-07, 2.58847479e-07, 2.59829363e-07, ...,\n",
       "        2.59996682e-07, 2.59224464e-07, 2.59118423e-07],\n",
       "       [3.82736793e-08, 3.79315992e-08, 3.75425664e-08, ...,\n",
       "        3.77859521e-08, 3.82178769e-08, 3.79789462e-08],\n",
       "       [1.37463289e-07, 1.35381683e-07, 1.35424941e-07, ...,\n",
       "        1.35763358e-07, 1.35861399e-07, 1.35558679e-07]], dtype=float32)"
      ]
     },
     "execution_count": 102,
     "metadata": {},
     "output_type": "execute_result"
    }
   ],
   "source": [
    "#Prediction on X_test\n",
    "\n",
    "pred = model.predict(X_test)\n",
    "pred"
   ]
  },
  {
   "cell_type": "code",
   "execution_count": 103,
   "id": "9f071538",
   "metadata": {},
   "outputs": [],
   "source": [
    "# Transforming categorical values\n",
    "\n",
    "y_pred = []\n",
    "for i in range(0,9216):\n",
    "    y_pred.append(np.argmax(pred[i]))"
   ]
  },
  {
   "cell_type": "code",
   "execution_count": 104,
   "id": "72e4bcdd",
   "metadata": {},
   "outputs": [],
   "source": [
    "# Importing the confusion_matrix and classification_report\n",
    "\n",
    "from sklearn.metrics import confusion_matrix\n",
    "from sklearn.metrics import classification_report"
   ]
  },
  {
   "cell_type": "code",
   "execution_count": 105,
   "id": "5bdc5ee1",
   "metadata": {},
   "outputs": [
    {
     "data": {
      "text/plain": [
       "array([34839, 34859, 34829, ..., 34809, 34839, 34819], dtype=int64)"
      ]
     },
     "execution_count": 105,
     "metadata": {},
     "output_type": "execute_result"
    }
   ],
   "source": [
    "np.array(y_pred)"
   ]
  },
  {
   "cell_type": "code",
   "execution_count": 106,
   "id": "caa6a58c",
   "metadata": {},
   "outputs": [
    {
     "data": {
      "text/plain": [
       "array([[601, 191,   0,   0,   0,   0,   0,   0,   0,   0,   0,   0],\n",
       "       [  0, 755,   0,   0,   0,   0,   0,   0,   0,   0,   0,   0],\n",
       "       [ 33,  36, 168,  50,  28,  25,  38,  37,  73, 124,  85,  58],\n",
       "       [  0,   0,   0, 782,   0,   0,   0,   0,   0,   0,   0,   0],\n",
       "       [  0,   0,   0,  48, 678,  31,   0,   0,   0,   0,   0,   0],\n",
       "       [  0,   0,   0,   0,  14, 765,   0,   0,   0,   0,   0,   0],\n",
       "       [  0,   0,   0,   0,   0,   4, 792,   1,   0,   0,   0,   0],\n",
       "       [  0,   0,   0,   0,   0,   0,   0, 718,  84,   0,   0,   0],\n",
       "       [  0,   0,   0,   0,   0,   0,   0,   0, 744,   0,   0,   0],\n",
       "       [  0,   0,  30,   0,   0,   0,   0,   0,   0, 687,   0,   0],\n",
       "       [  0,   0,   0,   0,   0,   0,   0,   0,   0,  30, 719,   0],\n",
       "       [  1,   0,   0,   0,   0,   0,   0,   0,   0,   0,   6, 780]],\n",
       "      dtype=int64)"
      ]
     },
     "execution_count": 106,
     "metadata": {},
     "output_type": "execute_result"
    }
   ],
   "source": [
    "# Creating confusion matrix\n",
    "\n",
    "confusion_matrix(y_test, np.array(y_pred))"
   ]
  },
  {
   "cell_type": "code",
   "execution_count": 107,
   "id": "26a9024f",
   "metadata": {},
   "outputs": [
    {
     "name": "stdout",
     "output_type": "stream",
     "text": [
      "              precision    recall  f1-score   support\n",
      "\n",
      "       29655       0.95      0.76      0.84       792\n",
      "       29665       0.77      1.00      0.87       755\n",
      "       34779       0.85      0.22      0.35       755\n",
      "       34789       0.89      1.00      0.94       782\n",
      "       34799       0.94      0.90      0.92       757\n",
      "       34809       0.93      0.98      0.95       779\n",
      "       34819       0.95      0.99      0.97       797\n",
      "       34829       0.95      0.90      0.92       802\n",
      "       34839       0.83      1.00      0.90       744\n",
      "       34849       0.82      0.96      0.88       717\n",
      "       34859       0.89      0.96      0.92       749\n",
      "       34869       0.93      0.99      0.96       787\n",
      "\n",
      "    accuracy                           0.89      9216\n",
      "   macro avg       0.89      0.89      0.87      9216\n",
      "weighted avg       0.89      0.89      0.87      9216\n",
      "\n"
     ]
    }
   ],
   "source": [
    "# classification report\n",
    "\n",
    "print(classification_report(y_test, np.array(y_pred)))"
   ]
  },
  {
   "cell_type": "code",
   "execution_count": 108,
   "id": "90699769",
   "metadata": {},
   "outputs": [
    {
     "data": {
      "image/png": "[encoded data removed]",
      "text/plain": [
       "<Figure size 720x504 with 2 Axes>"
      ]
     },
     "metadata": {
      "needs_background": "light"
     },
     "output_type": "display_data"
    }
   ],
   "source": [
    "# Heatmap of confusion matrix\n",
    "cm = confusion_matrix(y_test,np.array(y_pred))\n",
    "\n",
    "plt.figure(figsize = (10,7))\n",
    "sns.heatmap(cm, annot=True, fmt='d')\n",
    "plt.xlabel('Predicted')\n",
    "plt.ylabel('Truth')\n",
    "plt.savefig('confus')"
   ]
  },
  {
   "cell_type": "code",
   "execution_count": null,
   "id": "eb18592b",
   "metadata": {},
   "outputs": [],
   "source": []
  }
 ],
 "metadata": {
  "kernelspec": {
   "display_name": "Python 3",
   "language": "python",
   "name": "python3"
  },
  "language_info": {
   "codemirror_mode": {
    "name": "ipython",
    "version": 3
   },
   "file_extension": ".py",
   "mimetype": "text/x-python",
   "name": "python",
   "nbconvert_exporter": "python",
   "pygments_lexer": "ipython3",
   "version": "3.8.8"
  }
 },
 "nbformat": 4,
 "nbformat_minor": 5
}
