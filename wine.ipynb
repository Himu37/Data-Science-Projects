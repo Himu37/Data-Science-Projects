{
 "cells": [
  {
   "cell_type": "code",
   "execution_count": 21,
   "id": "6ce22407",
   "metadata": {},
   "outputs": [],
   "source": [
    "import numpy as np\n",
    "import csv\n",
    "class matrix:\n",
    "    \n",
    "    def __init__(self, file):\n",
    "        self.file = file\n",
    "        \n",
    "    def load_from_csv(self, file):\n",
    "        csvfile = open(self.file)\n",
    "        read = csv.reader(csvfile)\n",
    "        rows = []\n",
    "        arr = []\n",
    "        for row in read:\n",
    "            rows.append(row)\n",
    "        for i in range(len(rows)):\n",
    "            for j in range(len(rows[0])):\n",
    "                a = rows[i][j]\n",
    "                arr.append(float(a))\n",
    "        self.array_2d = (np.array(arr)).reshape(178,13)\n",
    "        return self.array_2d\n",
    "        #print(self.array_2d)\n",
    "    \n",
    "    def standerdise(self):\n",
    "        self.load_from_csv(self.file)\n",
    "        arr2 = []\n",
    "        for i in range(len(self.array_2d[0])):\n",
    "            for j in range(len(self.array_2d)):\n",
    "                Dij = self.array_2d[j][i]\n",
    "                mean_D = self.array_2d[:,i].mean()\n",
    "                max_D = max(self.array_2d[:,i])\n",
    "                min_D = min(self.array_2d[:,i])\n",
    "                D_stand = (Dij - mean_D)/(max_D-min_D)\n",
    "                arr2.append(D_stand)\n",
    "        k = np.array(arr2)\n",
    "        self.array_2d = k.reshape(13,178).T\n",
    "        return self.array_2d\n",
    "        \n",
    "    def get_distance(self, other_matrix, weights, beta):\n",
    "        \n",
    "        pass\n",
    "        \n",
    "    \n",
    "    def get_count_frequency():\n",
    "        pass\n",
    "    \n",
    "    \n",
    "def get_initial_weights(m):\n",
    "    arr = []\n",
    "    k = np.random.rand(m)\n",
    "    for i in k:\n",
    "        a = i/sum(k)\n",
    "        arr.append(a)\n",
    "    weights = np.array(arr)\n",
    "    return weights\n",
    "\n",
    "def get_cetroids(array_2d):\n",
    "    pass"
   ]
  },
  {
   "cell_type": "code",
   "execution_count": 22,
   "id": "62fcaa1c",
   "metadata": {},
   "outputs": [],
   "source": [
    "m = matrix(\"Data.csv\")"
   ]
  },
  {
   "cell_type": "code",
   "execution_count": null,
   "id": "b79bc82e",
   "metadata": {},
   "outputs": [],
   "source": []
  },
  {
   "cell_type": "code",
   "execution_count": 23,
   "id": "3bba6ca1",
   "metadata": {},
   "outputs": [
    {
     "data": {
      "text/plain": [
       "array([[ 0.32352158, -0.12378425,  0.03394821, ...,  0.06711428,\n",
       "         0.47923612,  0.22689497],\n",
       "       [ 0.05246895, -0.10995026, -0.12113201, ...,  0.07524436,\n",
       "         0.28875993,  0.21619596],\n",
       "       [ 0.04194264,  0.00467425,  0.16229045, ...,  0.0589842 ,\n",
       "         0.20451084,  0.31248698],\n",
       "       ...,\n",
       "       [ 0.07089001,  0.38412089, -0.05696088, ..., -0.29873938,\n",
       "        -0.38523274,  0.06284361],\n",
       "       [ 0.04457422,  0.05012879,  0.00186264, ..., -0.2906093 ,\n",
       "        -0.36325472,  0.06640994],\n",
       "       [ 0.2972058 ,  0.34854776,  0.19972361, ..., -0.28247922,\n",
       "        -0.37058073, -0.13330475]])"
      ]
     },
     "execution_count": 23,
     "metadata": {},
     "output_type": "execute_result"
    }
   ],
   "source": [
    "m.standerdise()"
   ]
  },
  {
   "cell_type": "code",
   "execution_count": 24,
   "id": "9a79d80f",
   "metadata": {},
   "outputs": [
    {
     "data": {
      "text/plain": [
       "array([0.00137997, 0.02217159, 0.26495586, 0.12771441, 0.03085934,\n",
       "       0.26561535, 0.28730348])"
      ]
     },
     "execution_count": 24,
     "metadata": {},
     "output_type": "execute_result"
    }
   ],
   "source": [
    "get_initial_weights(7)"
   ]
  },
  {
   "cell_type": "code",
   "execution_count": 25,
   "id": "7b13348c",
   "metadata": {},
   "outputs": [
    {
     "data": {
      "text/plain": [
       "array([[ 0.32352158, -0.12378425,  0.03394821, ...,  0.06711428,\n",
       "         0.47923612,  0.22689497],\n",
       "       [ 0.05246895, -0.10995026, -0.12113201, ...,  0.07524436,\n",
       "         0.28875993,  0.21619596],\n",
       "       [ 0.04194264,  0.00467425,  0.16229045, ...,  0.0589842 ,\n",
       "         0.20451084,  0.31248698],\n",
       "       ...,\n",
       "       [ 0.07089001,  0.38412089, -0.05696088, ..., -0.29873938,\n",
       "        -0.38523274,  0.06284361],\n",
       "       [ 0.04457422,  0.05012879,  0.00186264, ..., -0.2906093 ,\n",
       "        -0.36325472,  0.06640994],\n",
       "       [ 0.2972058 ,  0.34854776,  0.19972361, ..., -0.28247922,\n",
       "        -0.37058073, -0.13330475]])"
      ]
     },
     "execution_count": 25,
     "metadata": {},
     "output_type": "execute_result"
    }
   ],
   "source": [
    "m.array_2d"
   ]
  },
  {
   "cell_type": "code",
   "execution_count": null,
   "id": "44305ac2",
   "metadata": {},
   "outputs": [],
   "source": []
  },
  {
   "cell_type": "code",
   "execution_count": null,
   "id": "f59de866",
   "metadata": {},
   "outputs": [],
   "source": []
  },
  {
   "cell_type": "code",
   "execution_count": null,
   "id": "26a5e802",
   "metadata": {},
   "outputs": [],
   "source": []
  },
  {
   "cell_type": "code",
   "execution_count": null,
   "id": "d01052dc",
   "metadata": {},
   "outputs": [],
   "source": []
  },
  {
   "cell_type": "code",
   "execution_count": 330,
   "id": "485c5799",
   "metadata": {},
   "outputs": [],
   "source": []
  },
  {
   "cell_type": "code",
   "execution_count": null,
   "id": "c926f878",
   "metadata": {},
   "outputs": [],
   "source": []
  },
  {
   "cell_type": "code",
   "execution_count": null,
   "id": "78bd6267",
   "metadata": {},
   "outputs": [],
   "source": []
  },
  {
   "cell_type": "code",
   "execution_count": null,
   "id": "8712d707",
   "metadata": {},
   "outputs": [],
   "source": []
  },
  {
   "cell_type": "code",
   "execution_count": null,
   "id": "0d07d3a6",
   "metadata": {},
   "outputs": [],
   "source": []
  },
  {
   "cell_type": "code",
   "execution_count": null,
   "id": "6cc9eef5",
   "metadata": {},
   "outputs": [],
   "source": []
  },
  {
   "cell_type": "code",
   "execution_count": null,
   "id": "1d5ab823",
   "metadata": {},
   "outputs": [],
   "source": []
  },
  {
   "cell_type": "code",
   "execution_count": null,
   "id": "56c00528",
   "metadata": {},
   "outputs": [],
   "source": []
  },
  {
   "cell_type": "code",
   "execution_count": null,
   "id": "2b2dcb69",
   "metadata": {},
   "outputs": [],
   "source": []
  },
  {
   "cell_type": "code",
   "execution_count": null,
   "id": "8356bec1",
   "metadata": {},
   "outputs": [],
   "source": []
  },
  {
   "cell_type": "code",
   "execution_count": null,
   "id": "adf58979",
   "metadata": {},
   "outputs": [],
   "source": []
  },
  {
   "cell_type": "code",
   "execution_count": null,
   "id": "51d162f9",
   "metadata": {},
   "outputs": [],
   "source": []
  },
  {
   "cell_type": "code",
   "execution_count": null,
   "id": "00e84765",
   "metadata": {},
   "outputs": [],
   "source": []
  },
  {
   "cell_type": "code",
   "execution_count": null,
   "id": "ccbdb757",
   "metadata": {},
   "outputs": [],
   "source": []
  },
  {
   "cell_type": "code",
   "execution_count": null,
   "id": "43f6e086",
   "metadata": {},
   "outputs": [],
   "source": []
  },
  {
   "cell_type": "code",
   "execution_count": null,
   "id": "91bdacc6",
   "metadata": {},
   "outputs": [],
   "source": []
  },
  {
   "cell_type": "code",
   "execution_count": null,
   "id": "2b505ddb",
   "metadata": {},
   "outputs": [],
   "source": []
  },
  {
   "cell_type": "code",
   "execution_count": null,
   "id": "121ada2a",
   "metadata": {},
   "outputs": [],
   "source": []
  },
  {
   "cell_type": "code",
   "execution_count": null,
   "id": "ea5b6140",
   "metadata": {},
   "outputs": [],
   "source": []
  }
 ],
 "metadata": {
  "kernelspec": {
   "display_name": "Python 3",
   "language": "python",
   "name": "python3"
  },
  "language_info": {
   "codemirror_mode": {
    "name": "ipython",
    "version": 3
   },
   "file_extension": ".py",
   "mimetype": "text/x-python",
   "name": "python",
   "nbconvert_exporter": "python",
   "pygments_lexer": "ipython3",
   "version": "3.8.8"
  }
 },
 "nbformat": 4,
 "nbformat_minor": 5
}
