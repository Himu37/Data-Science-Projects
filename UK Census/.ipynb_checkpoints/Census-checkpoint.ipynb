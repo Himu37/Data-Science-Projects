{
 "cells": [
  {
   "cell_type": "markdown",
   "metadata": {},
   "source": [
    "# Applied Data Analytics"
   ]
  },
  {
   "cell_type": "markdown",
   "metadata": {},
   "source": [
    "***"
   ]
  },
  {
   "cell_type": "code",
   "execution_count": 25,
   "metadata": {},
   "outputs": [],
   "source": [
    "#Importing all the python's data science library\n",
    "\n",
    "import numpy as np\n",
    "import pandas as pd\n",
    "import matplotlib.pyplot as plt\n",
    "import seaborn as sns\n",
    "%matplotlib inline"
   ]
  },
  {
   "cell_type": "code",
   "execution_count": 26,
   "metadata": {},
   "outputs": [],
   "source": [
    "# Uploading the Census dataset csv file in a variable called data\n",
    "\n",
    "data = pd.read_csv('Census.csv')"
   ]
  },
  {
   "cell_type": "code",
   "execution_count": 27,
   "metadata": {},
   "outputs": [
    {
     "data": {
      "text/html": [
       "<div>\n",
       "<style scoped>\n",
       "    .dataframe tbody tr th:only-of-type {\n",
       "        vertical-align: middle;\n",
       "    }\n",
       "\n",
       "    .dataframe tbody tr th {\n",
       "        vertical-align: top;\n",
       "    }\n",
       "\n",
       "    .dataframe thead th {\n",
       "        text-align: right;\n",
       "    }\n",
       "</style>\n",
       "<table border=\"1\" class=\"dataframe\">\n",
       "  <thead>\n",
       "    <tr style=\"text-align: right;\">\n",
       "      <th></th>\n",
       "      <th>Person ID</th>\n",
       "      <th>Region</th>\n",
       "      <th>Residence Type</th>\n",
       "      <th>Family Composition</th>\n",
       "      <th>Population Base</th>\n",
       "      <th>Sex</th>\n",
       "      <th>Age</th>\n",
       "      <th>Marital Status</th>\n",
       "      <th>Student</th>\n",
       "      <th>Country of Birth</th>\n",
       "      <th>Health</th>\n",
       "      <th>Ethnic Group</th>\n",
       "      <th>Religion</th>\n",
       "      <th>Economic Activity</th>\n",
       "      <th>Occupation</th>\n",
       "      <th>Industry</th>\n",
       "      <th>Hours worked per week</th>\n",
       "      <th>No of hours</th>\n",
       "      <th>Approximated Social Grade</th>\n",
       "    </tr>\n",
       "  </thead>\n",
       "  <tbody>\n",
       "    <tr>\n",
       "      <th>0</th>\n",
       "      <td>7394816</td>\n",
       "      <td>E12000001</td>\n",
       "      <td>H</td>\n",
       "      <td>2</td>\n",
       "      <td>1</td>\n",
       "      <td>2</td>\n",
       "      <td>6</td>\n",
       "      <td>2</td>\n",
       "      <td>2</td>\n",
       "      <td>1</td>\n",
       "      <td>2</td>\n",
       "      <td>1</td>\n",
       "      <td>2</td>\n",
       "      <td>5</td>\n",
       "      <td>8</td>\n",
       "      <td>2</td>\n",
       "      <td>-9</td>\n",
       "      <td>NaN</td>\n",
       "      <td>4</td>\n",
       "    </tr>\n",
       "    <tr>\n",
       "      <th>1</th>\n",
       "      <td>7394832</td>\n",
       "      <td>E12000001</td>\n",
       "      <td>H</td>\n",
       "      <td>3</td>\n",
       "      <td>1</td>\n",
       "      <td>2</td>\n",
       "      <td>1</td>\n",
       "      <td>1</td>\n",
       "      <td>2</td>\n",
       "      <td>1</td>\n",
       "      <td>2</td>\n",
       "      <td>1</td>\n",
       "      <td>1</td>\n",
       "      <td>-9</td>\n",
       "      <td>-9</td>\n",
       "      <td>-9</td>\n",
       "      <td>-9</td>\n",
       "      <td>NaN</td>\n",
       "      <td>-9</td>\n",
       "    </tr>\n",
       "    <tr>\n",
       "      <th>2</th>\n",
       "      <td>7394719</td>\n",
       "      <td>E12000001</td>\n",
       "      <td>H</td>\n",
       "      <td>2</td>\n",
       "      <td>1</td>\n",
       "      <td>1</td>\n",
       "      <td>7</td>\n",
       "      <td>2</td>\n",
       "      <td>2</td>\n",
       "      <td>1</td>\n",
       "      <td>1</td>\n",
       "      <td>1</td>\n",
       "      <td>2</td>\n",
       "      <td>5</td>\n",
       "      <td>8</td>\n",
       "      <td>2</td>\n",
       "      <td>-9</td>\n",
       "      <td>NaN</td>\n",
       "      <td>2</td>\n",
       "    </tr>\n",
       "    <tr>\n",
       "      <th>3</th>\n",
       "      <td>7394840</td>\n",
       "      <td>E12000001</td>\n",
       "      <td>H</td>\n",
       "      <td>1</td>\n",
       "      <td>1</td>\n",
       "      <td>2</td>\n",
       "      <td>6</td>\n",
       "      <td>4</td>\n",
       "      <td>2</td>\n",
       "      <td>1</td>\n",
       "      <td>3</td>\n",
       "      <td>1</td>\n",
       "      <td>2</td>\n",
       "      <td>5</td>\n",
       "      <td>9</td>\n",
       "      <td>5</td>\n",
       "      <td>-9</td>\n",
       "      <td>NaN</td>\n",
       "      <td>4</td>\n",
       "    </tr>\n",
       "    <tr>\n",
       "      <th>4</th>\n",
       "      <td>7394711</td>\n",
       "      <td>E12000001</td>\n",
       "      <td>H</td>\n",
       "      <td>2</td>\n",
       "      <td>1</td>\n",
       "      <td>1</td>\n",
       "      <td>1</td>\n",
       "      <td>1</td>\n",
       "      <td>1</td>\n",
       "      <td>1</td>\n",
       "      <td>1</td>\n",
       "      <td>1</td>\n",
       "      <td>1</td>\n",
       "      <td>-9</td>\n",
       "      <td>-9</td>\n",
       "      <td>-9</td>\n",
       "      <td>-9</td>\n",
       "      <td>NaN</td>\n",
       "      <td>-9</td>\n",
       "    </tr>\n",
       "  </tbody>\n",
       "</table>\n",
       "</div>"
      ],
      "text/plain": [
       "   Person ID     Region Residence Type  Family Composition  Population Base  \\\n",
       "0    7394816  E12000001              H                   2                1   \n",
       "1    7394832  E12000001              H                   3                1   \n",
       "2    7394719  E12000001              H                   2                1   \n",
       "3    7394840  E12000001              H                   1                1   \n",
       "4    7394711  E12000001              H                   2                1   \n",
       "\n",
       "   Sex  Age  Marital Status  Student  Country of Birth  Health  Ethnic Group  \\\n",
       "0    2    6               2        2                 1       2             1   \n",
       "1    2    1               1        2                 1       2             1   \n",
       "2    1    7               2        2                 1       1             1   \n",
       "3    2    6               4        2                 1       3             1   \n",
       "4    1    1               1        1                 1       1             1   \n",
       "\n",
       "   Religion  Economic Activity  Occupation  Industry  Hours worked per week  \\\n",
       "0         2                  5           8         2                     -9   \n",
       "1         1                 -9          -9        -9                     -9   \n",
       "2         2                  5           8         2                     -9   \n",
       "3         2                  5           9         5                     -9   \n",
       "4         1                 -9          -9        -9                     -9   \n",
       "\n",
       "   No of hours  Approximated Social Grade  \n",
       "0          NaN                          4  \n",
       "1          NaN                         -9  \n",
       "2          NaN                          2  \n",
       "3          NaN                          4  \n",
       "4          NaN                         -9  "
      ]
     },
     "execution_count": 27,
     "metadata": {},
     "output_type": "execute_result"
    }
   ],
   "source": [
    "# To see the first 5 rows of this dataset\n",
    "\n",
    "data.head()"
   ]
  },
  {
   "cell_type": "markdown",
   "metadata": {},
   "source": [
    "***"
   ]
  },
  {
   "cell_type": "markdown",
   "metadata": {},
   "source": [
    "### Descriptive Analytics"
   ]
  },
  {
   "cell_type": "markdown",
   "metadata": {},
   "source": [
    "***"
   ]
  },
  {
   "cell_type": "code",
   "execution_count": 28,
   "metadata": {},
   "outputs": [
    {
     "data": {
      "text/plain": [
       "569740"
      ]
     },
     "execution_count": 28,
     "metadata": {},
     "output_type": "execute_result"
    }
   ],
   "source": [
    "# Length of the dataset. The dataset has 2225 rows\n",
    "\n",
    "len(data)"
   ]
  },
  {
   "cell_type": "code",
   "execution_count": 29,
   "metadata": {},
   "outputs": [
    {
     "name": "stdout",
     "output_type": "stream",
     "text": [
      "<class 'pandas.core.frame.DataFrame'>\n",
      "RangeIndex: 569740 entries, 0 to 569739\n",
      "Data columns (total 19 columns):\n",
      " #   Column                     Non-Null Count   Dtype  \n",
      "---  ------                     --------------   -----  \n",
      " 0   Person ID                  569740 non-null  int64  \n",
      " 1   Region                     569740 non-null  object \n",
      " 2   Residence Type             569740 non-null  object \n",
      " 3   Family Composition         569740 non-null  int64  \n",
      " 4   Population Base            569740 non-null  int64  \n",
      " 5   Sex                        569740 non-null  int64  \n",
      " 6   Age                        569740 non-null  int64  \n",
      " 7   Marital Status             569740 non-null  int64  \n",
      " 8   Student                    569740 non-null  int64  \n",
      " 9   Country of Birth           569740 non-null  int64  \n",
      " 10  Health                     569740 non-null  int64  \n",
      " 11  Ethnic Group               569740 non-null  int64  \n",
      " 12  Religion                   569740 non-null  int64  \n",
      " 13  Economic Activity          569740 non-null  int64  \n",
      " 14  Occupation                 569740 non-null  int64  \n",
      " 15  Industry                   569740 non-null  int64  \n",
      " 16  Hours worked per week      569740 non-null  int64  \n",
      " 17  No of hours                267419 non-null  float64\n",
      " 18  Approximated Social Grade  569740 non-null  int64  \n",
      "dtypes: float64(1), int64(16), object(2)\n",
      "memory usage: 82.6+ MB\n"
     ]
    }
   ],
   "source": [
    "# To see all the data counts of each columns\n",
    "\n",
    "data.info()"
   ]
  },
  {
   "cell_type": "code",
   "execution_count": 30,
   "metadata": {},
   "outputs": [
    {
     "data": {
      "text/plain": [
       "Person ID                         0\n",
       "Region                            0\n",
       "Residence Type                    0\n",
       "Family Composition                0\n",
       "Population Base                   0\n",
       "Sex                               0\n",
       "Age                               0\n",
       "Marital Status                    0\n",
       "Student                           0\n",
       "Country of Birth                  0\n",
       "Health                            0\n",
       "Ethnic Group                      0\n",
       "Religion                          0\n",
       "Economic Activity                 0\n",
       "Occupation                        0\n",
       "Industry                          0\n",
       "Hours worked per week             0\n",
       "No of hours                  302321\n",
       "Approximated Social Grade         0\n",
       "dtype: int64"
      ]
     },
     "execution_count": 30,
     "metadata": {},
     "output_type": "execute_result"
    }
   ],
   "source": [
    "# Counts of the null values of features\n",
    "\n",
    "data.isnull().sum()"
   ]
  },
  {
   "cell_type": "code",
   "execution_count": 31,
   "metadata": {},
   "outputs": [
    {
     "data": {
      "text/plain": [
       "<matplotlib.axes._subplots.AxesSubplot at 0x21bce340ac8>"
      ]
     },
     "execution_count": 31,
     "metadata": {},
     "output_type": "execute_result"
    },
    {
     "data": {
      "image/png": "[encoded data removed]",
      "text/plain": [
       "<Figure size 720x504 with 1 Axes>"
      ]
     },
     "metadata": {},
     "output_type": "display_data"
    }
   ],
   "source": [
    "# A better way to see the null values with seaborn's visualization plot function\n",
    "\n",
    "sns.set(rc={'figure.figsize':(10,7)})\n",
    "sns.heatmap(data.isnull(), yticklabels=False, cbar=False, cmap='viridis')"
   ]
  },
  {
   "cell_type": "code",
   "execution_count": 32,
   "metadata": {},
   "outputs": [
    {
     "data": {
      "text/html": [
       "<div>\n",
       "<style scoped>\n",
       "    .dataframe tbody tr th:only-of-type {\n",
       "        vertical-align: middle;\n",
       "    }\n",
       "\n",
       "    .dataframe tbody tr th {\n",
       "        vertical-align: top;\n",
       "    }\n",
       "\n",
       "    .dataframe thead th {\n",
       "        text-align: right;\n",
       "    }\n",
       "</style>\n",
       "<table border=\"1\" class=\"dataframe\">\n",
       "  <thead>\n",
       "    <tr style=\"text-align: right;\">\n",
       "      <th></th>\n",
       "      <th>Person ID</th>\n",
       "      <th>Family Composition</th>\n",
       "      <th>Population Base</th>\n",
       "      <th>Sex</th>\n",
       "      <th>Age</th>\n",
       "      <th>Marital Status</th>\n",
       "      <th>Student</th>\n",
       "      <th>Country of Birth</th>\n",
       "      <th>Health</th>\n",
       "      <th>Ethnic Group</th>\n",
       "      <th>Religion</th>\n",
       "      <th>Economic Activity</th>\n",
       "      <th>Occupation</th>\n",
       "      <th>Industry</th>\n",
       "      <th>Hours worked per week</th>\n",
       "      <th>No of hours</th>\n",
       "      <th>Approximated Social Grade</th>\n",
       "    </tr>\n",
       "  </thead>\n",
       "  <tbody>\n",
       "    <tr>\n",
       "      <th>count</th>\n",
       "      <td>5.697400e+05</td>\n",
       "      <td>569740.00000</td>\n",
       "      <td>569740.000000</td>\n",
       "      <td>569740.000000</td>\n",
       "      <td>569740.000000</td>\n",
       "      <td>569740.000000</td>\n",
       "      <td>569740.000000</td>\n",
       "      <td>569740.000000</td>\n",
       "      <td>569740.000000</td>\n",
       "      <td>569740.000000</td>\n",
       "      <td>569740.000000</td>\n",
       "      <td>569740.000000</td>\n",
       "      <td>569740.000000</td>\n",
       "      <td>569740.000000</td>\n",
       "      <td>569740.000000</td>\n",
       "      <td>267419.000000</td>\n",
       "      <td>569740.000000</td>\n",
       "    </tr>\n",
       "    <tr>\n",
       "      <th>mean</th>\n",
       "      <td>7.679353e+06</td>\n",
       "      <td>2.01187</td>\n",
       "      <td>1.018731</td>\n",
       "      <td>1.507551</td>\n",
       "      <td>3.978676</td>\n",
       "      <td>1.856201</td>\n",
       "      <td>1.777904</td>\n",
       "      <td>1.016237</td>\n",
       "      <td>1.658323</td>\n",
       "      <td>1.191247</td>\n",
       "      <td>2.419384</td>\n",
       "      <td>0.685597</td>\n",
       "      <td>1.240982</td>\n",
       "      <td>2.459843</td>\n",
       "      <td>-3.487106</td>\n",
       "      <td>35.234789</td>\n",
       "      <td>0.034123</td>\n",
       "    </tr>\n",
       "    <tr>\n",
       "      <th>std</th>\n",
       "      <td>1.644699e+05</td>\n",
       "      <td>2.35879</td>\n",
       "      <td>0.159058</td>\n",
       "      <td>0.499943</td>\n",
       "      <td>2.219494</td>\n",
       "      <td>1.125021</td>\n",
       "      <td>0.415656</td>\n",
       "      <td>1.153095</td>\n",
       "      <td>1.486599</td>\n",
       "      <td>1.391857</td>\n",
       "      <td>2.493065</td>\n",
       "      <td>5.265470</td>\n",
       "      <td>6.521825</td>\n",
       "      <td>7.398951</td>\n",
       "      <td>5.887538</td>\n",
       "      <td>13.520881</td>\n",
       "      <td>4.862673</td>\n",
       "    </tr>\n",
       "    <tr>\n",
       "      <th>min</th>\n",
       "      <td>7.394483e+06</td>\n",
       "      <td>-9.00000</td>\n",
       "      <td>1.000000</td>\n",
       "      <td>1.000000</td>\n",
       "      <td>1.000000</td>\n",
       "      <td>1.000000</td>\n",
       "      <td>1.000000</td>\n",
       "      <td>-9.000000</td>\n",
       "      <td>-9.000000</td>\n",
       "      <td>-9.000000</td>\n",
       "      <td>-9.000000</td>\n",
       "      <td>-9.000000</td>\n",
       "      <td>-9.000000</td>\n",
       "      <td>-9.000000</td>\n",
       "      <td>-9.000000</td>\n",
       "      <td>1.000000</td>\n",
       "      <td>-9.000000</td>\n",
       "    </tr>\n",
       "    <tr>\n",
       "      <th>25%</th>\n",
       "      <td>7.536918e+06</td>\n",
       "      <td>2.00000</td>\n",
       "      <td>1.000000</td>\n",
       "      <td>1.000000</td>\n",
       "      <td>2.000000</td>\n",
       "      <td>1.000000</td>\n",
       "      <td>2.000000</td>\n",
       "      <td>1.000000</td>\n",
       "      <td>1.000000</td>\n",
       "      <td>1.000000</td>\n",
       "      <td>1.000000</td>\n",
       "      <td>1.000000</td>\n",
       "      <td>-9.000000</td>\n",
       "      <td>-9.000000</td>\n",
       "      <td>-9.000000</td>\n",
       "      <td>27.000000</td>\n",
       "      <td>1.000000</td>\n",
       "    </tr>\n",
       "    <tr>\n",
       "      <th>50%</th>\n",
       "      <td>7.679352e+06</td>\n",
       "      <td>2.00000</td>\n",
       "      <td>1.000000</td>\n",
       "      <td>2.000000</td>\n",
       "      <td>4.000000</td>\n",
       "      <td>2.000000</td>\n",
       "      <td>2.000000</td>\n",
       "      <td>1.000000</td>\n",
       "      <td>2.000000</td>\n",
       "      <td>1.000000</td>\n",
       "      <td>2.000000</td>\n",
       "      <td>1.000000</td>\n",
       "      <td>3.000000</td>\n",
       "      <td>4.000000</td>\n",
       "      <td>-9.000000</td>\n",
       "      <td>37.000000</td>\n",
       "      <td>2.000000</td>\n",
       "    </tr>\n",
       "    <tr>\n",
       "      <th>75%</th>\n",
       "      <td>7.821787e+06</td>\n",
       "      <td>3.00000</td>\n",
       "      <td>1.000000</td>\n",
       "      <td>2.000000</td>\n",
       "      <td>6.000000</td>\n",
       "      <td>2.000000</td>\n",
       "      <td>2.000000</td>\n",
       "      <td>1.000000</td>\n",
       "      <td>2.000000</td>\n",
       "      <td>1.000000</td>\n",
       "      <td>2.000000</td>\n",
       "      <td>5.000000</td>\n",
       "      <td>6.000000</td>\n",
       "      <td>8.000000</td>\n",
       "      <td>3.000000</td>\n",
       "      <td>45.000000</td>\n",
       "      <td>3.000000</td>\n",
       "    </tr>\n",
       "    <tr>\n",
       "      <th>max</th>\n",
       "      <td>7.964223e+06</td>\n",
       "      <td>6.00000</td>\n",
       "      <td>3.000000</td>\n",
       "      <td>2.000000</td>\n",
       "      <td>8.000000</td>\n",
       "      <td>5.000000</td>\n",
       "      <td>2.000000</td>\n",
       "      <td>2.000000</td>\n",
       "      <td>5.000000</td>\n",
       "      <td>5.000000</td>\n",
       "      <td>9.000000</td>\n",
       "      <td>9.000000</td>\n",
       "      <td>9.000000</td>\n",
       "      <td>12.000000</td>\n",
       "      <td>4.000000</td>\n",
       "      <td>60.000000</td>\n",
       "      <td>4.000000</td>\n",
       "    </tr>\n",
       "  </tbody>\n",
       "</table>\n",
       "</div>"
      ],
      "text/plain": [
       "          Person ID  Family Composition  Population Base            Sex  \\\n",
       "count  5.697400e+05        569740.00000    569740.000000  569740.000000   \n",
       "mean   7.679353e+06             2.01187         1.018731       1.507551   \n",
       "std    1.644699e+05             2.35879         0.159058       0.499943   \n",
       "min    7.394483e+06            -9.00000         1.000000       1.000000   \n",
       "25%    7.536918e+06             2.00000         1.000000       1.000000   \n",
       "50%    7.679352e+06             2.00000         1.000000       2.000000   \n",
       "75%    7.821787e+06             3.00000         1.000000       2.000000   \n",
       "max    7.964223e+06             6.00000         3.000000       2.000000   \n",
       "\n",
       "                 Age  Marital Status        Student  Country of Birth  \\\n",
       "count  569740.000000   569740.000000  569740.000000     569740.000000   \n",
       "mean        3.978676        1.856201       1.777904          1.016237   \n",
       "std         2.219494        1.125021       0.415656          1.153095   \n",
       "min         1.000000        1.000000       1.000000         -9.000000   \n",
       "25%         2.000000        1.000000       2.000000          1.000000   \n",
       "50%         4.000000        2.000000       2.000000          1.000000   \n",
       "75%         6.000000        2.000000       2.000000          1.000000   \n",
       "max         8.000000        5.000000       2.000000          2.000000   \n",
       "\n",
       "              Health   Ethnic Group       Religion  Economic Activity  \\\n",
       "count  569740.000000  569740.000000  569740.000000      569740.000000   \n",
       "mean        1.658323       1.191247       2.419384           0.685597   \n",
       "std         1.486599       1.391857       2.493065           5.265470   \n",
       "min        -9.000000      -9.000000      -9.000000          -9.000000   \n",
       "25%         1.000000       1.000000       1.000000           1.000000   \n",
       "50%         2.000000       1.000000       2.000000           1.000000   \n",
       "75%         2.000000       1.000000       2.000000           5.000000   \n",
       "max         5.000000       5.000000       9.000000           9.000000   \n",
       "\n",
       "          Occupation       Industry  Hours worked per week    No of hours  \\\n",
       "count  569740.000000  569740.000000          569740.000000  267419.000000   \n",
       "mean        1.240982       2.459843              -3.487106      35.234789   \n",
       "std         6.521825       7.398951               5.887538      13.520881   \n",
       "min        -9.000000      -9.000000              -9.000000       1.000000   \n",
       "25%        -9.000000      -9.000000              -9.000000      27.000000   \n",
       "50%         3.000000       4.000000              -9.000000      37.000000   \n",
       "75%         6.000000       8.000000               3.000000      45.000000   \n",
       "max         9.000000      12.000000               4.000000      60.000000   \n",
       "\n",
       "       Approximated Social Grade  \n",
       "count              569740.000000  \n",
       "mean                    0.034123  \n",
       "std                     4.862673  \n",
       "min                    -9.000000  \n",
       "25%                     1.000000  \n",
       "50%                     2.000000  \n",
       "75%                     3.000000  \n",
       "max                     4.000000  "
      ]
     },
     "execution_count": 32,
     "metadata": {},
     "output_type": "execute_result"
    }
   ],
   "source": [
    "# Description of the whole dataset with statistics\n",
    "\n",
    "data.describe()"
   ]
  },
  {
   "cell_type": "code",
   "execution_count": 35,
   "metadata": {},
   "outputs": [
    {
     "data": {
      "text/plain": [
       "<matplotlib.axes._subplots.AxesSubplot at 0x21b801e50c8>"
      ]
     },
     "execution_count": 35,
     "metadata": {},
     "output_type": "execute_result"
    },
    {
     "data": {
      "image/png": "[encoded data removed]",
      "text/plain": [
       "<Figure size 576x288 with 1 Axes>"
      ]
     },
     "metadata": {},
     "output_type": "display_data"
    }
   ],
   "source": [
    "# Histogram of Occupation column\n",
    "\n",
    "sns.distplot(data['Occupation'], bins=20)"
   ]
  },
  {
   "cell_type": "code",
   "execution_count": 36,
   "metadata": {},
   "outputs": [
    {
     "data": {
      "text/plain": [
       "<matplotlib.axes._subplots.AxesSubplot at 0x21b80304f48>"
      ]
     },
     "execution_count": 36,
     "metadata": {},
     "output_type": "execute_result"
    },
    {
     "data": {
      "image/png": "[encoded data removed]",
      "text/plain": [
       "<Figure size 576x288 with 1 Axes>"
      ]
     },
     "metadata": {},
     "output_type": "display_data"
    }
   ],
   "source": [
    "# Histogram of Approximated Social Grade column\n",
    "\n",
    "sns.distplot(data['Approximated Social Grade'], bins=20)"
   ]
  },
  {
   "cell_type": "code",
   "execution_count": 37,
   "metadata": {},
   "outputs": [
    {
     "data": {
      "text/plain": [
       "<matplotlib.axes._subplots.AxesSubplot at 0x21b80322f08>"
      ]
     },
     "execution_count": 37,
     "metadata": {},
     "output_type": "execute_result"
    },
    {
     "data": {
      "image/png": "[encoded data removed]",
      "text/plain": [
       "<Figure size 576x288 with 1 Axes>"
      ]
     },
     "metadata": {},
     "output_type": "display_data"
    }
   ],
   "source": [
    "# Count Plot of Occupation column\n",
    "\n",
    "sns.countplot(data['Occupation'])"
   ]
  },
  {
   "cell_type": "code",
   "execution_count": 40,
   "metadata": {},
   "outputs": [
    {
     "data": {
      "text/plain": [
       "<seaborn.axisgrid.JointGrid at 0x21b82575c48>"
      ]
     },
     "execution_count": 40,
     "metadata": {},
     "output_type": "execute_result"
    },
    {
     "data": {
      "image/png": "[encoded data removed]",
      "text/plain": [
       "<Figure size 432x432 with 3 Axes>"
      ]
     },
     "metadata": {},
     "output_type": "display_data"
    }
   ],
   "source": [
    "# Scatter Plot of Occupation and Hours worked per week columns\n",
    "\n",
    "sns.jointplot(x='Occupation', y='Hours worked per week', data=data)"
   ]
  },
  {
   "cell_type": "code",
   "execution_count": 41,
   "metadata": {},
   "outputs": [
    {
     "data": {
      "text/plain": [
       "<seaborn.axisgrid.JointGrid at 0x21b83c230c8>"
      ]
     },
     "execution_count": 41,
     "metadata": {},
     "output_type": "execute_result"
    },
    {
     "data": {
      "image/png": "[encoded data removed]",
      "text/plain": [
       "<Figure size 432x432 with 3 Axes>"
      ]
     },
     "metadata": {},
     "output_type": "display_data"
    }
   ],
   "source": [
    "# Scatter Plot of Student and Economic Activity columns\n",
    "\n",
    "sns.jointplot(x='Student', y='Economic Activity', data=data)"
   ]
  },
  {
   "cell_type": "markdown",
   "metadata": {},
   "source": [
    "***"
   ]
  },
  {
   "cell_type": "markdown",
   "metadata": {},
   "source": [
    "### Performing Clustering Using KMeans and Mini Batch KMeans Algorithms"
   ]
  },
  {
   "cell_type": "markdown",
   "metadata": {},
   "source": [
    "***"
   ]
  },
  {
   "cell_type": "code",
   "execution_count": 42,
   "metadata": {},
   "outputs": [],
   "source": [
    "from sklearn.cluster import KMeans"
   ]
  },
  {
   "cell_type": "code",
   "execution_count": 43,
   "metadata": {},
   "outputs": [
    {
     "data": {
      "text/plain": [
       "KMeans(algorithm='auto', copy_x=True, init='k-means++', max_iter=300,\n",
       "       n_clusters=3, n_init=10, n_jobs=None, precompute_distances='auto',\n",
       "       random_state=None, tol=0.0001, verbose=0)"
      ]
     },
     "execution_count": 43,
     "metadata": {},
     "output_type": "execute_result"
    }
   ],
   "source": [
    "km = KMeans(n_clusters = 3)\n",
    "km"
   ]
  },
  {
   "cell_type": "code",
   "execution_count": 44,
   "metadata": {},
   "outputs": [
    {
     "data": {
      "text/plain": [
       "array([2, 0, 2, ..., 1, 1, 1])"
      ]
     },
     "execution_count": 44,
     "metadata": {},
     "output_type": "execute_result"
    }
   ],
   "source": [
    "km.fit_predict(data[['Family Composition',\n",
    "       'Population Base', 'Sex', 'Age', 'Marital Status', 'Student',\n",
    "       'Country of Birth', 'Health', 'Ethnic Group', 'Religion',\n",
    "       'Economic Activity', 'Occupation', 'Industry', 'Hours worked per week']])"
   ]
  },
  {
   "cell_type": "code",
   "execution_count": 45,
   "metadata": {},
   "outputs": [
    {
     "data": {
      "text/plain": [
       "array([2, 0, 2, ..., 1, 1, 1])"
      ]
     },
     "execution_count": 45,
     "metadata": {},
     "output_type": "execute_result"
    }
   ],
   "source": [
    "km.labels_"
   ]
  },
  {
   "cell_type": "code",
   "execution_count": 46,
   "metadata": {},
   "outputs": [],
   "source": [
    "arr = []\n",
    "\n",
    "for k in range(1,6):\n",
    "    km = KMeans(n_clusters=k)\n",
    "    km.fit(data[['Occupation', 'Hours worked per week']])\n",
    "    arr.append(km.inertia_)"
   ]
  },
  {
   "cell_type": "code",
   "execution_count": 47,
   "metadata": {},
   "outputs": [
    {
     "data": {
      "text/plain": [
       "[43982315.19836242,\n",
       " 16444766.781527843,\n",
       " 2991045.33268034,\n",
       " 1651854.26581415,\n",
       " 850937.5858192239]"
      ]
     },
     "execution_count": 47,
     "metadata": {},
     "output_type": "execute_result"
    }
   ],
   "source": [
    "arr"
   ]
  },
  {
   "cell_type": "code",
   "execution_count": 48,
   "metadata": {},
   "outputs": [
    {
     "data": {
      "text/plain": [
       "[<matplotlib.lines.Line2D at 0x21b9a5dce88>]"
      ]
     },
     "execution_count": 48,
     "metadata": {},
     "output_type": "execute_result"
    },
    {
     "data": {
      "image/png": "[encoded data removed]",
      "text/plain": [
       "<Figure size 576x288 with 1 Axes>"
      ]
     },
     "metadata": {},
     "output_type": "display_data"
    }
   ],
   "source": [
    "plt.xlabel('K')\n",
    "plt.ylabel('Sum of squared error')\n",
    "plt.plot(range(1,6), arr)"
   ]
  },
  {
   "cell_type": "code",
   "execution_count": 49,
   "metadata": {},
   "outputs": [],
   "source": [
    "from sklearn.cluster import MiniBatchKMeans"
   ]
  },
  {
   "cell_type": "code",
   "execution_count": 50,
   "metadata": {},
   "outputs": [],
   "source": [
    "mbk = MiniBatchKMeans(n_clusters=3)"
   ]
  },
  {
   "cell_type": "code",
   "execution_count": 51,
   "metadata": {},
   "outputs": [
    {
     "data": {
      "text/plain": [
       "MiniBatchKMeans(batch_size=100, compute_labels=True, init='k-means++',\n",
       "                init_size=None, max_iter=100, max_no_improvement=10,\n",
       "                n_clusters=3, n_init=3, random_state=None,\n",
       "                reassignment_ratio=0.01, tol=0.0, verbose=0)"
      ]
     },
     "execution_count": 51,
     "metadata": {},
     "output_type": "execute_result"
    }
   ],
   "source": [
    "mbk.fit(data[['Occupation', 'Hours worked per week']])"
   ]
  },
  {
   "cell_type": "code",
   "execution_count": 52,
   "metadata": {},
   "outputs": [],
   "source": [
    "arr2 = []\n",
    "\n",
    "for k in range(1,6):\n",
    "    mbk = KMeans(n_clusters=k)\n",
    "    mbk.fit(data[['Occupation', 'Hours worked per week']])\n",
    "    arr2.append(mbk.inertia_)"
   ]
  },
  {
   "cell_type": "code",
   "execution_count": 55,
   "metadata": {},
   "outputs": [
    {
     "data": {
      "text/plain": [
       "[43982315.19836242,\n",
       " 16444766.781527843,\n",
       " 2991045.33268034,\n",
       " 1651854.26581415,\n",
       " 850937.5858192239]"
      ]
     },
     "execution_count": 55,
     "metadata": {},
     "output_type": "execute_result"
    }
   ],
   "source": [
    "arr2"
   ]
  },
  {
   "cell_type": "code",
   "execution_count": 57,
   "metadata": {},
   "outputs": [
    {
     "data": {
      "text/plain": [
       "[<matplotlib.lines.Line2D at 0x21b9af85848>]"
      ]
     },
     "execution_count": 57,
     "metadata": {},
     "output_type": "execute_result"
    },
    {
     "data": {
      "image/png": "[encoded data removed]",
      "text/plain": [
       "<Figure size 576x288 with 1 Axes>"
      ]
     },
     "metadata": {},
     "output_type": "display_data"
    }
   ],
   "source": [
    "plt.xlabel('K')\n",
    "plt.ylabel('Sum of squared error')\n",
    "plt.plot(range(1,6), arr2)"
   ]
  },
  {
   "cell_type": "markdown",
   "metadata": {},
   "source": [
    "***"
   ]
  },
  {
   "cell_type": "markdown",
   "metadata": {},
   "source": [
    "### Performing Classification Using Logistic Regression, Decision Tree, Random Forest Algorithms"
   ]
  },
  {
   "cell_type": "markdown",
   "metadata": {},
   "source": [
    "***"
   ]
  },
  {
   "cell_type": "code",
   "execution_count": 58,
   "metadata": {},
   "outputs": [
    {
     "data": {
      "text/html": [
       "<div>\n",
       "<style scoped>\n",
       "    .dataframe tbody tr th:only-of-type {\n",
       "        vertical-align: middle;\n",
       "    }\n",
       "\n",
       "    .dataframe tbody tr th {\n",
       "        vertical-align: top;\n",
       "    }\n",
       "\n",
       "    .dataframe thead th {\n",
       "        text-align: right;\n",
       "    }\n",
       "</style>\n",
       "<table border=\"1\" class=\"dataframe\">\n",
       "  <thead>\n",
       "    <tr style=\"text-align: right;\">\n",
       "      <th></th>\n",
       "      <th>Person ID</th>\n",
       "      <th>Region</th>\n",
       "      <th>Residence Type</th>\n",
       "      <th>Family Composition</th>\n",
       "      <th>Population Base</th>\n",
       "      <th>Sex</th>\n",
       "      <th>Age</th>\n",
       "      <th>Marital Status</th>\n",
       "      <th>Student</th>\n",
       "      <th>Country of Birth</th>\n",
       "      <th>Health</th>\n",
       "      <th>Ethnic Group</th>\n",
       "      <th>Religion</th>\n",
       "      <th>Economic Activity</th>\n",
       "      <th>Occupation</th>\n",
       "      <th>Industry</th>\n",
       "      <th>Hours worked per week</th>\n",
       "      <th>No of hours</th>\n",
       "      <th>Approximated Social Grade</th>\n",
       "    </tr>\n",
       "  </thead>\n",
       "  <tbody>\n",
       "    <tr>\n",
       "      <th>0</th>\n",
       "      <td>7394816</td>\n",
       "      <td>E12000001</td>\n",
       "      <td>H</td>\n",
       "      <td>2</td>\n",
       "      <td>1</td>\n",
       "      <td>2</td>\n",
       "      <td>6</td>\n",
       "      <td>2</td>\n",
       "      <td>2</td>\n",
       "      <td>1</td>\n",
       "      <td>2</td>\n",
       "      <td>1</td>\n",
       "      <td>2</td>\n",
       "      <td>5</td>\n",
       "      <td>8</td>\n",
       "      <td>2</td>\n",
       "      <td>-9</td>\n",
       "      <td>NaN</td>\n",
       "      <td>4</td>\n",
       "    </tr>\n",
       "    <tr>\n",
       "      <th>1</th>\n",
       "      <td>7394832</td>\n",
       "      <td>E12000001</td>\n",
       "      <td>H</td>\n",
       "      <td>3</td>\n",
       "      <td>1</td>\n",
       "      <td>2</td>\n",
       "      <td>1</td>\n",
       "      <td>1</td>\n",
       "      <td>2</td>\n",
       "      <td>1</td>\n",
       "      <td>2</td>\n",
       "      <td>1</td>\n",
       "      <td>1</td>\n",
       "      <td>-9</td>\n",
       "      <td>-9</td>\n",
       "      <td>-9</td>\n",
       "      <td>-9</td>\n",
       "      <td>NaN</td>\n",
       "      <td>-9</td>\n",
       "    </tr>\n",
       "    <tr>\n",
       "      <th>2</th>\n",
       "      <td>7394719</td>\n",
       "      <td>E12000001</td>\n",
       "      <td>H</td>\n",
       "      <td>2</td>\n",
       "      <td>1</td>\n",
       "      <td>1</td>\n",
       "      <td>7</td>\n",
       "      <td>2</td>\n",
       "      <td>2</td>\n",
       "      <td>1</td>\n",
       "      <td>1</td>\n",
       "      <td>1</td>\n",
       "      <td>2</td>\n",
       "      <td>5</td>\n",
       "      <td>8</td>\n",
       "      <td>2</td>\n",
       "      <td>-9</td>\n",
       "      <td>NaN</td>\n",
       "      <td>2</td>\n",
       "    </tr>\n",
       "    <tr>\n",
       "      <th>3</th>\n",
       "      <td>7394840</td>\n",
       "      <td>E12000001</td>\n",
       "      <td>H</td>\n",
       "      <td>1</td>\n",
       "      <td>1</td>\n",
       "      <td>2</td>\n",
       "      <td>6</td>\n",
       "      <td>4</td>\n",
       "      <td>2</td>\n",
       "      <td>1</td>\n",
       "      <td>3</td>\n",
       "      <td>1</td>\n",
       "      <td>2</td>\n",
       "      <td>5</td>\n",
       "      <td>9</td>\n",
       "      <td>5</td>\n",
       "      <td>-9</td>\n",
       "      <td>NaN</td>\n",
       "      <td>4</td>\n",
       "    </tr>\n",
       "    <tr>\n",
       "      <th>4</th>\n",
       "      <td>7394711</td>\n",
       "      <td>E12000001</td>\n",
       "      <td>H</td>\n",
       "      <td>2</td>\n",
       "      <td>1</td>\n",
       "      <td>1</td>\n",
       "      <td>1</td>\n",
       "      <td>1</td>\n",
       "      <td>1</td>\n",
       "      <td>1</td>\n",
       "      <td>1</td>\n",
       "      <td>1</td>\n",
       "      <td>1</td>\n",
       "      <td>-9</td>\n",
       "      <td>-9</td>\n",
       "      <td>-9</td>\n",
       "      <td>-9</td>\n",
       "      <td>NaN</td>\n",
       "      <td>-9</td>\n",
       "    </tr>\n",
       "  </tbody>\n",
       "</table>\n",
       "</div>"
      ],
      "text/plain": [
       "   Person ID     Region Residence Type  Family Composition  Population Base  \\\n",
       "0    7394816  E12000001              H                   2                1   \n",
       "1    7394832  E12000001              H                   3                1   \n",
       "2    7394719  E12000001              H                   2                1   \n",
       "3    7394840  E12000001              H                   1                1   \n",
       "4    7394711  E12000001              H                   2                1   \n",
       "\n",
       "   Sex  Age  Marital Status  Student  Country of Birth  Health  Ethnic Group  \\\n",
       "0    2    6               2        2                 1       2             1   \n",
       "1    2    1               1        2                 1       2             1   \n",
       "2    1    7               2        2                 1       1             1   \n",
       "3    2    6               4        2                 1       3             1   \n",
       "4    1    1               1        1                 1       1             1   \n",
       "\n",
       "   Religion  Economic Activity  Occupation  Industry  Hours worked per week  \\\n",
       "0         2                  5           8         2                     -9   \n",
       "1         1                 -9          -9        -9                     -9   \n",
       "2         2                  5           8         2                     -9   \n",
       "3         2                  5           9         5                     -9   \n",
       "4         1                 -9          -9        -9                     -9   \n",
       "\n",
       "   No of hours  Approximated Social Grade  \n",
       "0          NaN                          4  \n",
       "1          NaN                         -9  \n",
       "2          NaN                          2  \n",
       "3          NaN                          4  \n",
       "4          NaN                         -9  "
      ]
     },
     "execution_count": 58,
     "metadata": {},
     "output_type": "execute_result"
    }
   ],
   "source": [
    "data.head()"
   ]
  },
  {
   "cell_type": "code",
   "execution_count": 59,
   "metadata": {},
   "outputs": [],
   "source": [
    "data2 = data.drop(['Person ID', 'Region', 'Residence Type', 'No of hours'], axis=1)"
   ]
  },
  {
   "cell_type": "code",
   "execution_count": 60,
   "metadata": {},
   "outputs": [
    {
     "data": {
      "text/html": [
       "<div>\n",
       "<style scoped>\n",
       "    .dataframe tbody tr th:only-of-type {\n",
       "        vertical-align: middle;\n",
       "    }\n",
       "\n",
       "    .dataframe tbody tr th {\n",
       "        vertical-align: top;\n",
       "    }\n",
       "\n",
       "    .dataframe thead th {\n",
       "        text-align: right;\n",
       "    }\n",
       "</style>\n",
       "<table border=\"1\" class=\"dataframe\">\n",
       "  <thead>\n",
       "    <tr style=\"text-align: right;\">\n",
       "      <th></th>\n",
       "      <th>Family Composition</th>\n",
       "      <th>Population Base</th>\n",
       "      <th>Sex</th>\n",
       "      <th>Age</th>\n",
       "      <th>Marital Status</th>\n",
       "      <th>Student</th>\n",
       "      <th>Country of Birth</th>\n",
       "      <th>Health</th>\n",
       "      <th>Ethnic Group</th>\n",
       "      <th>Religion</th>\n",
       "      <th>Economic Activity</th>\n",
       "      <th>Occupation</th>\n",
       "      <th>Industry</th>\n",
       "      <th>Hours worked per week</th>\n",
       "      <th>Approximated Social Grade</th>\n",
       "    </tr>\n",
       "  </thead>\n",
       "  <tbody>\n",
       "    <tr>\n",
       "      <th>0</th>\n",
       "      <td>2</td>\n",
       "      <td>1</td>\n",
       "      <td>2</td>\n",
       "      <td>6</td>\n",
       "      <td>2</td>\n",
       "      <td>2</td>\n",
       "      <td>1</td>\n",
       "      <td>2</td>\n",
       "      <td>1</td>\n",
       "      <td>2</td>\n",
       "      <td>5</td>\n",
       "      <td>8</td>\n",
       "      <td>2</td>\n",
       "      <td>-9</td>\n",
       "      <td>4</td>\n",
       "    </tr>\n",
       "    <tr>\n",
       "      <th>1</th>\n",
       "      <td>3</td>\n",
       "      <td>1</td>\n",
       "      <td>2</td>\n",
       "      <td>1</td>\n",
       "      <td>1</td>\n",
       "      <td>2</td>\n",
       "      <td>1</td>\n",
       "      <td>2</td>\n",
       "      <td>1</td>\n",
       "      <td>1</td>\n",
       "      <td>-9</td>\n",
       "      <td>-9</td>\n",
       "      <td>-9</td>\n",
       "      <td>-9</td>\n",
       "      <td>-9</td>\n",
       "    </tr>\n",
       "    <tr>\n",
       "      <th>2</th>\n",
       "      <td>2</td>\n",
       "      <td>1</td>\n",
       "      <td>1</td>\n",
       "      <td>7</td>\n",
       "      <td>2</td>\n",
       "      <td>2</td>\n",
       "      <td>1</td>\n",
       "      <td>1</td>\n",
       "      <td>1</td>\n",
       "      <td>2</td>\n",
       "      <td>5</td>\n",
       "      <td>8</td>\n",
       "      <td>2</td>\n",
       "      <td>-9</td>\n",
       "      <td>2</td>\n",
       "    </tr>\n",
       "    <tr>\n",
       "      <th>3</th>\n",
       "      <td>1</td>\n",
       "      <td>1</td>\n",
       "      <td>2</td>\n",
       "      <td>6</td>\n",
       "      <td>4</td>\n",
       "      <td>2</td>\n",
       "      <td>1</td>\n",
       "      <td>3</td>\n",
       "      <td>1</td>\n",
       "      <td>2</td>\n",
       "      <td>5</td>\n",
       "      <td>9</td>\n",
       "      <td>5</td>\n",
       "      <td>-9</td>\n",
       "      <td>4</td>\n",
       "    </tr>\n",
       "    <tr>\n",
       "      <th>4</th>\n",
       "      <td>2</td>\n",
       "      <td>1</td>\n",
       "      <td>1</td>\n",
       "      <td>1</td>\n",
       "      <td>1</td>\n",
       "      <td>1</td>\n",
       "      <td>1</td>\n",
       "      <td>1</td>\n",
       "      <td>1</td>\n",
       "      <td>1</td>\n",
       "      <td>-9</td>\n",
       "      <td>-9</td>\n",
       "      <td>-9</td>\n",
       "      <td>-9</td>\n",
       "      <td>-9</td>\n",
       "    </tr>\n",
       "  </tbody>\n",
       "</table>\n",
       "</div>"
      ],
      "text/plain": [
       "   Family Composition  Population Base  Sex  Age  Marital Status  Student  \\\n",
       "0                   2                1    2    6               2        2   \n",
       "1                   3                1    2    1               1        2   \n",
       "2                   2                1    1    7               2        2   \n",
       "3                   1                1    2    6               4        2   \n",
       "4                   2                1    1    1               1        1   \n",
       "\n",
       "   Country of Birth  Health  Ethnic Group  Religion  Economic Activity  \\\n",
       "0                 1       2             1         2                  5   \n",
       "1                 1       2             1         1                 -9   \n",
       "2                 1       1             1         2                  5   \n",
       "3                 1       3             1         2                  5   \n",
       "4                 1       1             1         1                 -9   \n",
       "\n",
       "   Occupation  Industry  Hours worked per week  Approximated Social Grade  \n",
       "0           8         2                     -9                          4  \n",
       "1          -9        -9                     -9                         -9  \n",
       "2           8         2                     -9                          2  \n",
       "3           9         5                     -9                          4  \n",
       "4          -9        -9                     -9                         -9  "
      ]
     },
     "execution_count": 60,
     "metadata": {},
     "output_type": "execute_result"
    }
   ],
   "source": [
    "data2.head()"
   ]
  },
  {
   "cell_type": "code",
   "execution_count": 61,
   "metadata": {},
   "outputs": [],
   "source": [
    "X = data2[['Family Composition',\n",
    "       'Population Base', 'Sex', 'Age', 'Marital Status', 'Student',\n",
    "       'Country of Birth', 'Health', 'Ethnic Group', 'Religion',\n",
    "       'Economic Activity', 'Occupation', 'Industry', 'Hours worked per week']]\n",
    "\n",
    "y = data2['Approximated Social Grade']"
   ]
  },
  {
   "cell_type": "code",
   "execution_count": 62,
   "metadata": {},
   "outputs": [],
   "source": [
    "from sklearn.model_selection import train_test_split\n",
    "X_train, X_test, y_train, y_test = train_test_split(X, y, test_size=0.33, random_state=42)"
   ]
  },
  {
   "cell_type": "markdown",
   "metadata": {},
   "source": [
    "#### Linear Regression"
   ]
  },
  {
   "cell_type": "code",
   "execution_count": 63,
   "metadata": {},
   "outputs": [
    {
     "name": "stderr",
     "output_type": "stream",
     "text": [
      "C:\\Users\\Himu\\anaconda3\\lib\\site-packages\\sklearn\\linear_model\\_logistic.py:940: ConvergenceWarning: lbfgs failed to converge (status=1):\n",
      "STOP: TOTAL NO. of ITERATIONS REACHED LIMIT.\n",
      "\n",
      "Increase the number of iterations (max_iter) or scale the data as shown in:\n",
      "    https://scikit-learn.org/stable/modules/preprocessing.html\n",
      "Please also refer to the documentation for alternative solver options:\n",
      "    https://scikit-learn.org/stable/modules/linear_model.html#logistic-regression\n",
      "  extra_warning_msg=_LOGISTIC_SOLVER_CONVERGENCE_MSG)\n"
     ]
    },
    {
     "data": {
      "text/plain": [
       "LogisticRegression(C=1.0, class_weight=None, dual=False, fit_intercept=True,\n",
       "                   intercept_scaling=1, l1_ratio=None, max_iter=100,\n",
       "                   multi_class='auto', n_jobs=None, penalty='l2',\n",
       "                   random_state=None, solver='lbfgs', tol=0.0001, verbose=0,\n",
       "                   warm_start=False)"
      ]
     },
     "execution_count": 63,
     "metadata": {},
     "output_type": "execute_result"
    }
   ],
   "source": [
    "from sklearn.linear_model import LogisticRegression\n",
    "lr = LogisticRegression()\n",
    "lr.fit(X_train, y_train)"
   ]
  },
  {
   "cell_type": "code",
   "execution_count": 64,
   "metadata": {},
   "outputs": [
    {
     "data": {
      "text/plain": [
       "0.6593995159960642"
      ]
     },
     "execution_count": 64,
     "metadata": {},
     "output_type": "execute_result"
    }
   ],
   "source": [
    "lr.score(X_test, y_test)"
   ]
  },
  {
   "cell_type": "markdown",
   "metadata": {},
   "source": [
    "#### Decision Tree"
   ]
  },
  {
   "cell_type": "code",
   "execution_count": 65,
   "metadata": {},
   "outputs": [
    {
     "data": {
      "text/plain": [
       "DecisionTreeClassifier(ccp_alpha=0.0, class_weight=None, criterion='gini',\n",
       "                       max_depth=None, max_features=None, max_leaf_nodes=None,\n",
       "                       min_impurity_decrease=0.0, min_impurity_split=None,\n",
       "                       min_samples_leaf=1, min_samples_split=2,\n",
       "                       min_weight_fraction_leaf=0.0, presort='deprecated',\n",
       "                       random_state=None, splitter='best')"
      ]
     },
     "execution_count": 65,
     "metadata": {},
     "output_type": "execute_result"
    }
   ],
   "source": [
    "from sklearn.tree import DecisionTreeClassifier\n",
    "dtree = DecisionTreeClassifier()\n",
    "dtree.fit(X_train, y_train)"
   ]
  },
  {
   "cell_type": "code",
   "execution_count": 66,
   "metadata": {},
   "outputs": [
    {
     "data": {
      "text/plain": [
       "0.8083982660957902"
      ]
     },
     "execution_count": 66,
     "metadata": {},
     "output_type": "execute_result"
    }
   ],
   "source": [
    "dtree.score(X_test, y_test)"
   ]
  },
  {
   "cell_type": "markdown",
   "metadata": {},
   "source": [
    "#### Random Forest"
   ]
  },
  {
   "cell_type": "code",
   "execution_count": 67,
   "metadata": {},
   "outputs": [
    {
     "data": {
      "text/plain": [
       "RandomForestClassifier(bootstrap=True, ccp_alpha=0.0, class_weight=None,\n",
       "                       criterion='gini', max_depth=None, max_features='auto',\n",
       "                       max_leaf_nodes=None, max_samples=None,\n",
       "                       min_impurity_decrease=0.0, min_impurity_split=None,\n",
       "                       min_samples_leaf=1, min_samples_split=2,\n",
       "                       min_weight_fraction_leaf=0.0, n_estimators=100,\n",
       "                       n_jobs=None, oob_score=False, random_state=None,\n",
       "                       verbose=0, warm_start=False)"
      ]
     },
     "execution_count": 67,
     "metadata": {},
     "output_type": "execute_result"
    }
   ],
   "source": [
    "from sklearn.ensemble import RandomForestClassifier\n",
    "rf = RandomForestClassifier()\n",
    "rf.fit(X_train, y_train)"
   ]
  },
  {
   "cell_type": "code",
   "execution_count": 68,
   "metadata": {},
   "outputs": [
    {
     "data": {
      "text/plain": [
       "0.8268063718320346"
      ]
     },
     "execution_count": 68,
     "metadata": {},
     "output_type": "execute_result"
    }
   ],
   "source": [
    "rf.score(X_test, y_test)"
   ]
  },
  {
   "cell_type": "markdown",
   "metadata": {},
   "source": [
    "***"
   ]
  },
  {
   "cell_type": "markdown",
   "metadata": {},
   "source": [
    "### Association Rule Mining"
   ]
  },
  {
   "cell_type": "markdown",
   "metadata": {},
   "source": [
    "***"
   ]
  },
  {
   "cell_type": "code",
   "execution_count": 69,
   "metadata": {},
   "outputs": [],
   "source": [
    "from apyori import apriori"
   ]
  },
  {
   "cell_type": "code",
   "execution_count": 70,
   "metadata": {},
   "outputs": [],
   "source": [
    "records = []\n",
    "for i in range(0,int(len(data)/100)):\n",
    "    records.append([int(data2.values[i,j]) for j in range(0,15)])"
   ]
  },
  {
   "cell_type": "code",
   "execution_count": 71,
   "metadata": {},
   "outputs": [],
   "source": [
    "association_rules = apriori(records,min_support=0.0053, min_confidence=0.20, min_lift=3, min_length=2)\n",
    "association_results = list(association_rules)"
   ]
  },
  {
   "cell_type": "code",
   "execution_count": 72,
   "metadata": {},
   "outputs": [
    {
     "name": "stdout",
     "output_type": "stream",
     "text": [
      "8\n"
     ]
    }
   ],
   "source": [
    "print(len(association_results))"
   ]
  },
  {
   "cell_type": "code",
   "execution_count": 73,
   "metadata": {},
   "outputs": [
    {
     "name": "stdout",
     "output_type": "stream",
     "text": [
      "RelationRecord(items=frozenset({11, 4, 5, 6}), support=0.01369141653501843, ordered_statistics=[OrderedStatistic(items_base=frozenset({11}), items_add=frozenset({4, 5, 6}), confidence=0.27561837455830385, lift=3.0138155083659446)])\n"
     ]
    }
   ],
   "source": [
    "print(association_results[0])"
   ]
  },
  {
   "cell_type": "code",
   "execution_count": 74,
   "metadata": {},
   "outputs": [
    {
     "name": "stdout",
     "output_type": "stream",
     "text": [
      "  Title1 Title2  Support Confidence     Life\n",
      "0     11      4  0.01369    0.27561  3.01381\n",
      "  Title1 Title2  Support Confidence     Life\n",
      "0     11      4  0.01369    0.27561  3.01381\n",
      "1      4      5  0.01369    0.27561  3.01381\n",
      "  Title1 Title2  Support Confidence     Life\n",
      "0     11      4  0.01369    0.27561  3.01381\n",
      "1      4      5  0.01369    0.27561  3.01381\n",
      "2      1      4  0.01369    0.27561  3.01381\n",
      "  Title1 Title2  Support Confidence     Life\n",
      "0     11      4  0.01369    0.27561  3.01381\n",
      "1      4      5  0.01369    0.27561  3.01381\n",
      "2      1      4  0.01369    0.27561  3.01381\n",
      "3      2      4  0.01369    0.27561  3.01381\n",
      "  Title1 Title2  Support Confidence     Life\n",
      "0     11      4  0.01369    0.27561  3.01381\n",
      "1      4      5  0.01369    0.27561  3.01381\n",
      "2      1      4  0.01369    0.27561  3.01381\n",
      "3      2      4  0.01369    0.27561  3.01381\n",
      "4      1      4  0.01369    0.27561  3.01381\n",
      "  Title1 Title2  Support Confidence     Life\n",
      "0     11      4  0.01369    0.27561  3.01381\n",
      "1      4      5  0.01369    0.27561  3.01381\n",
      "2      1      4  0.01369    0.27561  3.01381\n",
      "3      2      4  0.01369    0.27561  3.01381\n",
      "4      1      4  0.01369    0.27561  3.01381\n",
      "5      2      4  0.01369    0.27561  3.01381\n",
      "  Title1 Title2  Support Confidence     Life\n",
      "0     11      4  0.01369    0.27561  3.01381\n",
      "1      4      5  0.01369    0.27561  3.01381\n",
      "2      1      4  0.01369    0.27561  3.01381\n",
      "3      2      4  0.01369    0.27561  3.01381\n",
      "4      1      4  0.01369    0.27561  3.01381\n",
      "5      2      4  0.01369    0.27561  3.01381\n",
      "6      1      2  0.01369    0.27561  3.01381\n",
      "  Title1 Title2  Support Confidence     Life\n",
      "0     11      4  0.01369    0.27561  3.01381\n",
      "1      4      5  0.01369    0.27561  3.01381\n",
      "2      1      4  0.01369    0.27561  3.01381\n",
      "3      2      4  0.01369    0.27561  3.01381\n",
      "4      1      4  0.01369    0.27561  3.01381\n",
      "5      2      4  0.01369    0.27561  3.01381\n",
      "6      1      2  0.01369    0.27561  3.01381\n",
      "7      1      2  0.01369    0.27561  3.01381\n"
     ]
    }
   ],
   "source": [
    "results = []\n",
    "for item in association_results:\n",
    "    pair = item[0]\n",
    "    items = [x for x in pair]\n",
    "    \n",
    "    value0 = str(items[0])\n",
    "    value1 = str(items[1])\n",
    "    value2 = str(item[1])[:7]\n",
    "    value3 = str(item[2][0][2])[:7]\n",
    "    value4 = str(item[2][0][3])[:7]\n",
    "    \n",
    "    rows = (value0, value1, value2, value3, value4)\n",
    "    \n",
    "    results.append(rows)\n",
    "    \n",
    "    Label = ['Title1', 'Title2', 'Support', 'Confidence', 'Life']\n",
    "    \n",
    "    store_suggestion = pd.DataFrame.from_records(results, columns=Label)\n",
    "    \n",
    "    print(store_suggestion)"
   ]
  },
  {
   "cell_type": "markdown",
   "metadata": {},
   "source": [
    "***"
   ]
  },
  {
   "cell_type": "markdown",
   "metadata": {},
   "source": [
    "### Performing Regression Using Linear Regression and Decision Tree Regressor on the “No of hours” Attribute"
   ]
  },
  {
   "cell_type": "markdown",
   "metadata": {},
   "source": [
    "***"
   ]
  },
  {
   "cell_type": "code",
   "execution_count": 89,
   "metadata": {},
   "outputs": [
    {
     "data": {
      "text/html": [
       "<div>\n",
       "<style scoped>\n",
       "    .dataframe tbody tr th:only-of-type {\n",
       "        vertical-align: middle;\n",
       "    }\n",
       "\n",
       "    .dataframe tbody tr th {\n",
       "        vertical-align: top;\n",
       "    }\n",
       "\n",
       "    .dataframe thead th {\n",
       "        text-align: right;\n",
       "    }\n",
       "</style>\n",
       "<table border=\"1\" class=\"dataframe\">\n",
       "  <thead>\n",
       "    <tr style=\"text-align: right;\">\n",
       "      <th></th>\n",
       "      <th>Person ID</th>\n",
       "      <th>Region</th>\n",
       "      <th>Residence Type</th>\n",
       "      <th>Family Composition</th>\n",
       "      <th>Population Base</th>\n",
       "      <th>Sex</th>\n",
       "      <th>Age</th>\n",
       "      <th>Marital Status</th>\n",
       "      <th>Student</th>\n",
       "      <th>Country of Birth</th>\n",
       "      <th>Health</th>\n",
       "      <th>Ethnic Group</th>\n",
       "      <th>Religion</th>\n",
       "      <th>Economic Activity</th>\n",
       "      <th>Occupation</th>\n",
       "      <th>Industry</th>\n",
       "      <th>Hours worked per week</th>\n",
       "      <th>No of hours</th>\n",
       "      <th>Approximated Social Grade</th>\n",
       "    </tr>\n",
       "  </thead>\n",
       "  <tbody>\n",
       "    <tr>\n",
       "      <th>0</th>\n",
       "      <td>7394816</td>\n",
       "      <td>E12000001</td>\n",
       "      <td>H</td>\n",
       "      <td>2</td>\n",
       "      <td>1</td>\n",
       "      <td>2</td>\n",
       "      <td>6</td>\n",
       "      <td>2</td>\n",
       "      <td>2</td>\n",
       "      <td>1</td>\n",
       "      <td>2</td>\n",
       "      <td>1</td>\n",
       "      <td>2</td>\n",
       "      <td>5</td>\n",
       "      <td>8</td>\n",
       "      <td>2</td>\n",
       "      <td>-9</td>\n",
       "      <td>NaN</td>\n",
       "      <td>4</td>\n",
       "    </tr>\n",
       "    <tr>\n",
       "      <th>1</th>\n",
       "      <td>7394832</td>\n",
       "      <td>E12000001</td>\n",
       "      <td>H</td>\n",
       "      <td>3</td>\n",
       "      <td>1</td>\n",
       "      <td>2</td>\n",
       "      <td>1</td>\n",
       "      <td>1</td>\n",
       "      <td>2</td>\n",
       "      <td>1</td>\n",
       "      <td>2</td>\n",
       "      <td>1</td>\n",
       "      <td>1</td>\n",
       "      <td>-9</td>\n",
       "      <td>-9</td>\n",
       "      <td>-9</td>\n",
       "      <td>-9</td>\n",
       "      <td>NaN</td>\n",
       "      <td>-9</td>\n",
       "    </tr>\n",
       "    <tr>\n",
       "      <th>2</th>\n",
       "      <td>7394719</td>\n",
       "      <td>E12000001</td>\n",
       "      <td>H</td>\n",
       "      <td>2</td>\n",
       "      <td>1</td>\n",
       "      <td>1</td>\n",
       "      <td>7</td>\n",
       "      <td>2</td>\n",
       "      <td>2</td>\n",
       "      <td>1</td>\n",
       "      <td>1</td>\n",
       "      <td>1</td>\n",
       "      <td>2</td>\n",
       "      <td>5</td>\n",
       "      <td>8</td>\n",
       "      <td>2</td>\n",
       "      <td>-9</td>\n",
       "      <td>NaN</td>\n",
       "      <td>2</td>\n",
       "    </tr>\n",
       "    <tr>\n",
       "      <th>3</th>\n",
       "      <td>7394840</td>\n",
       "      <td>E12000001</td>\n",
       "      <td>H</td>\n",
       "      <td>1</td>\n",
       "      <td>1</td>\n",
       "      <td>2</td>\n",
       "      <td>6</td>\n",
       "      <td>4</td>\n",
       "      <td>2</td>\n",
       "      <td>1</td>\n",
       "      <td>3</td>\n",
       "      <td>1</td>\n",
       "      <td>2</td>\n",
       "      <td>5</td>\n",
       "      <td>9</td>\n",
       "      <td>5</td>\n",
       "      <td>-9</td>\n",
       "      <td>NaN</td>\n",
       "      <td>4</td>\n",
       "    </tr>\n",
       "    <tr>\n",
       "      <th>4</th>\n",
       "      <td>7394711</td>\n",
       "      <td>E12000001</td>\n",
       "      <td>H</td>\n",
       "      <td>2</td>\n",
       "      <td>1</td>\n",
       "      <td>1</td>\n",
       "      <td>1</td>\n",
       "      <td>1</td>\n",
       "      <td>1</td>\n",
       "      <td>1</td>\n",
       "      <td>1</td>\n",
       "      <td>1</td>\n",
       "      <td>1</td>\n",
       "      <td>-9</td>\n",
       "      <td>-9</td>\n",
       "      <td>-9</td>\n",
       "      <td>-9</td>\n",
       "      <td>NaN</td>\n",
       "      <td>-9</td>\n",
       "    </tr>\n",
       "  </tbody>\n",
       "</table>\n",
       "</div>"
      ],
      "text/plain": [
       "   Person ID     Region Residence Type  Family Composition  Population Base  \\\n",
       "0    7394816  E12000001              H                   2                1   \n",
       "1    7394832  E12000001              H                   3                1   \n",
       "2    7394719  E12000001              H                   2                1   \n",
       "3    7394840  E12000001              H                   1                1   \n",
       "4    7394711  E12000001              H                   2                1   \n",
       "\n",
       "   Sex  Age  Marital Status  Student  Country of Birth  Health  Ethnic Group  \\\n",
       "0    2    6               2        2                 1       2             1   \n",
       "1    2    1               1        2                 1       2             1   \n",
       "2    1    7               2        2                 1       1             1   \n",
       "3    2    6               4        2                 1       3             1   \n",
       "4    1    1               1        1                 1       1             1   \n",
       "\n",
       "   Religion  Economic Activity  Occupation  Industry  Hours worked per week  \\\n",
       "0         2                  5           8         2                     -9   \n",
       "1         1                 -9          -9        -9                     -9   \n",
       "2         2                  5           8         2                     -9   \n",
       "3         2                  5           9         5                     -9   \n",
       "4         1                 -9          -9        -9                     -9   \n",
       "\n",
       "   No of hours  Approximated Social Grade  \n",
       "0          NaN                          4  \n",
       "1          NaN                         -9  \n",
       "2          NaN                          2  \n",
       "3          NaN                          4  \n",
       "4          NaN                         -9  "
      ]
     },
     "execution_count": 89,
     "metadata": {},
     "output_type": "execute_result"
    }
   ],
   "source": [
    "data.head()"
   ]
  },
  {
   "cell_type": "code",
   "execution_count": 90,
   "metadata": {},
   "outputs": [],
   "source": [
    "# Drop the rows which contains null values \n",
    "\n",
    "data3 = data.dropna()"
   ]
  },
  {
   "cell_type": "code",
   "execution_count": 91,
   "metadata": {},
   "outputs": [
    {
     "data": {
      "text/plain": [
       "267419"
      ]
     },
     "execution_count": 91,
     "metadata": {},
     "output_type": "execute_result"
    }
   ],
   "source": [
    "# Now the length of the dataset has changed\n",
    "\n",
    "len(data3)"
   ]
  },
  {
   "cell_type": "code",
   "execution_count": 92,
   "metadata": {},
   "outputs": [
    {
     "data": {
      "text/plain": [
       "Index(['Person ID', 'Region', 'Residence Type', 'Family Composition',\n",
       "       'Population Base', 'Sex', 'Age', 'Marital Status', 'Student',\n",
       "       'Country of Birth', 'Health', 'Ethnic Group', 'Religion',\n",
       "       'Economic Activity', 'Occupation', 'Industry', 'Hours worked per week',\n",
       "       'No of hours', 'Approximated Social Grade'],\n",
       "      dtype='object')"
      ]
     },
     "execution_count": 92,
     "metadata": {},
     "output_type": "execute_result"
    }
   ],
   "source": [
    "# To see all the columns in dataset\n",
    "\n",
    "data3.columns"
   ]
  },
  {
   "cell_type": "code",
   "execution_count": 93,
   "metadata": {},
   "outputs": [],
   "source": [
    "# Deleting the Person ID, Region, Residence Type\n",
    "\n",
    "data3 = data3.drop(['Person ID', 'Region', 'Residence Type'], axis=1)"
   ]
  },
  {
   "cell_type": "code",
   "execution_count": 94,
   "metadata": {},
   "outputs": [
    {
     "data": {
      "text/html": [
       "<div>\n",
       "<style scoped>\n",
       "    .dataframe tbody tr th:only-of-type {\n",
       "        vertical-align: middle;\n",
       "    }\n",
       "\n",
       "    .dataframe tbody tr th {\n",
       "        vertical-align: top;\n",
       "    }\n",
       "\n",
       "    .dataframe thead th {\n",
       "        text-align: right;\n",
       "    }\n",
       "</style>\n",
       "<table border=\"1\" class=\"dataframe\">\n",
       "  <thead>\n",
       "    <tr style=\"text-align: right;\">\n",
       "      <th></th>\n",
       "      <th>Family Composition</th>\n",
       "      <th>Population Base</th>\n",
       "      <th>Sex</th>\n",
       "      <th>Age</th>\n",
       "      <th>Marital Status</th>\n",
       "      <th>Student</th>\n",
       "      <th>Country of Birth</th>\n",
       "      <th>Health</th>\n",
       "      <th>Ethnic Group</th>\n",
       "      <th>Religion</th>\n",
       "      <th>Economic Activity</th>\n",
       "      <th>Occupation</th>\n",
       "      <th>Industry</th>\n",
       "      <th>Hours worked per week</th>\n",
       "      <th>No of hours</th>\n",
       "      <th>Approximated Social Grade</th>\n",
       "    </tr>\n",
       "  </thead>\n",
       "  <tbody>\n",
       "    <tr>\n",
       "      <th>302321</th>\n",
       "      <td>5</td>\n",
       "      <td>1</td>\n",
       "      <td>2</td>\n",
       "      <td>5</td>\n",
       "      <td>4</td>\n",
       "      <td>2</td>\n",
       "      <td>1</td>\n",
       "      <td>3</td>\n",
       "      <td>1</td>\n",
       "      <td>2</td>\n",
       "      <td>2</td>\n",
       "      <td>7</td>\n",
       "      <td>7</td>\n",
       "      <td>1</td>\n",
       "      <td>2.0</td>\n",
       "      <td>4</td>\n",
       "    </tr>\n",
       "    <tr>\n",
       "      <th>302322</th>\n",
       "      <td>2</td>\n",
       "      <td>1</td>\n",
       "      <td>2</td>\n",
       "      <td>2</td>\n",
       "      <td>1</td>\n",
       "      <td>1</td>\n",
       "      <td>1</td>\n",
       "      <td>1</td>\n",
       "      <td>1</td>\n",
       "      <td>9</td>\n",
       "      <td>4</td>\n",
       "      <td>7</td>\n",
       "      <td>4</td>\n",
       "      <td>1</td>\n",
       "      <td>1.0</td>\n",
       "      <td>2</td>\n",
       "    </tr>\n",
       "    <tr>\n",
       "      <th>302323</th>\n",
       "      <td>2</td>\n",
       "      <td>1</td>\n",
       "      <td>2</td>\n",
       "      <td>5</td>\n",
       "      <td>2</td>\n",
       "      <td>2</td>\n",
       "      <td>1</td>\n",
       "      <td>3</td>\n",
       "      <td>1</td>\n",
       "      <td>1</td>\n",
       "      <td>1</td>\n",
       "      <td>9</td>\n",
       "      <td>9</td>\n",
       "      <td>1</td>\n",
       "      <td>10.0</td>\n",
       "      <td>4</td>\n",
       "    </tr>\n",
       "    <tr>\n",
       "      <th>302324</th>\n",
       "      <td>2</td>\n",
       "      <td>1</td>\n",
       "      <td>2</td>\n",
       "      <td>6</td>\n",
       "      <td>2</td>\n",
       "      <td>2</td>\n",
       "      <td>1</td>\n",
       "      <td>1</td>\n",
       "      <td>1</td>\n",
       "      <td>2</td>\n",
       "      <td>1</td>\n",
       "      <td>9</td>\n",
       "      <td>11</td>\n",
       "      <td>1</td>\n",
       "      <td>3.0</td>\n",
       "      <td>4</td>\n",
       "    </tr>\n",
       "    <tr>\n",
       "      <th>302325</th>\n",
       "      <td>5</td>\n",
       "      <td>1</td>\n",
       "      <td>2</td>\n",
       "      <td>6</td>\n",
       "      <td>3</td>\n",
       "      <td>2</td>\n",
       "      <td>1</td>\n",
       "      <td>2</td>\n",
       "      <td>1</td>\n",
       "      <td>1</td>\n",
       "      <td>1</td>\n",
       "      <td>9</td>\n",
       "      <td>10</td>\n",
       "      <td>1</td>\n",
       "      <td>8.0</td>\n",
       "      <td>4</td>\n",
       "    </tr>\n",
       "  </tbody>\n",
       "</table>\n",
       "</div>"
      ],
      "text/plain": [
       "        Family Composition  Population Base  Sex  Age  Marital Status  \\\n",
       "302321                   5                1    2    5               4   \n",
       "302322                   2                1    2    2               1   \n",
       "302323                   2                1    2    5               2   \n",
       "302324                   2                1    2    6               2   \n",
       "302325                   5                1    2    6               3   \n",
       "\n",
       "        Student  Country of Birth  Health  Ethnic Group  Religion  \\\n",
       "302321        2                 1       3             1         2   \n",
       "302322        1                 1       1             1         9   \n",
       "302323        2                 1       3             1         1   \n",
       "302324        2                 1       1             1         2   \n",
       "302325        2                 1       2             1         1   \n",
       "\n",
       "        Economic Activity  Occupation  Industry  Hours worked per week  \\\n",
       "302321                  2           7         7                      1   \n",
       "302322                  4           7         4                      1   \n",
       "302323                  1           9         9                      1   \n",
       "302324                  1           9        11                      1   \n",
       "302325                  1           9        10                      1   \n",
       "\n",
       "        No of hours  Approximated Social Grade  \n",
       "302321          2.0                          4  \n",
       "302322          1.0                          2  \n",
       "302323         10.0                          4  \n",
       "302324          3.0                          4  \n",
       "302325          8.0                          4  "
      ]
     },
     "execution_count": 94,
     "metadata": {},
     "output_type": "execute_result"
    }
   ],
   "source": [
    "data3.head()"
   ]
  },
  {
   "cell_type": "code",
   "execution_count": 95,
   "metadata": {},
   "outputs": [
    {
     "data": {
      "text/html": [
       "<div>\n",
       "<style scoped>\n",
       "    .dataframe tbody tr th:only-of-type {\n",
       "        vertical-align: middle;\n",
       "    }\n",
       "\n",
       "    .dataframe tbody tr th {\n",
       "        vertical-align: top;\n",
       "    }\n",
       "\n",
       "    .dataframe thead th {\n",
       "        text-align: right;\n",
       "    }\n",
       "</style>\n",
       "<table border=\"1\" class=\"dataframe\">\n",
       "  <thead>\n",
       "    <tr style=\"text-align: right;\">\n",
       "      <th></th>\n",
       "      <th>Family Composition</th>\n",
       "      <th>Population Base</th>\n",
       "      <th>Sex</th>\n",
       "      <th>Age</th>\n",
       "      <th>Marital Status</th>\n",
       "      <th>Student</th>\n",
       "      <th>Country of Birth</th>\n",
       "      <th>Health</th>\n",
       "      <th>Ethnic Group</th>\n",
       "      <th>Religion</th>\n",
       "      <th>Economic Activity</th>\n",
       "      <th>Occupation</th>\n",
       "      <th>Industry</th>\n",
       "      <th>Hours worked per week</th>\n",
       "      <th>No of hours</th>\n",
       "      <th>Approximated Social Grade</th>\n",
       "    </tr>\n",
       "  </thead>\n",
       "  <tbody>\n",
       "    <tr>\n",
       "      <th>Family Composition</th>\n",
       "      <td>1.000000</td>\n",
       "      <td>-0.344031</td>\n",
       "      <td>0.101559</td>\n",
       "      <td>-0.054160</td>\n",
       "      <td>0.035955</td>\n",
       "      <td>0.065731</td>\n",
       "      <td>-0.068116</td>\n",
       "      <td>-0.001281</td>\n",
       "      <td>-0.005863</td>\n",
       "      <td>-0.019373</td>\n",
       "      <td>-0.070308</td>\n",
       "      <td>0.053787</td>\n",
       "      <td>0.008408</td>\n",
       "      <td>-0.032280</td>\n",
       "      <td>-0.030135</td>\n",
       "      <td>0.528297</td>\n",
       "    </tr>\n",
       "    <tr>\n",
       "      <th>Population Base</th>\n",
       "      <td>-0.344031</td>\n",
       "      <td>1.000000</td>\n",
       "      <td>-0.004916</td>\n",
       "      <td>-0.035664</td>\n",
       "      <td>-0.020897</td>\n",
       "      <td>-0.028574</td>\n",
       "      <td>0.106964</td>\n",
       "      <td>-0.012186</td>\n",
       "      <td>0.035409</td>\n",
       "      <td>0.012173</td>\n",
       "      <td>0.024265</td>\n",
       "      <td>0.009360</td>\n",
       "      <td>-0.001668</td>\n",
       "      <td>-0.004269</td>\n",
       "      <td>-0.004243</td>\n",
       "      <td>-0.351875</td>\n",
       "    </tr>\n",
       "    <tr>\n",
       "      <th>Sex</th>\n",
       "      <td>0.101559</td>\n",
       "      <td>-0.004916</td>\n",
       "      <td>1.000000</td>\n",
       "      <td>-0.023711</td>\n",
       "      <td>0.073604</td>\n",
       "      <td>-0.033190</td>\n",
       "      <td>-0.012308</td>\n",
       "      <td>-0.003570</td>\n",
       "      <td>-0.019490</td>\n",
       "      <td>-0.016088</td>\n",
       "      <td>-0.052653</td>\n",
       "      <td>-0.006854</td>\n",
       "      <td>0.314458</td>\n",
       "      <td>-0.304099</td>\n",
       "      <td>-0.286324</td>\n",
       "      <td>-0.001556</td>\n",
       "    </tr>\n",
       "    <tr>\n",
       "      <th>Age</th>\n",
       "      <td>-0.054160</td>\n",
       "      <td>-0.035664</td>\n",
       "      <td>-0.023711</td>\n",
       "      <td>1.000000</td>\n",
       "      <td>0.480000</td>\n",
       "      <td>0.266164</td>\n",
       "      <td>-0.061439</td>\n",
       "      <td>0.266296</td>\n",
       "      <td>-0.074857</td>\n",
       "      <td>0.024673</td>\n",
       "      <td>-0.149102</td>\n",
       "      <td>-0.079261</td>\n",
       "      <td>0.017773</td>\n",
       "      <td>0.010729</td>\n",
       "      <td>0.008495</td>\n",
       "      <td>0.051279</td>\n",
       "    </tr>\n",
       "    <tr>\n",
       "      <th>Marital Status</th>\n",
       "      <td>0.035955</td>\n",
       "      <td>-0.020897</td>\n",
       "      <td>0.073604</td>\n",
       "      <td>0.480000</td>\n",
       "      <td>1.000000</td>\n",
       "      <td>0.155178</td>\n",
       "      <td>0.001678</td>\n",
       "      <td>0.144626</td>\n",
       "      <td>-0.016328</td>\n",
       "      <td>0.024659</td>\n",
       "      <td>-0.101635</td>\n",
       "      <td>-0.031181</td>\n",
       "      <td>0.033924</td>\n",
       "      <td>-0.001934</td>\n",
       "      <td>-0.003460</td>\n",
       "      <td>0.045089</td>\n",
       "    </tr>\n",
       "    <tr>\n",
       "      <th>Student</th>\n",
       "      <td>0.065731</td>\n",
       "      <td>-0.028574</td>\n",
       "      <td>-0.033190</td>\n",
       "      <td>0.266164</td>\n",
       "      <td>0.155178</td>\n",
       "      <td>1.000000</td>\n",
       "      <td>-0.027139</td>\n",
       "      <td>0.074059</td>\n",
       "      <td>-0.056957</td>\n",
       "      <td>-0.012939</td>\n",
       "      <td>-0.842155</td>\n",
       "      <td>-0.143941</td>\n",
       "      <td>0.028713</td>\n",
       "      <td>0.289196</td>\n",
       "      <td>0.269756</td>\n",
       "      <td>0.138148</td>\n",
       "    </tr>\n",
       "    <tr>\n",
       "      <th>Country of Birth</th>\n",
       "      <td>-0.068116</td>\n",
       "      <td>0.106964</td>\n",
       "      <td>-0.012308</td>\n",
       "      <td>-0.061439</td>\n",
       "      <td>0.001678</td>\n",
       "      <td>-0.027139</td>\n",
       "      <td>1.000000</td>\n",
       "      <td>-0.020161</td>\n",
       "      <td>0.489173</td>\n",
       "      <td>0.158243</td>\n",
       "      <td>0.037998</td>\n",
       "      <td>0.029432</td>\n",
       "      <td>0.016717</td>\n",
       "      <td>0.008413</td>\n",
       "      <td>0.009205</td>\n",
       "      <td>-0.030408</td>\n",
       "    </tr>\n",
       "    <tr>\n",
       "      <th>Health</th>\n",
       "      <td>-0.001281</td>\n",
       "      <td>-0.012186</td>\n",
       "      <td>-0.003570</td>\n",
       "      <td>0.266296</td>\n",
       "      <td>0.144626</td>\n",
       "      <td>0.074059</td>\n",
       "      <td>-0.020161</td>\n",
       "      <td>1.000000</td>\n",
       "      <td>-0.001658</td>\n",
       "      <td>0.043224</td>\n",
       "      <td>-0.047290</td>\n",
       "      <td>0.102697</td>\n",
       "      <td>-0.032486</td>\n",
       "      <td>-0.046031</td>\n",
       "      <td>-0.042805</td>\n",
       "      <td>0.102297</td>\n",
       "    </tr>\n",
       "    <tr>\n",
       "      <th>Ethnic Group</th>\n",
       "      <td>-0.005863</td>\n",
       "      <td>0.035409</td>\n",
       "      <td>-0.019490</td>\n",
       "      <td>-0.074857</td>\n",
       "      <td>-0.016328</td>\n",
       "      <td>-0.056957</td>\n",
       "      <td>0.489173</td>\n",
       "      <td>-0.001658</td>\n",
       "      <td>1.000000</td>\n",
       "      <td>0.251995</td>\n",
       "      <td>0.049005</td>\n",
       "      <td>0.013698</td>\n",
       "      <td>0.043975</td>\n",
       "      <td>-0.030858</td>\n",
       "      <td>-0.028001</td>\n",
       "      <td>-0.015898</td>\n",
       "    </tr>\n",
       "    <tr>\n",
       "      <th>Religion</th>\n",
       "      <td>-0.019373</td>\n",
       "      <td>0.012173</td>\n",
       "      <td>-0.016088</td>\n",
       "      <td>0.024673</td>\n",
       "      <td>0.024659</td>\n",
       "      <td>-0.012939</td>\n",
       "      <td>0.158243</td>\n",
       "      <td>0.043224</td>\n",
       "      <td>0.251995</td>\n",
       "      <td>1.000000</td>\n",
       "      <td>0.026479</td>\n",
       "      <td>0.013539</td>\n",
       "      <td>0.001897</td>\n",
       "      <td>-0.020490</td>\n",
       "      <td>-0.019640</td>\n",
       "      <td>0.001742</td>\n",
       "    </tr>\n",
       "    <tr>\n",
       "      <th>Economic Activity</th>\n",
       "      <td>-0.070308</td>\n",
       "      <td>0.024265</td>\n",
       "      <td>-0.052653</td>\n",
       "      <td>-0.149102</td>\n",
       "      <td>-0.101635</td>\n",
       "      <td>-0.842155</td>\n",
       "      <td>0.037998</td>\n",
       "      <td>-0.047290</td>\n",
       "      <td>0.049005</td>\n",
       "      <td>0.026479</td>\n",
       "      <td>1.000000</td>\n",
       "      <td>0.095123</td>\n",
       "      <td>-0.067782</td>\n",
       "      <td>-0.230882</td>\n",
       "      <td>-0.216365</td>\n",
       "      <td>-0.110149</td>\n",
       "    </tr>\n",
       "    <tr>\n",
       "      <th>Occupation</th>\n",
       "      <td>0.053787</td>\n",
       "      <td>0.009360</td>\n",
       "      <td>-0.006854</td>\n",
       "      <td>-0.079261</td>\n",
       "      <td>-0.031181</td>\n",
       "      <td>-0.143941</td>\n",
       "      <td>0.029432</td>\n",
       "      <td>0.102697</td>\n",
       "      <td>0.013698</td>\n",
       "      <td>0.013539</td>\n",
       "      <td>0.095123</td>\n",
       "      <td>1.000000</td>\n",
       "      <td>-0.197707</td>\n",
       "      <td>-0.236239</td>\n",
       "      <td>-0.221490</td>\n",
       "      <td>0.588824</td>\n",
       "    </tr>\n",
       "    <tr>\n",
       "      <th>Industry</th>\n",
       "      <td>0.008408</td>\n",
       "      <td>-0.001668</td>\n",
       "      <td>0.314458</td>\n",
       "      <td>0.017773</td>\n",
       "      <td>0.033924</td>\n",
       "      <td>0.028713</td>\n",
       "      <td>0.016717</td>\n",
       "      <td>-0.032486</td>\n",
       "      <td>0.043975</td>\n",
       "      <td>0.001897</td>\n",
       "      <td>-0.067782</td>\n",
       "      <td>-0.197707</td>\n",
       "      <td>1.000000</td>\n",
       "      <td>-0.113168</td>\n",
       "      <td>-0.107437</td>\n",
       "      <td>-0.166273</td>\n",
       "    </tr>\n",
       "    <tr>\n",
       "      <th>Hours worked per week</th>\n",
       "      <td>-0.032280</td>\n",
       "      <td>-0.004269</td>\n",
       "      <td>-0.304099</td>\n",
       "      <td>0.010729</td>\n",
       "      <td>-0.001934</td>\n",
       "      <td>0.289196</td>\n",
       "      <td>0.008413</td>\n",
       "      <td>-0.046031</td>\n",
       "      <td>-0.030858</td>\n",
       "      <td>-0.020490</td>\n",
       "      <td>-0.230882</td>\n",
       "      <td>-0.236239</td>\n",
       "      <td>-0.113168</td>\n",
       "      <td>1.000000</td>\n",
       "      <td>0.936231</td>\n",
       "      <td>-0.118075</td>\n",
       "    </tr>\n",
       "    <tr>\n",
       "      <th>No of hours</th>\n",
       "      <td>-0.030135</td>\n",
       "      <td>-0.004243</td>\n",
       "      <td>-0.286324</td>\n",
       "      <td>0.008495</td>\n",
       "      <td>-0.003460</td>\n",
       "      <td>0.269756</td>\n",
       "      <td>0.009205</td>\n",
       "      <td>-0.042805</td>\n",
       "      <td>-0.028001</td>\n",
       "      <td>-0.019640</td>\n",
       "      <td>-0.216365</td>\n",
       "      <td>-0.221490</td>\n",
       "      <td>-0.107437</td>\n",
       "      <td>0.936231</td>\n",
       "      <td>1.000000</td>\n",
       "      <td>-0.110856</td>\n",
       "    </tr>\n",
       "    <tr>\n",
       "      <th>Approximated Social Grade</th>\n",
       "      <td>0.528297</td>\n",
       "      <td>-0.351875</td>\n",
       "      <td>-0.001556</td>\n",
       "      <td>0.051279</td>\n",
       "      <td>0.045089</td>\n",
       "      <td>0.138148</td>\n",
       "      <td>-0.030408</td>\n",
       "      <td>0.102297</td>\n",
       "      <td>-0.015898</td>\n",
       "      <td>0.001742</td>\n",
       "      <td>-0.110149</td>\n",
       "      <td>0.588824</td>\n",
       "      <td>-0.166273</td>\n",
       "      <td>-0.118075</td>\n",
       "      <td>-0.110856</td>\n",
       "      <td>1.000000</td>\n",
       "    </tr>\n",
       "  </tbody>\n",
       "</table>\n",
       "</div>"
      ],
      "text/plain": [
       "                           Family Composition  Population Base       Sex  \\\n",
       "Family Composition                   1.000000        -0.344031  0.101559   \n",
       "Population Base                     -0.344031         1.000000 -0.004916   \n",
       "Sex                                  0.101559        -0.004916  1.000000   \n",
       "Age                                 -0.054160        -0.035664 -0.023711   \n",
       "Marital Status                       0.035955        -0.020897  0.073604   \n",
       "Student                              0.065731        -0.028574 -0.033190   \n",
       "Country of Birth                    -0.068116         0.106964 -0.012308   \n",
       "Health                              -0.001281        -0.012186 -0.003570   \n",
       "Ethnic Group                        -0.005863         0.035409 -0.019490   \n",
       "Religion                            -0.019373         0.012173 -0.016088   \n",
       "Economic Activity                   -0.070308         0.024265 -0.052653   \n",
       "Occupation                           0.053787         0.009360 -0.006854   \n",
       "Industry                             0.008408        -0.001668  0.314458   \n",
       "Hours worked per week               -0.032280        -0.004269 -0.304099   \n",
       "No of hours                         -0.030135        -0.004243 -0.286324   \n",
       "Approximated Social Grade            0.528297        -0.351875 -0.001556   \n",
       "\n",
       "                                Age  Marital Status   Student  \\\n",
       "Family Composition        -0.054160        0.035955  0.065731   \n",
       "Population Base           -0.035664       -0.020897 -0.028574   \n",
       "Sex                       -0.023711        0.073604 -0.033190   \n",
       "Age                        1.000000        0.480000  0.266164   \n",
       "Marital Status             0.480000        1.000000  0.155178   \n",
       "Student                    0.266164        0.155178  1.000000   \n",
       "Country of Birth          -0.061439        0.001678 -0.027139   \n",
       "Health                     0.266296        0.144626  0.074059   \n",
       "Ethnic Group              -0.074857       -0.016328 -0.056957   \n",
       "Religion                   0.024673        0.024659 -0.012939   \n",
       "Economic Activity         -0.149102       -0.101635 -0.842155   \n",
       "Occupation                -0.079261       -0.031181 -0.143941   \n",
       "Industry                   0.017773        0.033924  0.028713   \n",
       "Hours worked per week      0.010729       -0.001934  0.289196   \n",
       "No of hours                0.008495       -0.003460  0.269756   \n",
       "Approximated Social Grade  0.051279        0.045089  0.138148   \n",
       "\n",
       "                           Country of Birth    Health  Ethnic Group  Religion  \\\n",
       "Family Composition                -0.068116 -0.001281     -0.005863 -0.019373   \n",
       "Population Base                    0.106964 -0.012186      0.035409  0.012173   \n",
       "Sex                               -0.012308 -0.003570     -0.019490 -0.016088   \n",
       "Age                               -0.061439  0.266296     -0.074857  0.024673   \n",
       "Marital Status                     0.001678  0.144626     -0.016328  0.024659   \n",
       "Student                           -0.027139  0.074059     -0.056957 -0.012939   \n",
       "Country of Birth                   1.000000 -0.020161      0.489173  0.158243   \n",
       "Health                            -0.020161  1.000000     -0.001658  0.043224   \n",
       "Ethnic Group                       0.489173 -0.001658      1.000000  0.251995   \n",
       "Religion                           0.158243  0.043224      0.251995  1.000000   \n",
       "Economic Activity                  0.037998 -0.047290      0.049005  0.026479   \n",
       "Occupation                         0.029432  0.102697      0.013698  0.013539   \n",
       "Industry                           0.016717 -0.032486      0.043975  0.001897   \n",
       "Hours worked per week              0.008413 -0.046031     -0.030858 -0.020490   \n",
       "No of hours                        0.009205 -0.042805     -0.028001 -0.019640   \n",
       "Approximated Social Grade         -0.030408  0.102297     -0.015898  0.001742   \n",
       "\n",
       "                           Economic Activity  Occupation  Industry  \\\n",
       "Family Composition                 -0.070308    0.053787  0.008408   \n",
       "Population Base                     0.024265    0.009360 -0.001668   \n",
       "Sex                                -0.052653   -0.006854  0.314458   \n",
       "Age                                -0.149102   -0.079261  0.017773   \n",
       "Marital Status                     -0.101635   -0.031181  0.033924   \n",
       "Student                            -0.842155   -0.143941  0.028713   \n",
       "Country of Birth                    0.037998    0.029432  0.016717   \n",
       "Health                             -0.047290    0.102697 -0.032486   \n",
       "Ethnic Group                        0.049005    0.013698  0.043975   \n",
       "Religion                            0.026479    0.013539  0.001897   \n",
       "Economic Activity                   1.000000    0.095123 -0.067782   \n",
       "Occupation                          0.095123    1.000000 -0.197707   \n",
       "Industry                           -0.067782   -0.197707  1.000000   \n",
       "Hours worked per week              -0.230882   -0.236239 -0.113168   \n",
       "No of hours                        -0.216365   -0.221490 -0.107437   \n",
       "Approximated Social Grade          -0.110149    0.588824 -0.166273   \n",
       "\n",
       "                           Hours worked per week  No of hours  \\\n",
       "Family Composition                     -0.032280    -0.030135   \n",
       "Population Base                        -0.004269    -0.004243   \n",
       "Sex                                    -0.304099    -0.286324   \n",
       "Age                                     0.010729     0.008495   \n",
       "Marital Status                         -0.001934    -0.003460   \n",
       "Student                                 0.289196     0.269756   \n",
       "Country of Birth                        0.008413     0.009205   \n",
       "Health                                 -0.046031    -0.042805   \n",
       "Ethnic Group                           -0.030858    -0.028001   \n",
       "Religion                               -0.020490    -0.019640   \n",
       "Economic Activity                      -0.230882    -0.216365   \n",
       "Occupation                             -0.236239    -0.221490   \n",
       "Industry                               -0.113168    -0.107437   \n",
       "Hours worked per week                   1.000000     0.936231   \n",
       "No of hours                             0.936231     1.000000   \n",
       "Approximated Social Grade              -0.118075    -0.110856   \n",
       "\n",
       "                           Approximated Social Grade  \n",
       "Family Composition                          0.528297  \n",
       "Population Base                            -0.351875  \n",
       "Sex                                        -0.001556  \n",
       "Age                                         0.051279  \n",
       "Marital Status                              0.045089  \n",
       "Student                                     0.138148  \n",
       "Country of Birth                           -0.030408  \n",
       "Health                                      0.102297  \n",
       "Ethnic Group                               -0.015898  \n",
       "Religion                                    0.001742  \n",
       "Economic Activity                          -0.110149  \n",
       "Occupation                                  0.588824  \n",
       "Industry                                   -0.166273  \n",
       "Hours worked per week                      -0.118075  \n",
       "No of hours                                -0.110856  \n",
       "Approximated Social Grade                   1.000000  "
      ]
     },
     "execution_count": 95,
     "metadata": {},
     "output_type": "execute_result"
    }
   ],
   "source": [
    "# Pearson's correlation of the features\n",
    "\n",
    "data3.corr()"
   ]
  },
  {
   "cell_type": "code",
   "execution_count": 96,
   "metadata": {},
   "outputs": [
    {
     "data": {
      "text/plain": [
       "<matplotlib.axes._subplots.AxesSubplot at 0x21b9d9c1ac8>"
      ]
     },
     "execution_count": 96,
     "metadata": {},
     "output_type": "execute_result"
    },
    {
     "data": {
      "image/png": "[encoded data removed]",
      "text/plain": [
       "<Figure size 1080x864 with 2 Axes>"
      ]
     },
     "metadata": {},
     "output_type": "display_data"
    }
   ],
   "source": [
    "# A better way to represent the correlation with heatmap plot\n",
    "\n",
    "sns.set(rc={'figure.figsize':(15,12)})\n",
    "sns.heatmap(data.corr(), annot = True)"
   ]
  },
  {
   "cell_type": "code",
   "execution_count": 97,
   "metadata": {},
   "outputs": [],
   "source": [
    "# Student, Eeconomic Activity, Family Composition, Approximated Social Grade, Occupation,\n",
    "# Hours per week, Age, Maritial Status\n",
    "# columns have the strong correlation"
   ]
  },
  {
   "cell_type": "code",
   "execution_count": 109,
   "metadata": {},
   "outputs": [],
   "source": [
    "X1 = data3[['Family Composition',\n",
    "       'Sex', 'Age', 'Marital Status', 'Student',\n",
    "       'Country of Birth', 'Ethnic Group',\n",
    "       'Economic Activity', 'Occupation', 'Industry', 'Hours worked per week',\n",
    "       'Approximated Social Grade']]\n",
    "\n",
    "y1 = data3['No of hours']\n"
   ]
  },
  {
   "cell_type": "code",
   "execution_count": 110,
   "metadata": {},
   "outputs": [],
   "source": [
    "from sklearn.model_selection import train_test_split\n",
    "X_train1, X_test1, y_train1, y_test1 = train_test_split(X1, y1, test_size=0.33, random_state=42)"
   ]
  },
  {
   "cell_type": "markdown",
   "metadata": {},
   "source": [
    "***"
   ]
  },
  {
   "cell_type": "markdown",
   "metadata": {},
   "source": [
    "#### Linear Regression"
   ]
  },
  {
   "cell_type": "code",
   "execution_count": 111,
   "metadata": {},
   "outputs": [],
   "source": [
    "from sklearn.linear_model import LinearRegression"
   ]
  },
  {
   "cell_type": "code",
   "execution_count": 112,
   "metadata": {},
   "outputs": [],
   "source": [
    "lr = LinearRegression()"
   ]
  },
  {
   "cell_type": "code",
   "execution_count": 113,
   "metadata": {},
   "outputs": [
    {
     "data": {
      "text/plain": [
       "LinearRegression(copy_X=True, fit_intercept=True, n_jobs=None, normalize=False)"
      ]
     },
     "execution_count": 113,
     "metadata": {},
     "output_type": "execute_result"
    }
   ],
   "source": [
    "lr.fit(X_train1, y_train1)"
   ]
  },
  {
   "cell_type": "code",
   "execution_count": 115,
   "metadata": {},
   "outputs": [
    {
     "data": {
      "text/plain": [
       "0.8759518157329018"
      ]
     },
     "execution_count": 115,
     "metadata": {},
     "output_type": "execute_result"
    }
   ],
   "source": [
    "lr.score(X_test1, y_test1)"
   ]
  },
  {
   "cell_type": "markdown",
   "metadata": {},
   "source": [
    "***"
   ]
  },
  {
   "cell_type": "markdown",
   "metadata": {},
   "source": [
    "#### Decision Tree Regressor"
   ]
  },
  {
   "cell_type": "code",
   "execution_count": 116,
   "metadata": {},
   "outputs": [
    {
     "data": {
      "text/plain": [
       "DecisionTreeRegressor(ccp_alpha=0.0, criterion='mse', max_depth=None,\n",
       "                      max_features=None, max_leaf_nodes=None,\n",
       "                      min_impurity_decrease=0.0, min_impurity_split=None,\n",
       "                      min_samples_leaf=1, min_samples_split=2,\n",
       "                      min_weight_fraction_leaf=0.0, presort='deprecated',\n",
       "                      random_state=None, splitter='best')"
      ]
     },
     "execution_count": 116,
     "metadata": {},
     "output_type": "execute_result"
    }
   ],
   "source": [
    "from sklearn.tree import DecisionTreeRegressor\n",
    "dtree = DecisionTreeRegressor()\n",
    "dtree.fit(X_train1, y_train1)"
   ]
  },
  {
   "cell_type": "code",
   "execution_count": 118,
   "metadata": {},
   "outputs": [
    {
     "data": {
      "text/plain": [
       "0.8362693974692426"
      ]
     },
     "execution_count": 118,
     "metadata": {},
     "output_type": "execute_result"
    }
   ],
   "source": [
    "dtree.score(X_test1, y_test1)"
   ]
  },
  {
   "cell_type": "code",
   "execution_count": null,
   "metadata": {},
   "outputs": [],
   "source": []
  }
 ],
 "metadata": {
  "kernelspec": {
   "display_name": "Python 3",
   "language": "python",
   "name": "python3"
  },
  "language_info": {
   "codemirror_mode": {
    "name": "ipython",
    "version": 3
   },
   "file_extension": ".py",
   "mimetype": "text/x-python",
   "name": "python",
   "nbconvert_exporter": "python",
   "pygments_lexer": "ipython3",
   "version": "3.8.8"
  }
 },
 "nbformat": 4,
 "nbformat_minor": 4
}
