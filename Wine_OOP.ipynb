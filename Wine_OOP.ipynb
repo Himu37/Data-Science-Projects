{
 "cells": [
  {
   "cell_type": "code",
   "execution_count": 5,
   "id": "59a14de2",
   "metadata": {},
   "outputs": [],
   "source": [
    "import numpy as np\n",
    "import csv\n",
    "class matrix:\n",
    "    \n",
    "    #creating a instance attribute for importing \"Data.csv\"\n",
    "    def __init__(self, file):\n",
    "        self.file = file\n",
    "        \n",
    "    def load_from_csv(self, file):\n",
    "        #opening the csv file\n",
    "        csvfile = open(self.file)\n",
    "        read = csv.reader(csvfile)\n",
    "        rows = []\n",
    "        arr = []\n",
    "        #importing all the element in array_2d\n",
    "        for row in read:\n",
    "            rows.append(row)\n",
    "        for i in range(len(rows)):\n",
    "            for j in range(len(rows[0])):\n",
    "                a = rows[i][j]\n",
    "                arr.append(float(a))\n",
    "        self.array_2d = (np.array(arr)).reshape(178,13)\n",
    "        return self.array_2d\n",
    "    \n",
    "    def standerdise(self):\n",
    "        self.load_from_csv(self.file)\n",
    "        arr2 = []\n",
    "        for i in range(len(self.array_2d[0])):\n",
    "            for j in range(len(self.array_2d)):\n",
    "                Dij = self.array_2d[j][i]\n",
    "                mean_D = self.array_2d[:,i].mean()\n",
    "                max_D = max(self.array_2d[:,i])\n",
    "                min_D = min(self.array_2d[:,i])\n",
    "                D_stand = (Dij - mean_D)/(max_D-min_D)\n",
    "                arr2.append(D_stand)\n",
    "        k = np.array(arr2)\n",
    "        #Reshaping and transposing the array_2d matrix and transpose\n",
    "        self.array_2d = k.reshape(13,178).T\n",
    "        \n",
    "    def get_distance(self, K, weights, beta):\n",
    "        S = np.zeros((178,1))\n",
    "        w = get_initial_weights(13)\n",
    "        ai = m.array_2d\n",
    "        bi = get_centroids(m.array_2d, S, K)\n",
    "        arr2 = []\n",
    "        \n",
    "        for i in range(178):\n",
    "            arr = []\n",
    "            for c in range(K):\n",
    "                d = 0\n",
    "                for j in range(13):\n",
    "                    #Here the Euclidian distance between array_2d and centroids\n",
    "                    d = d + (w[j]**beta)*(ai[i][j]-bi[c][j])**2\n",
    "                arr.append(d)\n",
    "            k = np.array(arr)\n",
    "            min_dis = k.argmin()\n",
    "            arr2.append(min_dis)\n",
    "            S[i].fill(arr2[i])\n",
    "        #returning the S matrix\n",
    "        return np.array(S)\n",
    "    \n",
    "def get_count_frequency(S):\n",
    "    # find and count unique values\n",
    "    (unique, counts) = np.unique(S,return_counts=True)\n",
    "    frequencies = np.asarray((unique, counts))\n",
    "    return frequencies.T\n",
    "    \n",
    "    \n",
    "def get_initial_weights(m):\n",
    "    arr = []\n",
    "    k = np.random.rand(m)\n",
    "    for i in k:\n",
    "        a = i/sum(k)\n",
    "        arr.append(a)\n",
    "    weights = np.array(arr)\n",
    "    return weights\n",
    "\n",
    "\n",
    "\n",
    "def get_centroids(array_2d, S, K):\n",
    "    centroids = np.empty((178,13))\n",
    "    #taking a random value from 0 to 178\n",
    "    ee = np.random.randint(178)\n",
    "    #taking the step position\n",
    "    cc = ee+K\n",
    "    #copy K different values for centroids\n",
    "    copy = m.array_2d[ee:cc]\n",
    "    centroids = centroids[:K] + copy\n",
    "    return centroids\n",
    "\n",
    "    \n",
    "def get_groups(m, K, beta):\n",
    "    m = matrix('Data.csv')\n",
    "    m.standerdise()\n",
    "    data = m.array_2d\n",
    "    S = np.zeros((178,1))\n",
    "    cen = get_centroids(m.array_2d, S, K)\n",
    "    weights = get_initial_weights(13)\n",
    "    return m.get_distance(K, weights, beta)\n",
    "    \n",
    "\n",
    "def get_new_weights(array_2d, centroids, S):\n",
    "    for i in range(178):\n",
    "        ai = m.array_2d\n",
    "        bi = get_centroids(m.array_2d, S, K)\n",
    "        arr = []\n",
    "        d = 0\n",
    "        for j in range(13):\n",
    "            delta = (ai[i][j]-bi[c][j])**2\n",
    "        arr.append(d)\n",
    "        return arr\n",
    "    \n",
    "    \n",
    "m = matrix('Data.csv')\n",
    "m.standerdise()\n",
    "\n",
    "\n",
    "def run_test():\n",
    "    m = matrix('Data.csv')\n",
    "    for k in range(2,5):\n",
    "        for beta in range(11,25):\n",
    "            S = get_groups(m,k,beta/10)\n",
    "            print(str(k)+'-'+str(beta)+'='+str(get_count_frequency(S)))"
   ]
  },
  {
   "cell_type": "code",
   "execution_count": null,
   "id": "2d194f31",
   "metadata": {},
   "outputs": [],
   "source": []
  },
  {
   "cell_type": "code",
   "execution_count": 6,
   "id": "f85ac06b",
   "metadata": {},
   "outputs": [
    {
     "name": "stdout",
     "output_type": "stream",
     "text": [
      "2-11=[[  0. 121.]\n",
      " [  1.  57.]]\n",
      "2-12=[[  0. 177.]\n",
      " [  1.   1.]]\n",
      "2-13=[[  0. 128.]\n",
      " [  1.  50.]]\n",
      "2-14=[[ 0. 95.]\n",
      " [ 1. 83.]]\n",
      "2-15=[[  0.   8.]\n",
      " [  1. 170.]]\n",
      "2-16=[[  0. 136.]\n",
      " [  1.  42.]]\n",
      "2-17=[[  0. 152.]\n",
      " [  1.  26.]]\n",
      "2-18=[[  0. 136.]\n",
      " [  1.  42.]]\n",
      "2-19=[[  0.  26.]\n",
      " [  1. 152.]]\n",
      "2-20=[[ 0. 96.]\n",
      " [ 1. 82.]]\n",
      "2-21=[[  0. 134.]\n",
      " [  1.  44.]]\n",
      "2-22=[[  0.  78.]\n",
      " [  1. 100.]]\n",
      "2-23=[[  0.  78.]\n",
      " [  1. 100.]]\n",
      "2-24=[[  0.  29.]\n",
      " [  1. 149.]]\n",
      "3-11=[[ 0. 24.]\n",
      " [ 1. 80.]\n",
      " [ 2. 74.]]\n",
      "3-12=[[  0.  48.]\n",
      " [  1.  26.]\n",
      " [  2. 104.]]\n",
      "3-13=[[  0.  15.]\n",
      " [  1. 147.]\n",
      " [  2.  16.]]\n",
      "3-14=[[ 0. 56.]\n",
      " [ 1. 42.]\n",
      " [ 2. 80.]]\n",
      "3-15=[[  0.  24.]\n",
      " [  1. 122.]\n",
      " [  2.  32.]]\n",
      "3-16=[[ 0. 59.]\n",
      " [ 1. 54.]\n",
      " [ 2. 65.]]\n",
      "3-17=[[  0.  13.]\n",
      " [  1.  60.]\n",
      " [  2. 105.]]\n",
      "3-18=[[  0.  36.]\n",
      " [  1. 103.]\n",
      " [  2.  39.]]\n",
      "3-19=[[ 0. 71.]\n",
      " [ 1. 32.]\n",
      " [ 2. 75.]]\n",
      "3-20=[[ 0. 54.]\n",
      " [ 1. 58.]\n",
      " [ 2. 66.]]\n",
      "3-21=[[ 0. 85.]\n",
      " [ 1. 55.]\n",
      " [ 2. 38.]]\n",
      "3-22=[[  0.  28.]\n",
      " [  1.  20.]\n",
      " [  2. 130.]]\n",
      "3-23=[[  0.  37.]\n",
      " [  1. 116.]\n",
      " [  2.  25.]]\n",
      "3-24=[[  0.  10.]\n",
      " [  1.  46.]\n",
      " [  2. 122.]]\n",
      "4-11=[[ 0. 15.]\n",
      " [ 1.  5.]\n",
      " [ 2. 88.]\n",
      " [ 3. 70.]]\n",
      "4-12=[[ 0. 82.]\n",
      " [ 1. 76.]\n",
      " [ 2.  3.]\n",
      " [ 3. 17.]]\n",
      "4-13=[[ 0. 92.]\n",
      " [ 1.  8.]\n",
      " [ 2. 49.]\n",
      " [ 3. 29.]]\n",
      "4-14=[[ 0. 82.]\n",
      " [ 1. 11.]\n",
      " [ 2. 67.]\n",
      " [ 3. 18.]]\n",
      "4-15=[[ 0. 84.]\n",
      " [ 1.  8.]\n",
      " [ 2. 39.]\n",
      " [ 3. 47.]]\n",
      "4-16=[[ 0. 16.]\n",
      " [ 1. 72.]\n",
      " [ 2. 12.]\n",
      " [ 3. 78.]]\n",
      "4-17=[[  0.   5.]\n",
      " [  1.  55.]\n",
      " [  2.  17.]\n",
      " [  3. 101.]]\n",
      "4-18=[[ 0. 12.]\n",
      " [ 1. 80.]\n",
      " [ 2. 40.]\n",
      " [ 3. 46.]]\n",
      "4-19=[[ 0. 80.]\n",
      " [ 1. 18.]\n",
      " [ 2. 31.]\n",
      " [ 3. 49.]]\n",
      "4-20=[[ 0. 73.]\n",
      " [ 1. 62.]\n",
      " [ 2. 11.]\n",
      " [ 3. 32.]]\n",
      "4-21=[[  0.   4.]\n",
      " [  1.  17.]\n",
      " [  2. 117.]\n",
      " [  3.  40.]]\n",
      "4-22=[[ 0. 60.]\n",
      " [ 1. 13.]\n",
      " [ 2. 68.]\n",
      " [ 3. 37.]]\n",
      "4-23=[[  0.  46.]\n",
      " [  1.   7.]\n",
      " [  2. 110.]\n",
      " [  3.  15.]]\n",
      "4-24=[[ 0. 21.]\n",
      " [ 1. 54.]\n",
      " [ 2. 59.]\n",
      " [ 3. 44.]]\n"
     ]
    }
   ],
   "source": [
    "run_test()"
   ]
  },
  {
   "cell_type": "code",
   "execution_count": 15,
   "id": "c6f5696a",
   "metadata": {},
   "outputs": [],
   "source": [
    "m = matrix('Data.csv')"
   ]
  },
  {
   "cell_type": "code",
   "execution_count": 16,
   "id": "e6aaa5fd",
   "metadata": {},
   "outputs": [],
   "source": [
    "m.standerdise()"
   ]
  },
  {
   "cell_type": "code",
   "execution_count": null,
   "id": "bfc4c7bf",
   "metadata": {},
   "outputs": [],
   "source": []
  },
  {
   "cell_type": "code",
   "execution_count": 23,
   "id": "6fa719d6",
   "metadata": {},
   "outputs": [],
   "source": [
    "S = get_groups(m, 4, .2)"
   ]
  },
  {
   "cell_type": "code",
   "execution_count": 24,
   "id": "3e636f01",
   "metadata": {},
   "outputs": [
    {
     "data": {
      "text/plain": [
       "array([[ 0., 74.],\n",
       "       [ 1., 10.],\n",
       "       [ 2., 63.],\n",
       "       [ 3., 31.]])"
      ]
     },
     "execution_count": 24,
     "metadata": {},
     "output_type": "execute_result"
    }
   ],
   "source": [
    "get_count_frequency(S)"
   ]
  },
  {
   "cell_type": "code",
   "execution_count": null,
   "id": "d190aefa",
   "metadata": {},
   "outputs": [],
   "source": []
  },
  {
   "cell_type": "code",
   "execution_count": null,
   "id": "82dca1ab",
   "metadata": {},
   "outputs": [],
   "source": []
  },
  {
   "cell_type": "code",
   "execution_count": null,
   "id": "7cfa8c1d",
   "metadata": {},
   "outputs": [],
   "source": []
  },
  {
   "cell_type": "code",
   "execution_count": 46,
   "id": "c0575c70",
   "metadata": {},
   "outputs": [],
   "source": []
  },
  {
   "cell_type": "code",
   "execution_count": null,
   "id": "0a2ff4a2",
   "metadata": {},
   "outputs": [],
   "source": []
  },
  {
   "cell_type": "code",
   "execution_count": 53,
   "id": "66685f09",
   "metadata": {},
   "outputs": [
    {
     "ename": "TypeError",
     "evalue": "get_count_frequency() takes 1 positional argument but 2 were given",
     "output_type": "error",
     "traceback": [
      "\u001b[1;31m---------------------------------------------------------------------------\u001b[0m",
      "\u001b[1;31mTypeError\u001b[0m                                 Traceback (most recent call last)",
      "\u001b[1;32m<ipython-input-53-fe2892b9d4fc>\u001b[0m in \u001b[0;36m<module>\u001b[1;34m\u001b[0m\n\u001b[1;32m----> 1\u001b[1;33m \u001b[0mm\u001b[0m\u001b[1;33m.\u001b[0m\u001b[0mget_count_frequency\u001b[0m\u001b[1;33m(\u001b[0m\u001b[0mS\u001b[0m\u001b[1;33m)\u001b[0m\u001b[1;33m\u001b[0m\u001b[1;33m\u001b[0m\u001b[0m\n\u001b[0m",
      "\u001b[1;31mTypeError\u001b[0m: get_count_frequency() takes 1 positional argument but 2 were given"
     ]
    }
   ],
   "source": []
  },
  {
   "cell_type": "code",
   "execution_count": null,
   "id": "18d631ef",
   "metadata": {},
   "outputs": [],
   "source": []
  },
  {
   "cell_type": "code",
   "execution_count": 7,
   "id": "36a482a5",
   "metadata": {},
   "outputs": [],
   "source": [
    "weights = get_initial_weights(13)\n",
    "\n",
    "def get_distance(K, weights, beta):\n",
    "    S = np.zeros((178,1))\n",
    "    w = get_initial_weights(13)\n",
    "    ai = m.array_2d\n",
    "    bi = get_centroids(m.array_2d, S, K)\n",
    "    arr2 = []\n",
    "\n",
    "    for i in range(178):\n",
    "        arr = []\n",
    "        for c in range(K):\n",
    "            d = 0\n",
    "            for j in range(13):\n",
    "                d = d + (w[j]**beta)*(ai[i][j]-bi[c][j])**2\n",
    "            arr.append(d)\n",
    "        k = np.array(arr)\n",
    "        min_dis = k.argmin()\n",
    "        arr2.append(min_dis)\n",
    "        S[i].fill(arr2[i])\n",
    "    print(S)"
   ]
  },
  {
   "cell_type": "code",
   "execution_count": 8,
   "id": "5e6d6d2b",
   "metadata": {},
   "outputs": [
    {
     "name": "stdout",
     "output_type": "stream",
     "text": [
      "[[0.]\n",
      " [2.]\n",
      " [0.]\n",
      " [0.]\n",
      " [0.]\n",
      " [0.]\n",
      " [0.]\n",
      " [0.]\n",
      " [2.]\n",
      " [0.]\n",
      " [0.]\n",
      " [2.]\n",
      " [0.]\n",
      " [0.]\n",
      " [0.]\n",
      " [0.]\n",
      " [0.]\n",
      " [0.]\n",
      " [0.]\n",
      " [2.]\n",
      " [0.]\n",
      " [0.]\n",
      " [0.]\n",
      " [0.]\n",
      " [0.]\n",
      " [0.]\n",
      " [0.]\n",
      " [2.]\n",
      " [0.]\n",
      " [0.]\n",
      " [0.]\n",
      " [0.]\n",
      " [0.]\n",
      " [0.]\n",
      " [0.]\n",
      " [0.]\n",
      " [0.]\n",
      " [2.]\n",
      " [2.]\n",
      " [2.]\n",
      " [0.]\n",
      " [2.]\n",
      " [0.]\n",
      " [2.]\n",
      " [0.]\n",
      " [2.]\n",
      " [2.]\n",
      " [0.]\n",
      " [0.]\n",
      " [0.]\n",
      " [0.]\n",
      " [0.]\n",
      " [0.]\n",
      " [0.]\n",
      " [2.]\n",
      " [0.]\n",
      " [0.]\n",
      " [0.]\n",
      " [0.]\n",
      " [2.]\n",
      " [2.]\n",
      " [2.]\n",
      " [2.]\n",
      " [2.]\n",
      " [2.]\n",
      " [0.]\n",
      " [2.]\n",
      " [2.]\n",
      " [2.]\n",
      " [0.]\n",
      " [2.]\n",
      " [2.]\n",
      " [2.]\n",
      " [0.]\n",
      " [0.]\n",
      " [2.]\n",
      " [2.]\n",
      " [2.]\n",
      " [0.]\n",
      " [2.]\n",
      " [2.]\n",
      " [2.]\n",
      " [2.]\n",
      " [2.]\n",
      " [0.]\n",
      " [2.]\n",
      " [2.]\n",
      " [2.]\n",
      " [2.]\n",
      " [2.]\n",
      " [2.]\n",
      " [2.]\n",
      " [2.]\n",
      " [2.]\n",
      " [2.]\n",
      " [0.]\n",
      " [2.]\n",
      " [2.]\n",
      " [0.]\n",
      " [0.]\n",
      " [2.]\n",
      " [2.]\n",
      " [2.]\n",
      " [2.]\n",
      " [2.]\n",
      " [2.]\n",
      " [2.]\n",
      " [2.]\n",
      " [2.]\n",
      " [0.]\n",
      " [1.]\n",
      " [2.]\n",
      " [2.]\n",
      " [2.]\n",
      " [2.]\n",
      " [0.]\n",
      " [2.]\n",
      " [2.]\n",
      " [2.]\n",
      " [2.]\n",
      " [0.]\n",
      " [0.]\n",
      " [2.]\n",
      " [2.]\n",
      " [1.]\n",
      " [2.]\n",
      " [2.]\n",
      " [0.]\n",
      " [2.]\n",
      " [2.]\n",
      " [2.]\n",
      " [2.]\n",
      " [2.]\n",
      " [2.]\n",
      " [2.]\n",
      " [2.]\n",
      " [2.]\n",
      " [2.]\n",
      " [2.]\n",
      " [2.]\n",
      " [2.]\n",
      " [2.]\n",
      " [2.]\n",
      " [2.]\n",
      " [2.]\n",
      " [2.]\n",
      " [2.]\n",
      " [2.]\n",
      " [2.]\n",
      " [2.]\n",
      " [2.]\n",
      " [2.]\n",
      " [2.]\n",
      " [2.]\n",
      " [2.]\n",
      " [2.]\n",
      " [2.]\n",
      " [2.]\n",
      " [2.]\n",
      " [2.]\n",
      " [2.]\n",
      " [2.]\n",
      " [2.]\n",
      " [2.]\n",
      " [2.]\n",
      " [2.]\n",
      " [2.]\n",
      " [2.]\n",
      " [2.]\n",
      " [2.]\n",
      " [2.]\n",
      " [2.]\n",
      " [2.]\n",
      " [2.]\n",
      " [2.]\n",
      " [2.]\n",
      " [2.]\n",
      " [2.]]\n"
     ]
    }
   ],
   "source": [
    "get_distance(3, weights, .2)"
   ]
  },
  {
   "cell_type": "code",
   "execution_count": null,
   "id": "3e720bfc",
   "metadata": {},
   "outputs": [],
   "source": []
  },
  {
   "cell_type": "code",
   "execution_count": 63,
   "id": "f84a36cc",
   "metadata": {},
   "outputs": [],
   "source": [
    "import numpy as np\n",
    "import csv\n",
    "csvfile = open(\"Data.csv\")\n",
    "read = csv.reader(csvfile)\n",
    "rows = []\n",
    "for row in read:\n",
    "    rows.append(row)\n",
    "\n",
    "arr = []\n",
    "    \n",
    "for i in range(len(rows)):\n",
    "    for j in range(len(rows[0])):\n",
    "        a = rows[i][j]\n",
    "        arr.append(float(a))\n",
    "abc = np.array(arr).reshape(178,13)"
   ]
  },
  {
   "cell_type": "code",
   "execution_count": 2,
   "id": "c18c4489",
   "metadata": {},
   "outputs": [],
   "source": [
    "kk = []\n",
    "for i in range(len(abc[0])):\n",
    "    for j in range(len(abc)):\n",
    "        a = abc[j][i]\n",
    "        a_stand = (a - abc[:,i].mean())/(max(abc[:,i])-min(abc[:,i]))\n",
    "        kk.append(a_stand)\n",
    "k = np.array(kk)"
   ]
  },
  {
   "cell_type": "code",
   "execution_count": 3,
   "id": "5e14070f",
   "metadata": {},
   "outputs": [],
   "source": [
    "c = k.reshape(13,178).T"
   ]
  },
  {
   "cell_type": "code",
   "execution_count": 4,
   "id": "ef7871f6",
   "metadata": {},
   "outputs": [
    {
     "data": {
      "text/plain": [
       "array([[ 0.32352158, -0.12378425,  0.03394821, ...,  0.06711428,\n",
       "         0.47923612,  0.22689497],\n",
       "       [ 0.05246895, -0.10995026, -0.12113201, ...,  0.07524436,\n",
       "         0.28875993,  0.21619596],\n",
       "       [ 0.04194264,  0.00467425,  0.16229045, ...,  0.0589842 ,\n",
       "         0.20451084,  0.31248698],\n",
       "       ...,\n",
       "       [ 0.07089001,  0.38412089, -0.05696088, ..., -0.29873938,\n",
       "        -0.38523274,  0.06284361],\n",
       "       [ 0.04457422,  0.05012879,  0.00186264, ..., -0.2906093 ,\n",
       "        -0.36325472,  0.06640994],\n",
       "       [ 0.2972058 ,  0.34854776,  0.19972361, ..., -0.28247922,\n",
       "        -0.37058073, -0.13330475]])"
      ]
     },
     "execution_count": 4,
     "metadata": {},
     "output_type": "execute_result"
    }
   ],
   "source": [
    "c"
   ]
  },
  {
   "cell_type": "code",
   "execution_count": 5,
   "id": "c8ea1a07",
   "metadata": {},
   "outputs": [
    {
     "ename": "NameError",
     "evalue": "name 'matrix' is not defined",
     "output_type": "error",
     "traceback": [
      "\u001b[1;31m---------------------------------------------------------------------------\u001b[0m",
      "\u001b[1;31mNameError\u001b[0m                                 Traceback (most recent call last)",
      "\u001b[1;32m<ipython-input-5-a6099a2cc62d>\u001b[0m in \u001b[0;36m<module>\u001b[1;34m\u001b[0m\n\u001b[1;32m----> 1\u001b[1;33m \u001b[0mm\u001b[0m \u001b[1;33m=\u001b[0m \u001b[0mmatrix\u001b[0m\u001b[1;33m(\u001b[0m\u001b[1;34m'Data.csv'\u001b[0m\u001b[1;33m)\u001b[0m\u001b[1;33m\u001b[0m\u001b[1;33m\u001b[0m\u001b[0m\n\u001b[0m",
      "\u001b[1;31mNameError\u001b[0m: name 'matrix' is not defined"
     ]
    }
   ],
   "source": [
    "m = matrix('Data.csv')"
   ]
  },
  {
   "cell_type": "code",
   "execution_count": 6,
   "id": "f23f8c7e",
   "metadata": {},
   "outputs": [
    {
     "ename": "NameError",
     "evalue": "name 'm' is not defined",
     "output_type": "error",
     "traceback": [
      "\u001b[1;31m---------------------------------------------------------------------------\u001b[0m",
      "\u001b[1;31mNameError\u001b[0m                                 Traceback (most recent call last)",
      "\u001b[1;32m<ipython-input-6-f6c5d621835e>\u001b[0m in \u001b[0;36m<module>\u001b[1;34m\u001b[0m\n\u001b[1;32m----> 1\u001b[1;33m \u001b[0mm\u001b[0m\u001b[1;33m.\u001b[0m\u001b[0mstanderdise\u001b[0m\u001b[1;33m(\u001b[0m\u001b[1;33m)\u001b[0m\u001b[1;33m\u001b[0m\u001b[1;33m\u001b[0m\u001b[0m\n\u001b[0m",
      "\u001b[1;31mNameError\u001b[0m: name 'm' is not defined"
     ]
    }
   ],
   "source": [
    "m.standerdise()"
   ]
  },
  {
   "cell_type": "code",
   "execution_count": null,
   "id": "8a2d8532",
   "metadata": {},
   "outputs": [],
   "source": []
  },
  {
   "cell_type": "code",
   "execution_count": null,
   "id": "f47e8095",
   "metadata": {},
   "outputs": [],
   "source": []
  },
  {
   "cell_type": "code",
   "execution_count": 156,
   "id": "966d8689",
   "metadata": {},
   "outputs": [],
   "source": [
    "def get_initial_weights(m):\n",
    "    arr = []\n",
    "    k = np.random.rand(m)\n",
    "    for i in k:\n",
    "        a = i/sum(k)\n",
    "        arr.append(a)\n",
    "    weights = np.array(arr)\n",
    "    return weights\n"
   ]
  },
  {
   "cell_type": "code",
   "execution_count": 157,
   "id": "f8cfa589",
   "metadata": {},
   "outputs": [
    {
     "data": {
      "text/plain": [
       "array([0.16232222, 0.27835307, 0.02721186, 0.2362019 , 0.29591094])"
      ]
     },
     "execution_count": 157,
     "metadata": {},
     "output_type": "execute_result"
    }
   ],
   "source": [
    "get_initial_weights(5)"
   ]
  },
  {
   "cell_type": "code",
   "execution_count": 158,
   "id": "795af9cb",
   "metadata": {},
   "outputs": [],
   "source": [
    "def get_centroid(array_2d, S, K):\n",
    "    centroids = np.empty((178,13))\n",
    "    S = np.zeros((178,1))\n",
    "    np.random.shuffle(array_2d)\n",
    "    copy = array_2d[:K]\n",
    "    centroids = centroids[:K] + copy\n",
    "    print(centroids)"
   ]
  },
  {
   "cell_type": "code",
   "execution_count": 132,
   "id": "e0dcef60",
   "metadata": {},
   "outputs": [
    {
     "name": "stdout",
     "output_type": "stream",
     "text": [
      "[[ 7.73211118e-003 -2.83863303e-001 -3.51078532e-001 -1.80151743e-001\n",
      "  -1.49364924e-001 -1.19004262e-001  1.54079552e-004 -2.29913080e-001\n",
      "  -4.12930209e-002  7.19010354e+140  8.48378526e+136  4.10113498e+223\n",
      "  -2.53133565e-001]\n",
      " [ 9.11160086e+130  1.09417329e-001 -7.30036652e-002  7.19010354e+140\n",
      "   8.48378526e+136  4.10113498e+223 -1.49634950e-001  9.11160086e+130\n",
      "  -2.02176302e-001 -2.05468420e-001  7.19010354e+140  8.48378526e+136\n",
      "   4.10113498e+223]\n",
      " [-1.76478415e-001  9.11160086e+130 -2.22736286e-001 -2.42007413e-001\n",
      "   7.19010354e+140  8.48378526e+136  4.10113498e+223 -2.23659105e-002\n",
      "   9.11160086e+130 -1.41475246e-001  8.33744405e-002  7.19010354e+140\n",
      "   8.48378526e+136]]\n"
     ]
    }
   ],
   "source": [
    "centroids = np.empty((178,13))\n",
    "S = np.zeros((178,1))\n",
    "ee = np.random.randint(178)\n",
    "cc = ee+3\n",
    "copy = m.array_2d[ee:cc]\n",
    "centroids = centroids[:3] + copy\n",
    "print(centroids)"
   ]
  },
  {
   "cell_type": "code",
   "execution_count": 133,
   "id": "0b1018cc",
   "metadata": {},
   "outputs": [],
   "source": [
    "ee = np.random.randint(10)\n",
    "cc = ee+3"
   ]
  },
  {
   "cell_type": "code",
   "execution_count": 134,
   "id": "c9e91fca",
   "metadata": {},
   "outputs": [
    {
     "data": {
      "text/plain": [
       "8"
      ]
     },
     "execution_count": 134,
     "metadata": {},
     "output_type": "execute_result"
    }
   ],
   "source": [
    "ee"
   ]
  },
  {
   "cell_type": "code",
   "execution_count": 135,
   "id": "ead4e728",
   "metadata": {},
   "outputs": [
    {
     "data": {
      "text/plain": [
       "11"
      ]
     },
     "execution_count": 135,
     "metadata": {},
     "output_type": "execute_result"
    }
   ],
   "source": [
    "cc"
   ]
  },
  {
   "cell_type": "code",
   "execution_count": 136,
   "id": "5037af09",
   "metadata": {},
   "outputs": [
    {
     "ename": "NameError",
     "evalue": "name 'get_centroid' is not defined",
     "output_type": "error",
     "traceback": [
      "\u001b[1;31m---------------------------------------------------------------------------\u001b[0m",
      "\u001b[1;31mNameError\u001b[0m                                 Traceback (most recent call last)",
      "\u001b[1;32m<ipython-input-136-b8a3fcf718aa>\u001b[0m in \u001b[0;36m<module>\u001b[1;34m\u001b[0m\n\u001b[1;32m----> 1\u001b[1;33m \u001b[0mget_centroid\u001b[0m\u001b[1;33m(\u001b[0m\u001b[0mm\u001b[0m\u001b[1;33m.\u001b[0m\u001b[0marray_2d\u001b[0m\u001b[1;33m,\u001b[0m \u001b[0mS\u001b[0m\u001b[1;33m,\u001b[0m \u001b[1;36m2\u001b[0m\u001b[1;33m)\u001b[0m\u001b[1;33m\u001b[0m\u001b[1;33m\u001b[0m\u001b[0m\n\u001b[0m",
      "\u001b[1;31mNameError\u001b[0m: name 'get_centroid' is not defined"
     ]
    }
   ],
   "source": [
    "get_centroid(m.array_2d, S, 2)"
   ]
  },
  {
   "cell_type": "code",
   "execution_count": 137,
   "id": "42d18c83",
   "metadata": {},
   "outputs": [],
   "source": [
    "w = get_initial_weights(13)"
   ]
  },
  {
   "cell_type": "code",
   "execution_count": 138,
   "id": "8e377834",
   "metadata": {},
   "outputs": [
    {
     "data": {
      "text/plain": [
       "array([0.03572229, 0.11555091, 0.11920847, 0.05982032, 0.0643693 ,\n",
       "       0.14962806, 0.10975517, 0.07738742, 0.06935338, 0.10281695,\n",
       "       0.01254225, 0.00220563, 0.08163983])"
      ]
     },
     "execution_count": 138,
     "metadata": {},
     "output_type": "execute_result"
    }
   ],
   "source": [
    "w"
   ]
  },
  {
   "cell_type": "code",
   "execution_count": 139,
   "id": "94b38f5f",
   "metadata": {},
   "outputs": [],
   "source": [
    "ai = m.array_2d"
   ]
  },
  {
   "cell_type": "code",
   "execution_count": 140,
   "id": "1cff78ec",
   "metadata": {},
   "outputs": [
    {
     "data": {
      "text/plain": [
       "0.32352158486102883"
      ]
     },
     "execution_count": 140,
     "metadata": {},
     "output_type": "execute_result"
    }
   ],
   "source": [
    "ai[0][0]"
   ]
  },
  {
   "cell_type": "code",
   "execution_count": 141,
   "id": "b372474e",
   "metadata": {},
   "outputs": [],
   "source": [
    "bi = centroids"
   ]
  },
  {
   "cell_type": "code",
   "execution_count": 142,
   "id": "1c11abca",
   "metadata": {},
   "outputs": [
    {
     "data": {
      "text/plain": [
       "0.007732111176818103"
      ]
     },
     "execution_count": 142,
     "metadata": {},
     "output_type": "execute_result"
    }
   ],
   "source": [
    "bi[0][0]"
   ]
  },
  {
   "cell_type": "code",
   "execution_count": 145,
   "id": "f95c5118",
   "metadata": {},
   "outputs": [
    {
     "name": "stdout",
     "output_type": "stream",
     "text": [
      "0\n",
      "0\n",
      "0\n",
      "0\n",
      "0\n",
      "0\n",
      "0\n",
      "0\n",
      "0\n",
      "0\n",
      "0\n",
      "0\n",
      "0\n",
      "0\n",
      "0\n",
      "0\n",
      "0\n",
      "0\n",
      "0\n",
      "0\n",
      "0\n",
      "0\n",
      "0\n",
      "0\n",
      "0\n",
      "0\n",
      "0\n",
      "0\n",
      "0\n",
      "0\n",
      "0\n",
      "0\n",
      "0\n",
      "0\n",
      "0\n",
      "0\n",
      "0\n",
      "0\n",
      "0\n",
      "0\n",
      "0\n",
      "0\n",
      "0\n",
      "0\n",
      "0\n",
      "0\n",
      "0\n",
      "0\n",
      "0\n",
      "0\n",
      "0\n",
      "0\n",
      "0\n",
      "0\n",
      "0\n",
      "0\n",
      "0\n",
      "0\n",
      "0\n",
      "0\n",
      "0\n",
      "0\n",
      "0\n",
      "0\n",
      "0\n",
      "0\n",
      "0\n",
      "0\n",
      "0\n",
      "0\n",
      "0\n",
      "0\n",
      "0\n",
      "0\n",
      "0\n",
      "0\n",
      "0\n",
      "0\n",
      "0\n",
      "0\n",
      "0\n",
      "0\n",
      "0\n",
      "0\n",
      "0\n",
      "0\n",
      "0\n",
      "0\n",
      "0\n",
      "0\n",
      "0\n",
      "0\n",
      "0\n",
      "0\n",
      "0\n",
      "0\n",
      "0\n",
      "0\n",
      "0\n",
      "0\n",
      "0\n",
      "0\n",
      "0\n",
      "0\n",
      "0\n",
      "0\n",
      "0\n",
      "0\n",
      "0\n",
      "0\n",
      "0\n",
      "0\n",
      "0\n",
      "0\n",
      "0\n",
      "0\n",
      "0\n",
      "0\n",
      "0\n",
      "0\n",
      "0\n",
      "0\n",
      "0\n",
      "0\n",
      "0\n",
      "0\n",
      "0\n",
      "0\n",
      "0\n",
      "0\n",
      "0\n",
      "0\n",
      "0\n",
      "0\n",
      "0\n",
      "0\n",
      "0\n",
      "0\n",
      "0\n",
      "0\n",
      "0\n",
      "0\n",
      "0\n",
      "0\n",
      "0\n",
      "0\n",
      "0\n",
      "0\n",
      "0\n",
      "0\n",
      "0\n",
      "0\n",
      "0\n",
      "0\n",
      "0\n",
      "0\n",
      "0\n",
      "0\n",
      "0\n",
      "0\n",
      "0\n",
      "0\n",
      "0\n",
      "0\n",
      "0\n",
      "0\n",
      "0\n",
      "0\n",
      "0\n",
      "0\n",
      "0\n",
      "0\n",
      "0\n",
      "0\n",
      "0\n",
      "0\n",
      "0\n",
      "0\n"
     ]
    },
    {
     "name": "stderr",
     "output_type": "stream",
     "text": [
      "<ipython-input-145-2621e7d99939>:8: RuntimeWarning: overflow encountered in double_scalars\n",
      "  d = d + (w[j]**.2)*(ai[i][j]-bi[c][j])**2\n"
     ]
    }
   ],
   "source": [
    "arr2 =[]\n",
    "S = np.zeros((178,1))\n",
    "for i in range(178):\n",
    "    arr = []\n",
    "    for c in range(3):\n",
    "        d = 0\n",
    "        for j in range(13):\n",
    "            d = d + (w[j]**.2)*(ai[i][j]-bi[c][j])**2\n",
    "        arr.append(d)\n",
    "    k = np.array(arr)\n",
    "    \n",
    "    min_dis = k.argmin()\n",
    "    print(min_dis)\n",
    "    arr2.append(min_dis)\n",
    "    S[i].fill(min_dis)"
   ]
  },
  {
   "cell_type": "code",
   "execution_count": 176,
   "id": "68c7095c",
   "metadata": {},
   "outputs": [
    {
     "data": {
      "text/plain": [
       "array([[1.],\n",
       "       [1.],\n",
       "       [1.],\n",
       "       [1.],\n",
       "       [1.],\n",
       "       [1.],\n",
       "       [1.],\n",
       "       [1.],\n",
       "       [1.],\n",
       "       [1.],\n",
       "       [1.],\n",
       "       [1.],\n",
       "       [1.],\n",
       "       [1.],\n",
       "       [1.],\n",
       "       [1.],\n",
       "       [1.],\n",
       "       [1.],\n",
       "       [1.],\n",
       "       [1.],\n",
       "       [1.],\n",
       "       [1.],\n",
       "       [1.],\n",
       "       [1.],\n",
       "       [1.],\n",
       "       [1.],\n",
       "       [1.],\n",
       "       [1.],\n",
       "       [1.],\n",
       "       [1.],\n",
       "       [1.],\n",
       "       [1.],\n",
       "       [1.],\n",
       "       [1.],\n",
       "       [1.],\n",
       "       [1.],\n",
       "       [1.],\n",
       "       [1.],\n",
       "       [1.],\n",
       "       [1.],\n",
       "       [1.],\n",
       "       [1.],\n",
       "       [1.],\n",
       "       [1.],\n",
       "       [1.],\n",
       "       [1.],\n",
       "       [1.],\n",
       "       [1.],\n",
       "       [1.],\n",
       "       [1.],\n",
       "       [1.],\n",
       "       [1.],\n",
       "       [1.],\n",
       "       [1.],\n",
       "       [1.],\n",
       "       [1.],\n",
       "       [1.],\n",
       "       [1.],\n",
       "       [1.],\n",
       "       [1.],\n",
       "       [1.],\n",
       "       [1.],\n",
       "       [1.],\n",
       "       [1.],\n",
       "       [1.],\n",
       "       [1.],\n",
       "       [1.],\n",
       "       [1.],\n",
       "       [1.],\n",
       "       [1.],\n",
       "       [1.],\n",
       "       [1.],\n",
       "       [1.],\n",
       "       [1.],\n",
       "       [1.],\n",
       "       [1.],\n",
       "       [1.],\n",
       "       [1.],\n",
       "       [1.],\n",
       "       [1.],\n",
       "       [1.],\n",
       "       [1.],\n",
       "       [1.],\n",
       "       [1.],\n",
       "       [1.],\n",
       "       [1.],\n",
       "       [1.],\n",
       "       [1.],\n",
       "       [1.],\n",
       "       [1.],\n",
       "       [1.],\n",
       "       [1.],\n",
       "       [1.],\n",
       "       [1.],\n",
       "       [1.],\n",
       "       [1.],\n",
       "       [1.],\n",
       "       [1.],\n",
       "       [1.],\n",
       "       [1.],\n",
       "       [1.],\n",
       "       [1.],\n",
       "       [1.],\n",
       "       [1.],\n",
       "       [1.],\n",
       "       [1.],\n",
       "       [1.],\n",
       "       [1.],\n",
       "       [1.],\n",
       "       [1.],\n",
       "       [1.],\n",
       "       [1.],\n",
       "       [1.],\n",
       "       [1.],\n",
       "       [1.],\n",
       "       [1.],\n",
       "       [1.],\n",
       "       [1.],\n",
       "       [1.],\n",
       "       [1.],\n",
       "       [1.],\n",
       "       [1.],\n",
       "       [1.],\n",
       "       [1.],\n",
       "       [1.],\n",
       "       [1.],\n",
       "       [1.],\n",
       "       [1.],\n",
       "       [1.],\n",
       "       [1.],\n",
       "       [1.],\n",
       "       [1.],\n",
       "       [1.],\n",
       "       [1.],\n",
       "       [1.],\n",
       "       [1.],\n",
       "       [1.],\n",
       "       [1.],\n",
       "       [1.],\n",
       "       [1.],\n",
       "       [1.],\n",
       "       [1.],\n",
       "       [1.],\n",
       "       [1.],\n",
       "       [1.],\n",
       "       [1.],\n",
       "       [1.],\n",
       "       [1.],\n",
       "       [1.],\n",
       "       [1.],\n",
       "       [1.],\n",
       "       [1.],\n",
       "       [1.],\n",
       "       [1.],\n",
       "       [1.],\n",
       "       [1.],\n",
       "       [1.],\n",
       "       [1.],\n",
       "       [1.],\n",
       "       [1.],\n",
       "       [1.],\n",
       "       [1.],\n",
       "       [1.],\n",
       "       [1.],\n",
       "       [1.],\n",
       "       [1.],\n",
       "       [1.],\n",
       "       [1.],\n",
       "       [1.],\n",
       "       [1.],\n",
       "       [1.],\n",
       "       [1.],\n",
       "       [1.],\n",
       "       [1.],\n",
       "       [1.],\n",
       "       [1.],\n",
       "       [1.],\n",
       "       [1.]])"
      ]
     },
     "execution_count": 176,
     "metadata": {},
     "output_type": "execute_result"
    }
   ],
   "source": [
    "S"
   ]
  },
  {
   "cell_type": "code",
   "execution_count": 177,
   "id": "6e3bb518",
   "metadata": {},
   "outputs": [
    {
     "data": {
      "text/plain": [
       "array([[1.],\n",
       "       [1.],\n",
       "       [1.],\n",
       "       [1.],\n",
       "       [1.],\n",
       "       [1.],\n",
       "       [1.],\n",
       "       [1.],\n",
       "       [1.],\n",
       "       [1.],\n",
       "       [1.],\n",
       "       [1.],\n",
       "       [1.],\n",
       "       [1.],\n",
       "       [1.],\n",
       "       [1.],\n",
       "       [1.],\n",
       "       [1.],\n",
       "       [1.],\n",
       "       [1.],\n",
       "       [1.],\n",
       "       [1.],\n",
       "       [1.],\n",
       "       [1.],\n",
       "       [1.],\n",
       "       [1.],\n",
       "       [1.],\n",
       "       [1.],\n",
       "       [1.],\n",
       "       [1.],\n",
       "       [1.],\n",
       "       [1.],\n",
       "       [1.],\n",
       "       [1.],\n",
       "       [1.],\n",
       "       [1.],\n",
       "       [1.],\n",
       "       [1.],\n",
       "       [1.],\n",
       "       [1.],\n",
       "       [1.],\n",
       "       [1.],\n",
       "       [1.],\n",
       "       [1.],\n",
       "       [1.],\n",
       "       [1.],\n",
       "       [1.],\n",
       "       [1.],\n",
       "       [1.],\n",
       "       [1.],\n",
       "       [1.],\n",
       "       [1.],\n",
       "       [1.],\n",
       "       [1.],\n",
       "       [1.],\n",
       "       [1.],\n",
       "       [1.],\n",
       "       [1.],\n",
       "       [1.],\n",
       "       [1.],\n",
       "       [1.],\n",
       "       [1.],\n",
       "       [1.],\n",
       "       [1.],\n",
       "       [1.],\n",
       "       [1.],\n",
       "       [1.],\n",
       "       [1.],\n",
       "       [1.],\n",
       "       [1.],\n",
       "       [1.],\n",
       "       [1.],\n",
       "       [1.],\n",
       "       [1.],\n",
       "       [1.],\n",
       "       [1.],\n",
       "       [1.],\n",
       "       [1.],\n",
       "       [1.],\n",
       "       [1.],\n",
       "       [1.],\n",
       "       [1.],\n",
       "       [1.],\n",
       "       [1.],\n",
       "       [1.],\n",
       "       [1.],\n",
       "       [1.],\n",
       "       [1.],\n",
       "       [1.],\n",
       "       [1.],\n",
       "       [1.],\n",
       "       [1.],\n",
       "       [1.],\n",
       "       [1.],\n",
       "       [1.],\n",
       "       [1.],\n",
       "       [1.],\n",
       "       [1.],\n",
       "       [1.],\n",
       "       [1.],\n",
       "       [1.],\n",
       "       [1.],\n",
       "       [1.],\n",
       "       [1.],\n",
       "       [1.],\n",
       "       [1.],\n",
       "       [1.],\n",
       "       [1.],\n",
       "       [1.],\n",
       "       [1.],\n",
       "       [1.],\n",
       "       [1.],\n",
       "       [1.],\n",
       "       [1.],\n",
       "       [1.],\n",
       "       [1.],\n",
       "       [1.],\n",
       "       [1.],\n",
       "       [1.],\n",
       "       [1.],\n",
       "       [1.],\n",
       "       [1.],\n",
       "       [1.],\n",
       "       [1.],\n",
       "       [1.],\n",
       "       [1.],\n",
       "       [1.],\n",
       "       [1.],\n",
       "       [1.],\n",
       "       [1.],\n",
       "       [1.],\n",
       "       [1.],\n",
       "       [1.],\n",
       "       [1.],\n",
       "       [1.],\n",
       "       [1.],\n",
       "       [1.],\n",
       "       [1.],\n",
       "       [1.],\n",
       "       [1.],\n",
       "       [1.],\n",
       "       [1.],\n",
       "       [1.],\n",
       "       [1.],\n",
       "       [1.],\n",
       "       [1.],\n",
       "       [1.],\n",
       "       [1.],\n",
       "       [1.],\n",
       "       [1.],\n",
       "       [1.],\n",
       "       [1.],\n",
       "       [1.],\n",
       "       [1.],\n",
       "       [1.],\n",
       "       [1.],\n",
       "       [1.],\n",
       "       [1.],\n",
       "       [1.],\n",
       "       [1.],\n",
       "       [1.],\n",
       "       [1.],\n",
       "       [1.],\n",
       "       [1.],\n",
       "       [1.],\n",
       "       [1.],\n",
       "       [1.],\n",
       "       [1.],\n",
       "       [1.],\n",
       "       [1.],\n",
       "       [1.],\n",
       "       [1.],\n",
       "       [1.],\n",
       "       [1.],\n",
       "       [1.],\n",
       "       [1.],\n",
       "       [1.],\n",
       "       [1.]])"
      ]
     },
     "execution_count": 177,
     "metadata": {},
     "output_type": "execute_result"
    }
   ],
   "source": [
    "S"
   ]
  },
  {
   "cell_type": "code",
   "execution_count": null,
   "id": "3987f11c",
   "metadata": {},
   "outputs": [],
   "source": []
  },
  {
   "cell_type": "code",
   "execution_count": 326,
   "id": "71827cef",
   "metadata": {},
   "outputs": [
    {
     "data": {
      "text/plain": [
       "array([[-0.08700473, -0.26805303, -0.06765607, ...,  0.22158582,\n",
       "         0.20084784, -0.21176409],\n",
       "       [ 0.00773211, -0.2838633 , -0.35107853, ...,  0.1890655 ,\n",
       "        -0.04823641, -0.25313357],\n",
       "       [-0.24226789, -0.18702536,  0.07138136, ..., -0.02231662,\n",
       "         0.21183685, -0.25812643],\n",
       "       ...,\n",
       "       [ 0.07878474, -0.12180797, -0.12113201, ...,  0.05085412,\n",
       "         0.0579907 ,  0.38381365],\n",
       "       [ 0.01299527, -0.05659058,  0.4564081 , ...,  0.14028501,\n",
       "         0.21549986,  0.05927728],\n",
       "       [ 0.04194264,  0.00467425,  0.16229045, ...,  0.0589842 ,\n",
       "         0.20451084,  0.31248698]])"
      ]
     },
     "execution_count": 326,
     "metadata": {},
     "output_type": "execute_result"
    }
   ],
   "source": [
    "m.array_2d"
   ]
  },
  {
   "cell_type": "code",
   "execution_count": null,
   "id": "406f4d61",
   "metadata": {},
   "outputs": [],
   "source": []
  },
  {
   "cell_type": "code",
   "execution_count": 168,
   "id": "4ede68ea",
   "metadata": {},
   "outputs": [],
   "source": [
    "tt = np.zeros((5,1))"
   ]
  },
  {
   "cell_type": "code",
   "execution_count": 169,
   "id": "cfbe54c1",
   "metadata": {},
   "outputs": [
    {
     "data": {
      "text/plain": [
       "array([[0.],\n",
       "       [0.],\n",
       "       [0.],\n",
       "       [0.],\n",
       "       [0.]])"
      ]
     },
     "execution_count": 169,
     "metadata": {},
     "output_type": "execute_result"
    }
   ],
   "source": [
    "tt"
   ]
  },
  {
   "cell_type": "code",
   "execution_count": 170,
   "id": "a1b06090",
   "metadata": {},
   "outputs": [],
   "source": [
    "tt[0].fill(5)"
   ]
  },
  {
   "cell_type": "code",
   "execution_count": 171,
   "id": "0fcf4f37",
   "metadata": {},
   "outputs": [
    {
     "data": {
      "text/plain": [
       "array([[5.],\n",
       "       [0.],\n",
       "       [0.],\n",
       "       [0.],\n",
       "       [0.]])"
      ]
     },
     "execution_count": 171,
     "metadata": {},
     "output_type": "execute_result"
    }
   ],
   "source": [
    "tt"
   ]
  },
  {
   "cell_type": "code",
   "execution_count": null,
   "id": "73329cca",
   "metadata": {},
   "outputs": [],
   "source": []
  },
  {
   "cell_type": "code",
   "execution_count": null,
   "id": "e93bdf70",
   "metadata": {},
   "outputs": [],
   "source": []
  },
  {
   "cell_type": "code",
   "execution_count": null,
   "id": "08e21b18",
   "metadata": {},
   "outputs": [],
   "source": []
  },
  {
   "cell_type": "code",
   "execution_count": 40,
   "id": "7a09d8c6",
   "metadata": {},
   "outputs": [],
   "source": [
    "ar = np.array([[1],[1],[2],[5],[3],[6],[5],[9],[3],[2],[5],[6],[1]])"
   ]
  },
  {
   "cell_type": "code",
   "execution_count": 42,
   "id": "106c4f91",
   "metadata": {},
   "outputs": [
    {
     "data": {
      "text/plain": [
       "array([[1, 1, 2, 5, 3, 6, 5, 9, 3, 2, 5, 6, 1]])"
      ]
     },
     "execution_count": 42,
     "metadata": {},
     "output_type": "execute_result"
    }
   ],
   "source": [
    "ar"
   ]
  },
  {
   "cell_type": "code",
   "execution_count": 41,
   "id": "6b8ef469",
   "metadata": {
    "scrolled": true
   },
   "outputs": [
    {
     "data": {
      "text/plain": [
       "array([1, 2, 3, 5, 6, 9])"
      ]
     },
     "execution_count": 41,
     "metadata": {},
     "output_type": "execute_result"
    }
   ],
   "source": [
    "np.unique(ar)"
   ]
  },
  {
   "cell_type": "code",
   "execution_count": 38,
   "id": "551fea03",
   "metadata": {},
   "outputs": [],
   "source": [
    "(unique, counts) = np.unique(ar,return_counts=True)\n",
    "frequencies = np.asarray((unique, counts)).T"
   ]
  },
  {
   "cell_type": "code",
   "execution_count": 39,
   "id": "5283b526",
   "metadata": {},
   "outputs": [
    {
     "name": "stdout",
     "output_type": "stream",
     "text": [
      "[[1 3]\n",
      " [2 2]\n",
      " [3 2]\n",
      " [5 3]\n",
      " [6 2]\n",
      " [9 1]]\n"
     ]
    }
   ],
   "source": [
    "print(frequencies)"
   ]
  },
  {
   "cell_type": "code",
   "execution_count": null,
   "id": "af0e2792",
   "metadata": {},
   "outputs": [],
   "source": []
  },
  {
   "cell_type": "code",
   "execution_count": null,
   "id": "b52de3dc",
   "metadata": {},
   "outputs": [],
   "source": []
  },
  {
   "cell_type": "code",
   "execution_count": null,
   "id": "baf7507e",
   "metadata": {},
   "outputs": [],
   "source": []
  },
  {
   "cell_type": "code",
   "execution_count": null,
   "id": "ad157da9",
   "metadata": {},
   "outputs": [],
   "source": []
  },
  {
   "cell_type": "code",
   "execution_count": null,
   "id": "1d36ef4b",
   "metadata": {},
   "outputs": [],
   "source": []
  },
  {
   "cell_type": "code",
   "execution_count": null,
   "id": "5f204ab5",
   "metadata": {},
   "outputs": [],
   "source": []
  },
  {
   "cell_type": "code",
   "execution_count": null,
   "id": "792a4b1f",
   "metadata": {},
   "outputs": [],
   "source": []
  }
 ],
 "metadata": {
  "kernelspec": {
   "display_name": "Python 3",
   "language": "python",
   "name": "python3"
  },
  "language_info": {
   "codemirror_mode": {
    "name": "ipython",
    "version": 3
   },
   "file_extension": ".py",
   "mimetype": "text/x-python",
   "name": "python",
   "nbconvert_exporter": "python",
   "pygments_lexer": "ipython3",
   "version": "3.8.8"
  }
 },
 "nbformat": 4,
 "nbformat_minor": 5
}
